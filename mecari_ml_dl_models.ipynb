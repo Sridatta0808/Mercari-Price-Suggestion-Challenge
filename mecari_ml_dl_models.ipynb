{
 "cells": [
  {
   "cell_type": "code",
   "execution_count": 1,
   "metadata": {
    "colab": {
     "base_uri": "https://localhost:8080/",
     "height": 124
    },
    "colab_type": "code",
    "executionInfo": {
     "elapsed": 24632,
     "status": "ok",
     "timestamp": 1587540760931,
     "user": {
      "displayName": "Sridatta Marati",
      "photoUrl": "",
      "userId": "13444678406649845318"
     },
     "user_tz": -330
    },
    "id": "wXmGqycFZ6db",
    "outputId": "ff1ec887-345b-48d7-820e-f11522f40b14"
   },
   "outputs": [
    {
     "name": "stdout",
     "output_type": "stream",
     "text": [
      "Go to this URL in a browser: https://accounts.google.com/o/oauth2/auth?client_id=947318989803-6bn6qk8qdgf4n4g3pfee6491hc0brc4i.apps.googleusercontent.com&redirect_uri=urn%3aietf%3awg%3aoauth%3a2.0%3aoob&response_type=code&scope=email%20https%3a%2f%2fwww.googleapis.com%2fauth%2fdocs.test%20https%3a%2f%2fwww.googleapis.com%2fauth%2fdrive%20https%3a%2f%2fwww.googleapis.com%2fauth%2fdrive.photos.readonly%20https%3a%2f%2fwww.googleapis.com%2fauth%2fpeopleapi.readonly\n",
      "\n",
      "Enter your authorization code:\n",
      "··········\n",
      "Mounted at /content/drive\n"
     ]
    }
   ],
   "source": [
    "from google.colab import drive\n",
    "drive.mount('/content/drive')"
   ]
  },
  {
   "cell_type": "code",
   "execution_count": 2,
   "metadata": {
    "colab": {
     "base_uri": "https://localhost:8080/",
     "height": 35
    },
    "colab_type": "code",
    "executionInfo": {
     "elapsed": 5666,
     "status": "ok",
     "timestamp": 1587540768856,
     "user": {
      "displayName": "Sridatta Marati",
      "photoUrl": "",
      "userId": "13444678406649845318"
     },
     "user_tz": -330
    },
    "id": "dlkoxFJNZ-a2",
    "outputId": "7fe7f19c-ece7-477a-b2e4-15ceea878053"
   },
   "outputs": [
    {
     "name": "stderr",
     "output_type": "stream",
     "text": [
      "Using TensorFlow backend.\n"
     ]
    }
   ],
   "source": [
    "# Importing Libraries.\n",
    "from datetime import datetime \n",
    "start_real = datetime.now()\n",
    "import numpy as np\n",
    "import pandas as pd\n",
    "import math\n",
    "import pickle\n",
    "from nltk.corpus import stopwords\n",
    "from tqdm import tqdm\n",
    "\n",
    "from sklearn.preprocessing import LabelEncoder\n",
    "from sklearn.model_selection import train_test_split\n",
    "from sklearn.linear_model import Ridge\n",
    "from sklearn.linear_model import RidgeCV\n",
    "from sklearn.feature_extraction.text import CountVectorizer, TfidfVectorizer\n",
    "from sklearn.linear_model import RidgeCV\n",
    "from sklearn.pipeline import FeatureUnion\n",
    "\n",
    "from keras.preprocessing.text import Tokenizer\n",
    "from keras.preprocessing.sequence import pad_sequences\n",
    "from keras.layers import Input, Dropout, Dense, concatenate\n",
    "from keras.layers import GRU, Embedding, Flatten, Activation\n",
    "from keras.models import Model\n",
    "\n",
    "from sklearn.linear_model import Ridge, LogisticRegression\n",
    "from sklearn.metrics import mean_squared_error\n",
    "from sklearn.metrics import mean_absolute_error\n",
    "from sklearn.ensemble import RandomForestClassifier\n",
    "from sklearn.pipeline import Pipeline\n",
    "from sklearn.model_selection import GridSearchCV\n",
    "from sklearn.ensemble import RandomForestRegressor\n",
    "from sklearn.model_selection import RandomizedSearchCV\n",
    "from scipy.stats import randint as sp_randint\n",
    "from sklearn.tree import DecisionTreeRegressor\n",
    "from sklearn.svm import SVR\n",
    "\n",
    "from keras.layers import Input, Dense, Embedding, Dense, Dropout, Flatten, Conv1D, GlobalMaxPooling1D, BatchNormalization, LSTM, GRU\n",
    "from keras.models import Model\n",
    "from keras import optimizers"
   ]
  },
  {
   "cell_type": "code",
   "execution_count": 0,
   "metadata": {
    "colab": {},
    "colab_type": "code",
    "id": "UTHlsEuQaH8P"
   },
   "outputs": [],
   "source": [
    "# Defining Utility Functions :\n",
    "\n",
    "# 1. RMSLE Function \n",
    "def rmsle(y, y_pred): # return Rmsle value.\n",
    "    return np.sqrt(np.mean(np.square(y_pred - y )))  \n",
    "    \n",
    "#------------------------------------------------------------------\n",
    "\n",
    "# 2. Word Count Function.\n",
    "def word_count(text):\n",
    "    try:\n",
    "        if text == 'No description yet':\n",
    "            return 0 # for the data point with string \"No description yet\" returns word count 0.\n",
    "        else:\n",
    "            text = text.lower()\n",
    "            words = []\n",
    "            for w in text.split(\" \"):\n",
    "              words.append(w)\n",
    "            return len(words)\n",
    "    except: \n",
    "        return 0\n",
    "\n",
    "#------------------------------------------------------------------\n",
    "\n",
    "\n",
    "# 3.Splitting category into sub categories.\n",
    "def cat_split(column, sub_cat):\n",
    "    category = []\n",
    "    for i in range(len(train)):\n",
    "        try:\n",
    "            category.append(train[column].values[i].split(\"/\")[sub_cat])\n",
    "        except:\n",
    "            category.append(\"No Label\") # If there is no sub category it repalces No Label.\n",
    "            \n",
    "    return category\n",
    "\n",
    "def cat_split_test(column, sub_cat):\n",
    "    category = []\n",
    "    for i in range(len(test)):\n",
    "        try:\n",
    "            category.append(test[column].values[i].split(\"/\")[sub_cat])\n",
    "        except:\n",
    "            category.append(\"No Label\") # If there is no sub category it repalces No Label.\n",
    "    return category\n",
    "\n",
    "#------------------------------------------------------------------\n",
    "\n",
    "\n",
    "# 4. finding missing brands.\n",
    "#https://www.kaggle.com/valkling/mercari-rnn-2ridge-models-with-notes-0-42755\n",
    "# The Brand Name has 600,000 Missing Values. This Function will replace the data. \n",
    "def finding_brand(row_n):\n",
    "    brand_row = row_n[0]\n",
    "    name = row_n[1]\n",
    "    namesplit = name.split(' ') # for missing brand we check every word in the name column\n",
    "    if brand_row == 'missing':\n",
    "        for x in namesplit: # Then we check for every word in brand vocabulary.if exists retur name\n",
    "            if x in brand_vocab:\n",
    "                return name \n",
    "    if name in brand_vocab:\n",
    "        return name\n",
    "    return brand_row\n",
    "\n",
    "#------------------------------------------------------------------\n",
    "\n",
    "# 5. Filling Missing values. Filling Columns names, category_name, item_description, brand_name \n",
    "def fill_missing_values(df):\n",
    "    df.category_name.fillna(value=\"missing\", inplace=True)\n",
    "    df.brand_name.fillna(value=\"missing\", inplace=True)\n",
    "    df.item_description.fillna(value=\"missing\", inplace=True)\n",
    "    df.item_description.replace('No description yet',\"missing\", inplace=True)\n",
    "    return df"
   ]
  },
  {
   "cell_type": "markdown",
   "metadata": {
    "colab_type": "text",
    "id": "x4tm1HQXZ7iL"
   },
   "source": [
    "# **Machine Learning Models**\n"
   ]
  },
  {
   "cell_type": "code",
   "execution_count": 0,
   "metadata": {
    "colab": {
     "base_uri": "https://localhost:8080/",
     "height": 633
    },
    "colab_type": "code",
    "executionInfo": {
     "elapsed": 94567,
     "status": "ok",
     "timestamp": 1586762711255,
     "user": {
      "displayName": "Sridatta Marati",
      "photoUrl": "",
      "userId": "13444678406649845318"
     },
     "user_tz": -330
    },
    "id": "UCDZeswAaIEi",
    "outputId": "26d322ac-2b8a-49e1-d017-b5b3ec72892a"
   },
   "outputs": [
    {
     "name": "stdout",
     "output_type": "stream",
     "text": [
      "Importing Train Data:\n",
      "Shape of Train Data: (1482535, 8)\n",
      "Checking For NaN in the data...\n",
      "train_id             False\n",
      "name                 False\n",
      "item_condition_id    False\n",
      "category_name         True\n",
      "brand_name            True\n",
      "price                False\n",
      "shipping             False\n",
      "item_description      True\n",
      "dtype: bool\n",
      "Removing rows which has price value less than 5\n",
      "Computing Word Count of item_description\n",
      "Computing Word Count of name\n",
      "Splitting category_name to sub categories\n",
      "Performing Feature Engineering and preprocessing :\n",
      "Filling Missing values in the Brand name...\n",
      "Total Missing Values: 607593\n",
      "Total Detected brand names : 125239\n",
      "Electronics/Computers & Tablets/Components & Parts\n",
      "Verifying Null Values in the data : train_id             False\n",
      "name                 False\n",
      "item_condition_id    False\n",
      "category_name        False\n",
      "brand_name           False\n",
      "price                False\n",
      "shipping             False\n",
      "item_description     False\n",
      "desc_len             False\n",
      "name_len             False\n",
      "subcat_0             False\n",
      "subcat_1             False\n",
      "subcat_2             False\n",
      "dtype: bool\n",
      "Converting Columns to Strings : \n",
      "Natural Logarithm on Price...\n"
     ]
    }
   ],
   "source": [
    "# Import Train Data.\n",
    "print(\"Importing Train Data:\")\n",
    "train = pd.read_table('/content/drive/My Drive/train.tsv')\n",
    "print(\"Shape of Train Data:\", train.shape)\n",
    "print(\"Checking For NaN in the data...\")\n",
    "print(train.isnull().any())\n",
    "print(\"Removing rows which has price value less than 5\")\n",
    "# Removing Lower Prices which are less than 5. As Majority of the prices range above 5\n",
    "train = train.drop(train[(train.price < 5.0)].index)\n",
    "print(\"Computing Word Count of item_description\")\n",
    "train['desc_len'] = train['item_description'].apply(lambda x: word_count(x))\n",
    "print(\"Computing Word Count of name\")\n",
    "train['name_len'] = train['name'].apply(lambda x: word_count(x))\n",
    "print(\"Splitting category_name to sub categories\")\n",
    "# Subdiving category.\n",
    "train[\"subcat_0\"] = cat_split(\"category_name\",0)\n",
    "train[\"subcat_1\"] = cat_split(\"category_name\",1)\n",
    "train[\"subcat_2\"] = cat_split(\"category_name\",2)\n",
    "print(\"Performing Feature Engineering and preprocessing :\")\n",
    "# Filling All the NAN rows of brand name with text \"missing\"\n",
    "# Get all the vocabulary of all the words in the column Brand.\n",
    "print(\"Filling Missing values in the Brand name...\")\n",
    "brand_vocab = set(train['brand_name'].values) # Get all the brands.\n",
    "train.brand_name.fillna(value = \"missing\", inplace = True)\n",
    "# Total Count with rows \"missing\"\n",
    "missing = len(train.loc[train[\"brand_name\"] == 'missing'])\n",
    "print(\"Total Missing Values:\", missing)\n",
    "# Filling Missing values in the brand_name. \n",
    "train['brand_name'] = train[['brand_name','name']].apply(finding_brand, axis = 1) \n",
    "# Checking number of detected brand names from name column.\n",
    "detected_brands = missing-len(train.loc[train['brand_name'] == 'missing'])\n",
    "print(\"Total Detected brand names :\",detected_brands)\n",
    "train = fill_missing_values(train)\n",
    "print(train.category_name[1])\n",
    "print(\"Verifying Null Values in the data :\", train.isnull().any())\n",
    "print(\"Converting Columns to Strings : \")\n",
    "# We Convert all the data columns in the form of strings.\n",
    "train['category_name'] = train['category_name'].fillna('missing').astype(str)\n",
    "train['subcat_0'] = train['subcat_0'].astype(str)\n",
    "train['subcat_1'] = train['subcat_1'].astype(str)\n",
    "train['subcat_2'] = train['subcat_2'].astype(str)\n",
    "train['brand_name'] = train['brand_name'].fillna('missing').astype(str)\n",
    "train['shipping'] = train['shipping'].astype(str)\n",
    "train['item_condition_id'] = train['item_condition_id'].astype(str)\n",
    "train['desc_len'] = train['desc_len'].astype(str)\n",
    "train['name_len'] = train['name_len'].astype(str)\n",
    "train['item_description'] = train['item_description'].fillna('No description yet').astype(str)\n",
    "print(\"Natural Logarithm on Price...\")\n",
    "train[\"target\"] = np.log1p(train.price)"
   ]
  },
  {
   "cell_type": "code",
   "execution_count": 0,
   "metadata": {
    "colab": {
     "base_uri": "https://localhost:8080/",
     "height": 50
    },
    "colab_type": "code",
    "executionInfo": {
     "elapsed": 98306,
     "status": "ok",
     "timestamp": 1586762714999,
     "user": {
      "displayName": "Sridatta Marati",
      "photoUrl": "",
      "userId": "13444678406649845318"
     },
     "user_tz": -330
    },
    "id": "Lid5g0f3aIBK",
    "outputId": "66dc4967-ad96-4d16-9d09-f7f8fa5e5137"
   },
   "outputs": [
    {
     "name": "stdout",
     "output_type": "stream",
     "text": [
      "(1432350, 14)\n",
      "(14469, 14)\n"
     ]
    }
   ],
   "source": [
    "# Train and Test Split:\n",
    "x_train, x_test = train_test_split(train, random_state=123, train_size=0.99)\n",
    "print(x_train.shape)\n",
    "print(x_test.shape)\n",
    "Y_train = x_train.target.values.reshape(-1, 1)\n",
    "Y_test = x_test.target.values.reshape(-1,1)"
   ]
  },
  {
   "cell_type": "code",
   "execution_count": 0,
   "metadata": {
    "colab": {},
    "colab_type": "code",
    "id": "bXej7N1taH46"
   },
   "outputs": [],
   "source": [
    "# Vectorizing Data.\n",
    "# https://towardsdatascience.com/hacking-scikit-learns-vectorizers-9ef26a7170af\n",
    "#https://www.kaggle.com/valkling/mercari-rnn-2ridge-models-with-notes-0-42755\n",
    "# https://blog.usejournal.com/featureunion-a-time-saver-when-building-a-machine-learning-model-d0ad7a90f215\n",
    "\n",
    "default_preprocessor = CountVectorizer().build_preprocessor() # a callable function that preprocesses the text data.\n",
    "\n",
    "def build_preprocessor(colum, ):\n",
    "  # We are preprocessing each columns\n",
    "    column_index = list(train.columns).index(colum) # Returns the Index of a specific Column.\n",
    "    return lambda x: default_preprocessor(x[column_index])\n",
    "\n",
    "# stack tfidf and count vectorize for all the columns.\n",
    "vectorizer = FeatureUnion([\n",
    "    ('name', CountVectorizer(ngram_range=(1, 3),max_features=10000,preprocessor = build_preprocessor('name'))),\n",
    "\n",
    "    ('subcat_0', CountVectorizer(token_pattern = '.+',preprocessor = build_preprocessor('subcat_0'))),\n",
    "\n",
    "    ('subcat_1', CountVectorizer(token_pattern = '.+',preprocessor = build_preprocessor('subcat_1'))),\n",
    "\n",
    "    ('subcat_2', CountVectorizer(token_pattern = '.+',preprocessor = build_preprocessor('subcat_2'))),\n",
    "\n",
    "    ('brand_name', CountVectorizer(token_pattern ='.+',preprocessor = build_preprocessor('brand_name'))),\n",
    "\n",
    "    ('shipping', CountVectorizer(token_pattern = '\\d+',preprocessor = build_preprocessor('shipping'))),\n",
    "\n",
    "    ('item_condition_id', CountVectorizer(token_pattern = '\\d+',preprocessor = build_preprocessor('item_condition_id'))),\n",
    "\n",
    "    ('desc_len', CountVectorizer(token_pattern = '\\d+',preprocessor = build_preprocessor('desc_len'))),\n",
    "\n",
    "    ('name_len', CountVectorizer(token_pattern = '\\d+',preprocessor = build_preprocessor('name_len'))),\n",
    "\n",
    "    ('item_description', TfidfVectorizer(ngram_range = (1, 3),max_features = 100000,preprocessor = build_preprocessor('item_description'))),\n",
    "])"
   ]
  },
  {
   "cell_type": "code",
   "execution_count": 0,
   "metadata": {
    "colab": {
     "base_uri": "https://localhost:8080/",
     "height": 33
    },
    "colab_type": "code",
    "executionInfo": {
     "elapsed": 486247,
     "status": "ok",
     "timestamp": 1586763102952,
     "user": {
      "displayName": "Sridatta Marati",
      "photoUrl": "",
      "userId": "13444678406649845318"
     },
     "user_tz": -330
    },
    "id": "x4sz-YaxaNcA",
    "outputId": "71361d9f-5878-48ea-9856-368b0cb3b998"
   },
   "outputs": [
    {
     "name": "stdout",
     "output_type": "stream",
     "text": [
      "(1432350, 222408) (14469, 222408)\n"
     ]
    }
   ],
   "source": [
    "# Fitting Vectorizer.\n",
    "vectorizer.fit(x_train.values)\n",
    "# Transforming Train and Test.\n",
    "x = vectorizer.transform(x_train.values)\n",
    "x_t = vectorizer.transform(x_test.values)\n",
    "print(x.shape,x_t.shape)\n",
    "X_train = x\n",
    "X_test = x_t"
   ]
  },
  {
   "cell_type": "markdown",
   "metadata": {
    "colab_type": "text",
    "id": "rs8EJo4oX0AC"
   },
   "source": [
    "**SVR**"
   ]
  },
  {
   "cell_type": "code",
   "execution_count": 0,
   "metadata": {
    "colab": {},
    "colab_type": "code",
    "id": "Gq4NbXL8X0AD",
    "outputId": "ac2aae82-3302-4c3d-9384-0e9d338f77cb"
   },
   "outputs": [
    {
     "name": "stdout",
     "output_type": "stream",
     "text": [
      "0.0001\n",
      "0.5990894557275435\n",
      "0.001\n",
      "0.5868092755412005\n",
      "0.01\n",
      "0.5404932373507542\n",
      "0.1\n",
      "0.4755534110778424\n"
     ]
    }
   ],
   "source": [
    "# SVR \n",
    "Y_train = np.ravel(Y_train)\n",
    "from sklearn.svm import SVR\n",
    "params = [0.0001,0.001,0.01,0.1]\n",
    "for i in params:\n",
    "    \n",
    "    svr = SVR(C = i, epsilon = 0.01)\n",
    "    svr.fit(X_train, Y_train)\n",
    "    y_pred = svr.predict(X_test)\n",
    "    svr_rmsle = np.sqrt(mean_squared_error(Y_test, y_pred))\n",
    "    print(i)\n",
    "    print(svr_rmsle)"
   ]
  },
  {
   "cell_type": "markdown",
   "metadata": {
    "colab_type": "text",
    "id": "S1jKa9V1X0AH"
   },
   "source": [
    "**DecisionTreeReg**"
   ]
  },
  {
   "cell_type": "code",
   "execution_count": 0,
   "metadata": {
    "colab": {},
    "colab_type": "code",
    "id": "6SaEFe7fX0AH",
    "outputId": "2d0697e8-518d-454e-9327-4fb78c675870"
   },
   "outputs": [
    {
     "name": "stderr",
     "output_type": "stream",
     "text": [
      " 25%|██▌       | 1/4 [00:54<02:43, 54.47s/it]"
     ]
    },
    {
     "name": "stdout",
     "output_type": "stream",
     "text": [
      "For Depth: 2\n",
      "For Min_sample_split :  2\n",
      "RMSLE :  0.7092153254274274\n"
     ]
    },
    {
     "name": "stderr",
     "output_type": "stream",
     "text": [
      "\r",
      " 50%|█████     | 2/4 [02:35<02:16, 68.37s/it]"
     ]
    },
    {
     "name": "stdout",
     "output_type": "stream",
     "text": [
      "For Depth: 4\n",
      "For Min_sample_split :  5\n",
      "RMSLE :  0.6802232886209346\n"
     ]
    },
    {
     "name": "stderr",
     "output_type": "stream",
     "text": [
      "\r",
      " 75%|███████▌  | 3/4 [05:20<01:37, 97.37s/it]"
     ]
    },
    {
     "name": "stdout",
     "output_type": "stream",
     "text": [
      "For Depth: 6\n",
      "For Min_sample_split :  6\n",
      "RMSLE :  0.6628085974892538\n"
     ]
    },
    {
     "name": "stderr",
     "output_type": "stream",
     "text": [
      "100%|██████████| 4/4 [10:54<00:00, 163.70s/it]"
     ]
    },
    {
     "name": "stdout",
     "output_type": "stream",
     "text": [
      "For Depth: 9\n",
      "For Min_sample_split :  8\n",
      "RMSLE :  0.6353326424231599\n"
     ]
    },
    {
     "name": "stderr",
     "output_type": "stream",
     "text": [
      "\n"
     ]
    }
   ],
   "source": [
    "from sklearn.tree import DecisionTreeRegressor\n",
    "\n",
    "parameters = [(2,2),(4,5), (6,6),(9,8), ]\n",
    "\n",
    "for i,j in tqdm(parameters):\n",
    "    dt_reg = DecisionTreeRegressor(max_depth = i, min_samples_split = j)\n",
    "    dt_reg.fit(X_train, Y_train)\n",
    "    \n",
    "    y_pred = dt_reg.predict(X_test)\n",
    "    # Calculating RMSLE\n",
    "    dt_rmsle = np.sqrt(mean_squared_error(Y_test, y_pred))\n",
    "    print(\"For Depth:\",i)\n",
    "    print(\"For Min_sample_split : \", j)\n",
    "    print(\"RMSLE : \", dt_rmsle)\n",
    "    "
   ]
  },
  {
   "cell_type": "code",
   "execution_count": 0,
   "metadata": {
    "colab": {},
    "colab_type": "code",
    "id": "Wr5iJ4jqX0AM",
    "outputId": "8796aa30-d198-4e58-c110-7aabc8a43689"
   },
   "outputs": [
    {
     "name": "stderr",
     "output_type": "stream",
     "text": [
      " 25%|██▌       | 1/4 [06:50<20:32, 410.86s/it]"
     ]
    },
    {
     "name": "stdout",
     "output_type": "stream",
     "text": [
      "For Depth: 10\n",
      "For Min_sample_split :  15\n",
      "RMSLE :  0.6292677048629349\n"
     ]
    },
    {
     "name": "stderr",
     "output_type": "stream",
     "text": [
      "\r",
      " 50%|█████     | 2/4 [24:15<20:02, 601.11s/it]"
     ]
    },
    {
     "name": "stdout",
     "output_type": "stream",
     "text": [
      "For Depth: 15\n",
      "For Min_sample_split :  20\n",
      "RMSLE :  0.6048510105794948\n"
     ]
    },
    {
     "name": "stderr",
     "output_type": "stream",
     "text": [
      "\r",
      " 75%|███████▌  | 3/4 [1:31:31<27:11, 1631.60s/it]"
     ]
    },
    {
     "name": "stdout",
     "output_type": "stream",
     "text": [
      "For Depth: 30\n",
      "For Min_sample_split :  50\n",
      "RMSLE :  0.5672880245885058\n"
     ]
    }
   ],
   "source": [
    "from sklearn.tree import DecisionTreeRegressor\n",
    "\n",
    "parameters = [(10,15),(15,20), (30,50),(50,100), ]\n",
    "\n",
    "for i,j in tqdm(parameters):\n",
    "    dt_reg = DecisionTreeRegressor(max_depth = i, min_samples_split = j)\n",
    "    dt_reg.fit(X_train, Y_train)\n",
    "    \n",
    "    y_pred = dt_reg.predict(X_test)\n",
    "    # Calculating RMSLE\n",
    "    dt_rmsle = np.sqrt(mean_squared_error(Y_test, y_pred))\n",
    "    print(\"For Depth:\",i)\n",
    "    print(\"For Min_sample_split : \", j)\n",
    "    print(\"RMSLE : \", dt_rmsle)\n",
    "    "
   ]
  },
  {
   "cell_type": "markdown",
   "metadata": {
    "colab_type": "text",
    "id": "YRMgTow2X0AO"
   },
   "source": [
    "max_depth = 30, min Sample Split = 50"
   ]
  },
  {
   "cell_type": "markdown",
   "metadata": {
    "colab_type": "text",
    "id": "jHPfQNnTX0AP"
   },
   "source": [
    "**SgdReg**"
   ]
  },
  {
   "cell_type": "code",
   "execution_count": 0,
   "metadata": {
    "colab": {},
    "colab_type": "code",
    "id": "Ci8TprsIbdIK",
    "outputId": "f87cfb5d-3185-4691-d851-ae032202280f"
   },
   "outputs": [
    {
     "name": "stdout",
     "output_type": "stream",
     "text": [
      "For Alpha: 1e-05\n",
      "RMSLE ridgecv: 0.45376929969734825\n",
      "For Alpha: 0.0001\n",
      "RMSLE ridgecv: 0.4760848688908972\n",
      "For Alpha: 0.001\n",
      "RMSLE ridgecv: 0.5297605865265459\n",
      "For Alpha: 0.01\n",
      "RMSLE ridgecv: 0.5980632891841436\n",
      "For Alpha: 0.1\n",
      "RMSLE ridgecv: 0.669138478237479\n",
      "For Alpha: 0\n",
      "RMSLE ridgecv: 0.45449834341396417\n",
      "For Alpha: 1\n",
      "RMSLE ridgecv: 0.72085375442452\n",
      "For Alpha: 10\n",
      "RMSLE ridgecv: 0.7359748471151365\n"
     ]
    }
   ],
   "source": [
    "from sklearn.linear_model import SGDRegressor\n",
    "Y_train = np.ravel(Y_train)\n",
    "\n",
    "parameters = [0.00001, 0.0001,0.001,0.01,0.1,0,1,10]\n",
    "\n",
    "for i in parameters:\n",
    "    sgd_reg = SGDRegressor(alpha = i, loss = 'squared_loss', penalty = 'l2', learning_rate = 'constant')\n",
    "    sgd_reg.fit(X_train, Y_train)\n",
    "    y_pred = sgd_reg.predict(X_test)\n",
    "    y_pred =  y_pred.reshape(-1, 1)\n",
    "    sgd_rmsle = np.sqrt(mean_squared_error(Y_test, y_pred))\n",
    "    print(\"For Alpha:\",i)\n",
    "    print(\"RMSLE ridgecv:\", sgd_rmsle)"
   ]
  },
  {
   "cell_type": "markdown",
   "metadata": {
    "colab_type": "text",
    "id": "o4GGB6TNX0AU"
   },
   "source": [
    "alpha = 0.00001"
   ]
  },
  {
   "cell_type": "markdown",
   "metadata": {
    "colab_type": "text",
    "id": "lVfmFTTpX0AV"
   },
   "source": [
    "**RidgeReg**"
   ]
  },
  {
   "cell_type": "code",
   "execution_count": 0,
   "metadata": {
    "colab": {
     "base_uri": "https://localhost:8080/",
     "height": 50
    },
    "colab_type": "code",
    "executionInfo": {
     "elapsed": 16930,
     "status": "ok",
     "timestamp": 1586449927089,
     "user": {
      "displayName": "Sridatta Marati",
      "photoUrl": "",
      "userId": "13444678406649845318"
     },
     "user_tz": -330
    },
    "id": "rgVZrnZNvo8o",
    "outputId": "080dda5c-32ef-4320-9fe8-78e093b73f57"
   },
   "outputs": [
    {
     "data": {
      "text/plain": [
       "Ridge(alpha=1.0, copy_X=True, fit_intercept=True, max_iter=100, normalize=False,\n",
       "      random_state=1, solver='auto', tol=0.05)"
      ]
     },
     "execution_count": 129,
     "metadata": {
      "tags": []
     },
     "output_type": "execute_result"
    }
   ],
   "source": [
    "# Ridge Regression.\n",
    "ridge_reg = Ridge(solver='auto', fit_intercept=True, alpha=1.0,max_iter=100, normalize=False, tol=0.05, random_state = 1,)\n",
    "ridge_reg.fit(X_train, Y_train)"
   ]
  },
  {
   "cell_type": "code",
   "execution_count": 0,
   "metadata": {
    "colab": {
     "base_uri": "https://localhost:8080/",
     "height": 33
    },
    "colab_type": "code",
    "executionInfo": {
     "elapsed": 553,
     "status": "ok",
     "timestamp": 1586449949342,
     "user": {
      "displayName": "Sridatta Marati",
      "photoUrl": "",
      "userId": "13444678406649845318"
     },
     "user_tz": -330
    },
    "id": "gZyJU064yRpU",
    "outputId": "f566a821-1acb-413a-a192-9d7732a3b354"
   },
   "outputs": [
    {
     "name": "stdout",
     "output_type": "stream",
     "text": [
      "RMSLE Ridge: 0.47499265313099626\n"
     ]
    }
   ],
   "source": [
    "y_pred = ridge_reg.predict(X_test)\n",
    "y_pred = y_pred.reshape(-1, 1)\n",
    "print(\"RMSLE Ridge:\", rmsle(Y_test, y_pred))"
   ]
  },
  {
   "cell_type": "code",
   "execution_count": 0,
   "metadata": {
    "colab": {
     "base_uri": "https://localhost:8080/",
     "height": 33
    },
    "colab_type": "code",
    "executionInfo": {
     "elapsed": 495515,
     "status": "ok",
     "timestamp": 1586764802638,
     "user": {
      "displayName": "Sridatta Marati",
      "photoUrl": "",
      "userId": "13444678406649845318"
     },
     "user_tz": -330
    },
    "id": "v0etbA4Lx3uV",
    "outputId": "23bc1867-9b59-430f-f308-cb7cb19aff0b"
   },
   "outputs": [
    {
     "name": "stdout",
     "output_type": "stream",
     "text": [
      "RMSLE ridgecv: 0.4432021951114149\n"
     ]
    }
   ],
   "source": [
    "ridge_cv = RidgeCV(alphas=[10.0], fit_intercept= True,normalize=False, cv = 3, scoring='neg_mean_squared_error',)\n",
    "ridge_cv.fit(X_train, Y_train)\n",
    "y_pred = ridge_cv.predict(X_test)\n",
    "y_pred = y_pred.reshape(-1, 1)\n",
    "print(\"RMSLE ridgecv:\", rmsle(Y_test, y_pred))"
   ]
  },
  {
   "cell_type": "markdown",
   "metadata": {
    "colab_type": "text",
    "id": "GiDP4qYGX0As"
   },
   "source": [
    "**Ensembles**"
   ]
  },
  {
   "cell_type": "code",
   "execution_count": 0,
   "metadata": {
    "colab": {},
    "colab_type": "code",
    "id": "on5OUT-TX0At",
    "outputId": "6cb975dd-2b53-47ef-a4d9-20a3489970d5"
   },
   "outputs": [
    {
     "name": "stderr",
     "output_type": "stream",
     "text": [
      "/opt/conda/lib/python3.7/site-packages/sklearn/ensemble/_voting.py:406: DataConversionWarning: A column-vector y was passed when a 1d array was expected. Please change the shape of y to (n_samples, ), for example using ravel().\n",
      "  y = column_or_1d(y, warn=True)\n"
     ]
    },
    {
     "data": {
      "text/plain": [
       "VotingRegressor(estimators=[('svr',\n",
       "                             SVR(C=0.1, cache_size=200, coef0=0.0, degree=3,\n",
       "                                 epsilon=0.01, gamma='scale', kernel='rbf',\n",
       "                                 max_iter=-1, shrinking=True, tol=0.001,\n",
       "                                 verbose=False)),\n",
       "                            ('r',\n",
       "                             RidgeCV(alphas=array([5.]), cv=2,\n",
       "                                     fit_intercept=True, gcv_mode=None,\n",
       "                                     normalize=False,\n",
       "                                     scoring='neg_mean_squared_error',\n",
       "                                     store_cv_values=False)),\n",
       "                            ('sgd',\n",
       "                             SGDRegressor(alpha=1e-05, average=False,\n",
       "                                          early_stopping=False, epsilon=0.1,\n",
       "                                          eta0=0.01, fit_intercept=True,\n",
       "                                          l1_ratio=0.15,\n",
       "                                          learning_rate='constant',\n",
       "                                          loss='squared_loss', max_iter=1000,\n",
       "                                          n_iter_no_change=5, penalty='l2',\n",
       "                                          power_t=0.25, random_state=None,\n",
       "                                          shuffle=True, tol=0.001,\n",
       "                                          validation_fraction=0.1, verbose=0,\n",
       "                                          warm_start=False))],\n",
       "                n_jobs=None, weights=None)"
      ]
     },
     "execution_count": 62,
     "metadata": {
      "tags": []
     },
     "output_type": "execute_result"
    }
   ],
   "source": [
    "# SVR, RIDGE, SGD.\n",
    "from sklearn.svm import SVR\n",
    "from sklearn.linear_model import SGDRegressor\n",
    "from sklearn.ensemble import VotingRegressor\n",
    "\n",
    "model_1 = SVR(C = 0.1, epsilon = 0.01)\n",
    "model_2 = RidgeCV(fit_intercept=True, alphas=[10.0],normalize=False, cv = 3, scoring='neg_mean_squared_error',)\n",
    "model_3 = SGDRegressor(alpha = 0.00001, loss = 'squared_loss', penalty = 'l2', learning_rate = 'constant')\n",
    "\n",
    "reg = VotingRegressor([(\"svr\", model_1), (\"r\", model_2), (\"sgd\", model_3)], n_jobs = -1)\n",
    "reg.fit(X_train, Y_train)"
   ]
  },
  {
   "cell_type": "code",
   "execution_count": 0,
   "metadata": {
    "colab": {},
    "colab_type": "code",
    "id": "KFlwXCqMX0Ay",
    "outputId": "fba01dfe-ec6f-4903-fa04-694fe5276859"
   },
   "outputs": [
    {
     "name": "stdout",
     "output_type": "stream",
     "text": [
      "Ensemble Rmsle error: 0.4451476373350806\n"
     ]
    }
   ],
   "source": [
    "y_pred = reg.predict(X_test)\n",
    "y_pred = y_pred.reshape(-1,1)\n",
    "print(\"Ensemble Rmsle error:\", rmsle(Y_test, y_pred))"
   ]
  },
  {
   "cell_type": "markdown",
   "metadata": {
    "colab_type": "text",
    "id": "GrKmc_jWX0A2"
   },
   "source": [
    "### PrettyTable."
   ]
  },
  {
   "cell_type": "code",
   "execution_count": 0,
   "metadata": {
    "colab": {
     "base_uri": "https://localhost:8080/",
     "height": 183
    },
    "colab_type": "code",
    "executionInfo": {
     "elapsed": 927,
     "status": "ok",
     "timestamp": 1586764830123,
     "user": {
      "displayName": "Sridatta Marati",
      "photoUrl": "",
      "userId": "13444678406649845318"
     },
     "user_tz": -330
    },
    "id": "oocLynXUX0A3",
    "outputId": "32184599-490b-40e4-99d5-aa590ef6d1d8"
   },
   "outputs": [
    {
     "name": "stdout",
     "output_type": "stream",
     "text": [
      "+---------------------+--------------+-------------+\n",
      "|        Model        |    Alpha     | Rmsle Error |\n",
      "+---------------------+--------------+-------------+\n",
      "|         SVR         |     0.1      |     0.47    |\n",
      "|  Decision Tree Reg  |      30      |     0.56    |\n",
      "|     RidgeReg Cv     |      5       |     0.44    |\n",
      "|       SGD Reg       |    1e-05     |     0.45    |\n",
      "|      RRidgeReg      |      1       |     0.48    |\n",
      "| Ensemble Voting Reg | sgd, Rf, svr |     0.44    |\n",
      "+---------------------+--------------+-------------+\n"
     ]
    }
   ],
   "source": [
    "from prettytable import PrettyTable\n",
    "x = PrettyTable()\n",
    "x.field_names = [\"Model\", \"Alpha\", \"Rmsle Error\"]\n",
    "x.add_row([\"SVR\", 0.1, 0.47])\n",
    "x.add_row([\"Decision Tree Reg\", 30, 0.56])\n",
    "x.add_row([\"RidgeReg Cv\",5, 0.44])\n",
    "x.add_row([\"SGD Reg\", 0.00001, 0.45])\n",
    "x.add_row([\"RRidgeReg\",1,  0.48])\n",
    "x.add_row([\"Ensemble Voting Reg\", \"sgd, Rf, svr\", 0.44])\n",
    "print(x)"
   ]
  },
  {
   "cell_type": "markdown",
   "metadata": {
    "colab_type": "text",
    "id": "1KeiyWGMX0A7"
   },
   "source": [
    "Ensemble Performed Well with rmsle score of 0.44, and also ridge cv scored good with 0.44"
   ]
  },
  {
   "cell_type": "markdown",
   "metadata": {
    "colab_type": "text",
    "id": "WHJMTWKUWo0G"
   },
   "source": [
    "# **Implementing Deep learning Models.**"
   ]
  },
  {
   "cell_type": "code",
   "execution_count": 0,
   "metadata": {
    "colab": {
     "base_uri": "https://localhost:8080/",
     "height": 283
    },
    "colab_type": "code",
    "executionInfo": {
     "elapsed": 64783,
     "status": "ok",
     "timestamp": 1586765585291,
     "user": {
      "displayName": "Sridatta Marati",
      "photoUrl": "",
      "userId": "13444678406649845318"
     },
     "user_tz": -330
    },
    "id": "OAgwDbZQMJ9m",
    "outputId": "c4a6c8b1-7630-459c-bccb-cb01a105a88f"
   },
   "outputs": [
    {
     "name": "stdout",
     "output_type": "stream",
     "text": [
      "Importing Train Data...\n",
      "Shape of Train data : (1482535, 8)\n",
      "Checking for any null values..\n",
      "train_id             False\n",
      "name                 False\n",
      "item_condition_id    False\n",
      "category_name         True\n",
      "brand_name            True\n",
      "price                False\n",
      "shipping             False\n",
      "item_description      True\n",
      "dtype: bool\n",
      "Performing Preprocessing and Feature engineering...\n",
      "607593\n",
      "125239\n",
      "Electronics/Computers & Tablets/Components & Parts\n"
     ]
    }
   ],
   "source": [
    "# Importing train data.\n",
    "print(\"Importing Train Data...\")\n",
    "train = pd.read_table('/content/drive/My Drive/train.tsv')\n",
    "print(\"Shape of Train data :\",train.shape)\n",
    "# Checking for NaN in the data.\n",
    "print(\"Checking for any null values..\")\n",
    "print(train.isnull().any())\n",
    "print(\"Performing Preprocessing and Feature engineering...\")\n",
    "# Removing Lower Prices which are less than 3.\n",
    "train = train.drop(train[(train.price < 5.0)].index)\n",
    "train.shape\n",
    "# Getting Length of each text in name and item_description.\n",
    "train['desc_len'] = train['item_description'].apply(lambda x: word_count(x))\n",
    "train['name_len'] = train['name'].apply(lambda x: word_count(x))\n",
    "train.head()\n",
    "# Subdiving category.\n",
    "train[\"subcat_0\"] = cat_split(\"category_name\",0)\n",
    "train[\"subcat_1\"] = cat_split(\"category_name\",1)\n",
    "train[\"subcat_2\"] = cat_split(\"category_name\",2)\n",
    "# Filling All the NAN rows of brand name with text \"missing\"\n",
    "brand_vocab = set(train['brand_name'].values) # Get all the brands.\n",
    "train.brand_name.fillna(value = \"missing\", inplace = True)\n",
    "#all_brands\n",
    "missing = len(train.loc[train[\"brand_name\"] == 'missing'])\n",
    "#premissing\n",
    "print(missing)\n",
    "train['brand_name'] = train[['brand_name','name']].apply(finding_brand, axis = 1)\n",
    "detected_brands = missing-len(train.loc[train['brand_name'] == 'missing'])\n",
    "print(detected_brands)\n",
    "train = fill_missing_values(train)\n",
    "print(train.category_name[1])\n",
    "train[\"target\"] = np.log1p(train.price)"
   ]
  },
  {
   "cell_type": "code",
   "execution_count": 0,
   "metadata": {
    "colab": {},
    "colab_type": "code",
    "id": "LYoG7vEwlpUa"
   },
   "outputs": [],
   "source": [
    "from sklearn.preprocessing import LabelEncoder\n",
    "import numpy as np\n",
    "\n",
    "\n",
    "class LabelEncoderExt(object):\n",
    "    def __init__(self):\n",
    "        \"\"\"\n",
    "        It differs from LabelEncoder by handling new classes and providing a value for it [Unknown]\n",
    "        Unknown will be added in fit and transform will take care of new item. It gives unknown class id\n",
    "        \"\"\"\n",
    "        self.label_encoder = LabelEncoder()\n",
    "        # self.classes_ = self.label_encoder.classes_\n",
    "\n",
    "    def fit(self, data_list):\n",
    "        \"\"\"\n",
    "        This will fit the encoder for all the unique values and introduce unknown value\n",
    "        :param data_list: A list of string\n",
    "        :return: self\n",
    "        \"\"\"\n",
    "        self.label_encoder = self.label_encoder.fit(list(data_list) + ['Unknown'])\n",
    "        self.classes_ = self.label_encoder.classes_\n",
    "\n",
    "        return self\n",
    "\n",
    "    def transform(self, data_list):\n",
    "        \"\"\"\n",
    "        This will transform the data_list to id list where the new values get assigned to Unknown class\n",
    "        :param data_list:\n",
    "        :return:\n",
    "        \"\"\"\n",
    "        new_data_list = list(data_list)\n",
    "        for unique_item in np.unique(data_list):\n",
    "            if unique_item not in self.label_encoder.classes_:\n",
    "                new_data_list = ['Unknown' if x==unique_item else x for x in new_data_list]\n",
    "\n",
    "        return self.label_encoder.transform(new_data_list)"
   ]
  },
  {
   "cell_type": "code",
   "execution_count": 0,
   "metadata": {
    "colab": {},
    "colab_type": "code",
    "id": "EJhcvcSU_Ctz"
   },
   "outputs": [],
   "source": [
    "# Encoding Categorical Features.\n",
    "label = LabelEncoderExt()\n",
    "label.fit(train.category_name) # categories united \n",
    "train['category'] = label.transform(train.category_name)\n",
    "\n",
    "label.fit(train.brand_name) # brand name \n",
    "train.brand_name = label.transform(train.brand_name)\n",
    "\n",
    "label.fit(train.subcat_0) # sub_cat0\n",
    "train.subcat_0 = label.transform(train.subcat_0)\n",
    "\n",
    "label.fit(train.subcat_1) # sub_cat_1\n",
    "train.subcat_1 = label.transform(train.subcat_1)\n",
    "\n",
    "label.fit(train.subcat_2) # sub_cat2\n",
    "train.subcat_2 = label.transform(train.subcat_2)\n",
    "\n",
    "del label"
   ]
  },
  {
   "cell_type": "code",
   "execution_count": 0,
   "metadata": {
    "colab": {},
    "colab_type": "code",
    "id": "NhHTYVAnOM6i"
   },
   "outputs": [],
   "source": [
    "# Text to Sequence Data.\n",
    "# Combining columns, item_description, name, category_name.\n",
    "full_text = np.hstack([train.item_description.str.lower(), train.name.str.lower(), train.category_name.str.lower()]) \n",
    "\n",
    "# Tokenizing on combined columns.\n",
    "tokenizer = Tokenizer()\n",
    "tokenizer.fit_on_texts(full_text)\n",
    " \n",
    "train['seq_desc'] = tokenizer.texts_to_sequences(train.item_description.str.lower()) \n",
    "train['seq_name'] = tokenizer.texts_to_sequences(train.name.str.lower()) "
   ]
  },
  {
   "cell_type": "code",
   "execution_count": 0,
   "metadata": {
    "colab": {},
    "colab_type": "code",
    "id": "Sy84bTIrkGYD"
   },
   "outputs": [],
   "source": [
    "# finding out max len of all the text data combined.\n",
    "max_len = np.max([np.max(train.seq_name.max()),np.max(train.seq_desc.max()),])\n",
    "# max length for Categorical Data.\n",
    "#max_len_cat = np.max(train.category.max()) + 1 # category\n",
    "max_len_brand = np.max(train.brand_name.max())    # brand \n",
    "max_len_condition = np.max(int(max(train.item_condition_id)))  # item_cond\n",
    "max_len_desc = np.max(int(train.desc_len.max()))  # item_desc_len\n",
    "max_len_name = np.max(int(train.name_len.max()))  # name_len\n",
    "max_len_sub0 = np.max(int(train.subcat_0.max()))  # Sub_0\n",
    "max_len_sub1 = np.max(int(train.subcat_1.max()))  # Sub_1\n",
    "max_len_sub2 = np.max(train.subcat_2.max())  # Sub_2\n",
    "# Defining max length for Padding Text Data.\n",
    "name_padding = 15\n",
    "description_padding = 80"
   ]
  },
  {
   "cell_type": "code",
   "execution_count": 0,
   "metadata": {
    "colab": {},
    "colab_type": "code",
    "id": "P5p-YHHFoEri"
   },
   "outputs": [],
   "source": [
    "# Train and Test Split.\n",
    "x_tr, x_te = train_test_split(train, random_state=123, train_size=0.99)\n",
    "Y_train = x_tr.target.values.reshape(-1, 1)\n",
    "Y_test = x_te.target.values.reshape(-1, 1)"
   ]
  },
  {
   "cell_type": "code",
   "execution_count": 0,
   "metadata": {
    "colab": {},
    "colab_type": "code",
    "id": "AymrjcVQn-1o"
   },
   "outputs": [],
   "source": [
    "# Padding Name :\n",
    "x_train_padded = { \n",
    "\"name\" : pad_sequences(x_tr.seq_name, maxlen= name_padding),\n",
    "\"item_desc\" : pad_sequences(x_tr.seq_desc, maxlen= description_padding),\n",
    "\"brand_name\" : np.array(x_tr.brand_name),\n",
    "\"category\" :np.array(x_tr.category),\n",
    "\"item_condition\" : np.array(x_tr.item_condition_id),\n",
    "\"shipping\" : np.array(x_tr[[\"shipping\"]]),\n",
    "\"desc_len\" : np.array(x_tr[[\"desc_len\"]]),\n",
    "\"name_len\" : np.array(x_tr[[\"name_len\"]]),\n",
    "\"subcat_0\" : np.array(x_tr.subcat_0),\n",
    "\"subcat_1\"  : np.array(x_tr.subcat_1),\n",
    "\"subcat_2\" : np.array(x_tr.subcat_2),\n",
    "} \n",
    "x_test_padded = {\n",
    "\"name\" : pad_sequences(x_te.seq_name, maxlen= name_padding),\n",
    "\"item_desc\" : pad_sequences(x_te.seq_desc, maxlen= description_padding),\n",
    "\"brand_name\" : np.array(x_te.brand_name),\n",
    "\"category\" : np.array(x_te.category),\n",
    "\"item_condition\" : np.array(x_te.item_condition_id),\n",
    "\"shipping\" : np.array(x_te[[\"shipping\"]]),\n",
    "\"desc_len\" : np.array(x_te[[\"desc_len\"]]),\n",
    "\"name_len\" : np.array(x_te[[\"name_len\"]]),\n",
    "\"subcat_0\" : np.array(x_te.subcat_0),\n",
    "\"subcat_1\" : np.array(x_te.subcat_1),\n",
    "\"subcat_2\" : np.array(x_te.subcat_2),\n",
    "}"
   ]
  },
  {
   "cell_type": "code",
   "execution_count": 0,
   "metadata": {
    "colab": {},
    "colab_type": "code",
    "id": "uUnk0gGg5Yw1"
   },
   "outputs": [],
   "source": [
    "x_tr = x_train_padded\n",
    "x_te = x_test_padded"
   ]
  },
  {
   "cell_type": "code",
   "execution_count": 0,
   "metadata": {
    "colab": {
     "base_uri": "https://localhost:8080/",
     "height": 1000
    },
    "colab_type": "code",
    "executionInfo": {
     "elapsed": 2055,
     "status": "ok",
     "timestamp": 1586766291563,
     "user": {
      "displayName": "Sridatta Marati",
      "photoUrl": "",
      "userId": "13444678406649845318"
     },
     "user_tz": -330
    },
    "id": "eV-KX9CFo1z_",
    "outputId": "f87466f1-274b-4695-f82d-25361d2468a9"
   },
   "outputs": [
    {
     "name": "stdout",
     "output_type": "stream",
     "text": [
      "Model: \"model_2\"\n",
      "__________________________________________________________________________________________________\n",
      "Layer (type)                    Output Shape         Param #     Connected to                     \n",
      "==================================================================================================\n",
      "brand_name (InputLayer)         (None, 1)            0                                            \n",
      "__________________________________________________________________________________________________\n",
      "item_condition (InputLayer)     (None, 1)            0                                            \n",
      "__________________________________________________________________________________________________\n",
      "desc_len (InputLayer)           (None, 1)            0                                            \n",
      "__________________________________________________________________________________________________\n",
      "name_len (InputLayer)           (None, 1)            0                                            \n",
      "__________________________________________________________________________________________________\n",
      "subcat_0 (InputLayer)           (None, 1)            0                                            \n",
      "__________________________________________________________________________________________________\n",
      "subcat_1 (InputLayer)           (None, 1)            0                                            \n",
      "__________________________________________________________________________________________________\n",
      "subcat_2 (InputLayer)           (None, 1)            0                                            \n",
      "__________________________________________________________________________________________________\n",
      "item_desc (InputLayer)          (None, 80)           0                                            \n",
      "__________________________________________________________________________________________________\n",
      "name (InputLayer)               (None, 15)           0                                            \n",
      "__________________________________________________________________________________________________\n",
      "embedding_12 (Embedding)        (None, 1, 10)        1155760     brand_name[0][0]                 \n",
      "__________________________________________________________________________________________________\n",
      "embedding_13 (Embedding)        (None, 1, 5)         25          item_condition[0][0]             \n",
      "__________________________________________________________________________________________________\n",
      "embedding_14 (Embedding)        (None, 1, 5)         1225        desc_len[0][0]                   \n",
      "__________________________________________________________________________________________________\n",
      "embedding_15 (Embedding)        (None, 1, 5)         85          name_len[0][0]                   \n",
      "__________________________________________________________________________________________________\n",
      "embedding_16 (Embedding)        (None, 1, 10)        110         subcat_0[0][0]                   \n",
      "__________________________________________________________________________________________________\n",
      "embedding_17 (Embedding)        (None, 1, 10)        1140        subcat_1[0][0]                   \n",
      "__________________________________________________________________________________________________\n",
      "embedding_18 (Embedding)        (None, 1, 10)        8710        subcat_2[0][0]                   \n",
      "__________________________________________________________________________________________________\n",
      "embedding_11 (Embedding)        (None, 80, 80)       20435360    item_desc[0][0]                  \n",
      "__________________________________________________________________________________________________\n",
      "embedding_10 (Embedding)        (None, 15, 15)       3831630     name[0][0]                       \n",
      "__________________________________________________________________________________________________\n",
      "flatten_8 (Flatten)             (None, 10)           0           embedding_12[0][0]               \n",
      "__________________________________________________________________________________________________\n",
      "flatten_9 (Flatten)             (None, 5)            0           embedding_13[0][0]               \n",
      "__________________________________________________________________________________________________\n",
      "flatten_10 (Flatten)            (None, 5)            0           embedding_14[0][0]               \n",
      "__________________________________________________________________________________________________\n",
      "flatten_11 (Flatten)            (None, 5)            0           embedding_15[0][0]               \n",
      "__________________________________________________________________________________________________\n",
      "flatten_12 (Flatten)            (None, 10)           0           embedding_16[0][0]               \n",
      "__________________________________________________________________________________________________\n",
      "flatten_13 (Flatten)            (None, 10)           0           embedding_17[0][0]               \n",
      "__________________________________________________________________________________________________\n",
      "flatten_14 (Flatten)            (None, 10)           0           embedding_18[0][0]               \n",
      "__________________________________________________________________________________________________\n",
      "gru_2 (GRU)                     (None, 16)           4656        embedding_11[0][0]               \n",
      "__________________________________________________________________________________________________\n",
      "lstm_2 (LSTM)                   (None, 8)            768         embedding_10[0][0]               \n",
      "__________________________________________________________________________________________________\n",
      "shipping (InputLayer)           (None, 1)            0                                            \n",
      "__________________________________________________________________________________________________\n",
      "concatenate_2 (Concatenate)     (None, 80)           0           flatten_8[0][0]                  \n",
      "                                                                 flatten_9[0][0]                  \n",
      "                                                                 flatten_10[0][0]                 \n",
      "                                                                 flatten_11[0][0]                 \n",
      "                                                                 flatten_12[0][0]                 \n",
      "                                                                 flatten_13[0][0]                 \n",
      "                                                                 flatten_14[0][0]                 \n",
      "                                                                 gru_2[0][0]                      \n",
      "                                                                 lstm_2[0][0]                     \n",
      "                                                                 shipping[0][0]                   \n",
      "__________________________________________________________________________________________________\n",
      "dense_6 (Dense)                 (None, 256)          20736       concatenate_2[0][0]              \n",
      "__________________________________________________________________________________________________\n",
      "dropout_3 (Dropout)             (None, 256)          0           dense_6[0][0]                    \n",
      "__________________________________________________________________________________________________\n",
      "dense_7 (Dense)                 (None, 128)          32896       dropout_3[0][0]                  \n",
      "__________________________________________________________________________________________________\n",
      "batch_normalization_3 (BatchNor (None, 128)          512         dense_7[0][0]                    \n",
      "__________________________________________________________________________________________________\n",
      "dense_8 (Dense)                 (None, 64)           8256        batch_normalization_3[0][0]      \n",
      "__________________________________________________________________________________________________\n",
      "dropout_4 (Dropout)             (None, 64)           0           dense_8[0][0]                    \n",
      "__________________________________________________________________________________________________\n",
      "dense_9 (Dense)                 (None, 32)           2080        dropout_4[0][0]                  \n",
      "__________________________________________________________________________________________________\n",
      "batch_normalization_4 (BatchNor (None, 32)           128         dense_9[0][0]                    \n",
      "__________________________________________________________________________________________________\n",
      "dense_10 (Dense)                (None, 1)            33          batch_normalization_4[0][0]      \n",
      "==================================================================================================\n",
      "Total params: 25,504,110\n",
      "Trainable params: 25,503,790\n",
      "Non-trainable params: 320\n",
      "__________________________________________________________________________________________________\n"
     ]
    }
   ],
   "source": [
    "# defining Model :\n",
    "# inputs \n",
    "from keras.layers import LSTM, GRU\n",
    "from keras.layers import Conv1D, GlobalMaxPooling1D\n",
    "from keras.layers import concatenate, BatchNormalization\n",
    "from keras import optimizers\n",
    "\n",
    "name = Input(shape=[x_tr[\"name\"].shape[1]], name=\"name\")\n",
    "item_desc = Input(shape=[x_tr[\"item_desc\"].shape[1]], name=\"item_desc\")\n",
    "brand_name =Input(shape=[1], name=\"brand_name\")\n",
    "item_condition =Input(shape=[1], name=\"item_condition\")\n",
    "num_vars = Input(shape=[x_tr[\"shipping\"].shape[1]], name=\"shipping\")\n",
    "desc_len = Input(shape=[1], name=\"desc_len\")\n",
    "name_len = Input(shape=[1], name=\"name_len\")\n",
    "subcat_0 = Input(shape=[1], name=\"subcat_0\")\n",
    "subcat_1 = Input(shape=[1], name=\"subcat_1\")\n",
    "subcat_2 = Input(shape=[1], name=\"subcat_2\")\n",
    "# Embedding Layers\n",
    "name_emb = Embedding(max_len, 15)(name)\n",
    "item_desc_emb = Embedding(max_len, 80)(item_desc)\n",
    "brand_emb = Embedding(max_len_brand, 10)(brand_name)\n",
    "item_cond_emb = Embedding(max_len_condition, 5)(item_condition)\n",
    "desc_len_emb = Embedding(max_len_desc, 5)(desc_len)\n",
    "name_len_emb = Embedding(max_len_name, 5)(name_len)\n",
    "sub0_emb = Embedding(max_len_sub0, 10)(subcat_0)\n",
    "sub1_emb = Embedding(max_len_sub1, 10)(subcat_1)\n",
    "sub2_emb = Embedding(max_len_sub2, 10)(subcat_2)\n",
    "\n",
    "lstm_layer1 = GRU(16) (item_desc_emb)\n",
    "lstm_layer2 = LSTM(8) (name_emb)\n",
    "#Flattening\n",
    "flat_1 = Flatten() (brand_emb)\n",
    "flat_2 = Flatten() (item_cond_emb)\n",
    "flat_3 = Flatten() (desc_len_emb)\n",
    "flat_4 = Flatten() (name_len_emb)\n",
    "flat_5 = Flatten() (sub0_emb)\n",
    "flat_6 = Flatten() (sub1_emb)\n",
    "flat_7 = Flatten() (sub2_emb)\n",
    "\n",
    "# Concat\n",
    "main_l = concatenate([flat_1,flat_2,flat_3,flat_4,flat_5,flat_6,flat_7,lstm_layer1,lstm_layer2, num_vars])\n",
    "#Dense Layers\n",
    "main_l = Dropout(0.1)(Dense(256,kernel_initializer='normal',activation='relu') (main_l))\n",
    "main_l = BatchNormalization()(Dense(128,kernel_initializer='normal',activation='relu') (main_l))\n",
    "main_l = Dropout(0.1)(Dense(64,kernel_initializer='normal',activation='relu') (main_l))\n",
    "main_l = BatchNormalization()(Dense(32,kernel_initializer='normal',activation='relu') (main_l))\n",
    "#Compile\n",
    "output = Dense(1, activation=\"linear\") (main_l)\n",
    "model_2 = Model([name, item_desc, brand_name , item_condition, num_vars, desc_len, name_len, subcat_0, subcat_1, subcat_2], output)\n",
    "optimizer = optimizers.Adam(lr= 0.005)\n",
    "model_2.compile(loss = 'mse', optimizer = optimizer)\n",
    "model_2.summary()"
   ]
  },
  {
   "cell_type": "code",
   "execution_count": 0,
   "metadata": {
    "colab": {
     "base_uri": "https://localhost:8080/",
     "height": 187
    },
    "colab_type": "code",
    "executionInfo": {
     "elapsed": 499283,
     "status": "ok",
     "timestamp": 1586766808679,
     "user": {
      "displayName": "Sridatta Marati",
      "photoUrl": "",
      "userId": "13444678406649845318"
     },
     "user_tz": -330
    },
    "id": "XNNMfM7S_hsZ",
    "outputId": "ee301566-20f3-4def-f995-5f5f682a1070"
   },
   "outputs": [
    {
     "name": "stderr",
     "output_type": "stream",
     "text": [
      "/usr/local/lib/python3.6/dist-packages/tensorflow/python/framework/indexed_slices.py:434: UserWarning: Converting sparse IndexedSlices to a dense Tensor of unknown shape. This may consume a large amount of memory.\n",
      "  \"Converting sparse IndexedSlices to a dense Tensor of unknown shape. \"\n"
     ]
    },
    {
     "name": "stdout",
     "output_type": "stream",
     "text": [
      "Epoch 1/3\n",
      "1432350/1432350 [==============================] - 168s 117us/step - loss: 0.4629\n",
      "Epoch 2/3\n",
      "1432350/1432350 [==============================] - 164s 115us/step - loss: 0.1556\n",
      "Epoch 3/3\n",
      "1432350/1432350 [==============================] - 164s 114us/step - loss: 0.1291\n"
     ]
    },
    {
     "data": {
      "text/plain": [
       "<keras.callbacks.callbacks.History at 0x7f4ef092e160>"
      ]
     },
     "execution_count": 25,
     "metadata": {
      "tags": []
     },
     "output_type": "execute_result"
    }
   ],
   "source": [
    "epochs = 3\n",
    "# Create model and fit it with training dataset.\n",
    "model_2.fit(x_tr, Y_train, epochs = epochs, batch_size = 512 * 3)"
   ]
  },
  {
   "cell_type": "code",
   "execution_count": 0,
   "metadata": {
    "colab": {
     "base_uri": "https://localhost:8080/",
     "height": 33
    },
    "colab_type": "code",
    "executionInfo": {
     "elapsed": 1690,
     "status": "ok",
     "timestamp": 1586767655574,
     "user": {
      "displayName": "Sridatta Marati",
      "photoUrl": "",
      "userId": "13444678406649845318"
     },
     "user_tz": -330
    },
    "id": "7vafipqOvJXK",
    "outputId": "f08095d2-17c2-48b4-eb84-dce452ab8aa4"
   },
   "outputs": [
    {
     "name": "stdout",
     "output_type": "stream",
     "text": [
      " RMSLE error: 0.4249679056655569\n"
     ]
    }
   ],
   "source": [
    "y_pred = model_2.predict(x_te, batch_size=batch_size)\n",
    "print(\" RMSLE error:\", rmsle(Y_test, y_pred))"
   ]
  },
  {
   "cell_type": "markdown",
   "metadata": {
    "colab_type": "text",
    "id": "hXV1Dmy3ucmk"
   },
   "source": [
    "# **Experimenting With Cnn's**\n"
   ]
  },
  {
   "cell_type": "code",
   "execution_count": 0,
   "metadata": {
    "colab": {
     "base_uri": "https://localhost:8080/",
     "height": 283
    },
    "colab_type": "code",
    "executionInfo": {
     "elapsed": 88712,
     "status": "ok",
     "timestamp": 1586784589211,
     "user": {
      "displayName": "Sridatta Marati",
      "photoUrl": "",
      "userId": "13444678406649845318"
     },
     "user_tz": -330
    },
    "id": "iLztrE5LVyo5",
    "outputId": "2490d488-caff-475a-a1a6-fca898df07c5"
   },
   "outputs": [
    {
     "name": "stdout",
     "output_type": "stream",
     "text": [
      "Importing Train Data...\n",
      "Shape of Train data : (1482535, 8)\n",
      "Checking for any null values..\n",
      "train_id             False\n",
      "name                 False\n",
      "item_condition_id    False\n",
      "category_name         True\n",
      "brand_name            True\n",
      "price                False\n",
      "shipping             False\n",
      "item_description      True\n",
      "dtype: bool\n",
      "Performing Preprocessing and Feature engineering...\n",
      "607593\n",
      "125239\n",
      "Electronics/Computers & Tablets/Components & Parts\n"
     ]
    }
   ],
   "source": [
    "# Importing train data.\n",
    "print(\"Importing Train Data...\")\n",
    "train = pd.read_table('/content/drive/My Drive/train.tsv')\n",
    "print(\"Shape of Train data :\",train.shape)\n",
    "# Checking for NaN in the data.\n",
    "print(\"Checking for any null values..\")\n",
    "print(train.isnull().any())\n",
    "print(\"Performing Preprocessing and Feature engineering...\")\n",
    "# Removing Lower Prices which are less than 5.\n",
    "train = train.drop(train[(train.price < 5.0)].index)\n",
    "train.shape\n",
    "# Getting Length of each text in name and item_description.\n",
    "train['desc_len'] = train['item_description'].apply(lambda x: word_count(x))\n",
    "train['name_len'] = train['name'].apply(lambda x: word_count(x))\n",
    "train.head()\n",
    "# Subdiving category.\n",
    "train[\"subcat_0\"] = cat_split(\"category_name\",0)\n",
    "train[\"subcat_1\"] = cat_split(\"category_name\",1)\n",
    "train[\"subcat_2\"] = cat_split(\"category_name\",2)\n",
    "# Filling All the NAN rows of brand name with text \"missing\"\n",
    "brand_vocab = set(train['brand_name'].values) # Get all the brands.\n",
    "train.brand_name.fillna(value = \"missing\", inplace = True)\n",
    "#all_brands\n",
    "missing = len(train.loc[train[\"brand_name\"] == 'missing'])\n",
    "#premissing\n",
    "print(missing)\n",
    "train['brand_name'] = train[['brand_name','name']].apply(finding_brand, axis = 1)\n",
    "detected_brands = missing-len(train.loc[train['brand_name'] == 'missing'])\n",
    "print(detected_brands)\n",
    "train = fill_missing_values(train)\n",
    "print(train.category_name[1])\n",
    "train[\"target\"] = np.log1p(train.price)"
   ]
  },
  {
   "cell_type": "code",
   "execution_count": 0,
   "metadata": {
    "colab": {},
    "colab_type": "code",
    "id": "FTQoNQGeua8l"
   },
   "outputs": [],
   "source": [
    "from sklearn.preprocessing import LabelEncoder\n",
    "import numpy as np\n",
    "\n",
    "\n",
    "class LabelEncoderExt(object):\n",
    "    def __init__(self):\n",
    "        \"\"\"\n",
    "        It differs from LabelEncoder by handling new classes and providing a value for it [Unknown]\n",
    "        Unknown will be added in fit and transform will take care of new item. It gives unknown class id\n",
    "        \"\"\"\n",
    "        self.label_encoder = LabelEncoder()\n",
    "        # self.classes_ = self.label_encoder.classes_\n",
    "\n",
    "    def fit(self, data_list):\n",
    "        \"\"\"\n",
    "        This will fit the encoder for all the unique values and introduce unknown value\n",
    "        :param data_list: A list of string\n",
    "        :return: self\n",
    "        \"\"\"\n",
    "        self.label_encoder = self.label_encoder.fit(list(data_list) + ['Unknown'])\n",
    "        self.classes_ = self.label_encoder.classes_\n",
    "\n",
    "        return self\n",
    "\n",
    "    def transform(self, data_list):\n",
    "        \"\"\"\n",
    "        This will transform the data_list to id list where the new values get assigned to Unknown class\n",
    "        :param data_list:\n",
    "        :return:\n",
    "        \"\"\"\n",
    "        new_data_list = list(data_list)\n",
    "        for unique_item in np.unique(data_list):\n",
    "            if unique_item not in self.label_encoder.classes_:\n",
    "                new_data_list = ['Unknown' if x==unique_item else x for x in new_data_list]\n",
    "\n",
    "        return self.label_encoder.transform(new_data_list)"
   ]
  },
  {
   "cell_type": "code",
   "execution_count": 0,
   "metadata": {
    "colab": {},
    "colab_type": "code",
    "id": "aQQwKuJbQ_Nv"
   },
   "outputs": [],
   "source": [
    "# Encoding Categorical Features.\n",
    "label = LabelEncoderExt()\n",
    "label.fit(train.category_name) # categories united \n",
    "train['category'] = label.transform(train.category_name)\n",
    "\n",
    "label.fit(train.brand_name) # brand name \n",
    "train.brand_name = label.transform(train.brand_name)\n",
    "\n",
    "label.fit(train.subcat_0) # sub_cat0\n",
    "train.subcat_0 = label.transform(train.subcat_0)\n",
    "\n",
    "label.fit(train.subcat_1) # sub_cat_1\n",
    "train.subcat_1 = label.transform(train.subcat_1)\n",
    "\n",
    "label.fit(train.subcat_2) # sub_cat2\n",
    "train.subcat_2 = label.transform(train.subcat_2)\n",
    "\n",
    "del label"
   ]
  },
  {
   "cell_type": "code",
   "execution_count": 0,
   "metadata": {
    "colab": {},
    "colab_type": "code",
    "id": "j_kE4ft9Q_X6"
   },
   "outputs": [],
   "source": [
    "# Text to Sequence Data.\n",
    "# Combining columns, item_description, name, category_name.\n",
    "full_text = np.hstack([train.item_description.str.lower(), train.name.str.lower(), train.category_name.str.lower()]) \n",
    "\n",
    "# Tokenizing on combined columns.\n",
    "tokenizer = Tokenizer()\n",
    "tokenizer.fit_on_texts(full_text)\n",
    " \n",
    "train['seq_desc'] = tokenizer.texts_to_sequences(train.item_description.str.lower()) \n",
    "train['seq_name'] = tokenizer.texts_to_sequences(train.name.str.lower()) "
   ]
  },
  {
   "cell_type": "code",
   "execution_count": 0,
   "metadata": {
    "colab": {},
    "colab_type": "code",
    "id": "COT3HxmlQ_VN"
   },
   "outputs": [],
   "source": [
    "max_len_brand = np.max(train.brand_name.max())    # brand \n",
    "max_len_condition = np.max(int(max(train.item_condition_id)))  # item_cond\n",
    "max_len_desc = np.max(int(train.desc_len.max()))  # item_desc_len\n",
    "max_len_name = np.max(int(train.name_len.max()))  # name_len\n",
    "max_len_sub0 = np.max(int(train.subcat_0.max()))  # Sub_0\n",
    "max_len_sub1 = np.max(int(train.subcat_1.max()))  # Sub_1\n",
    "max_len_sub2 = np.max(train.subcat_2.max())  # Sub_2\n",
    "# Defining max length for Padding Text Data.\n",
    "name_padding = 15\n",
    "description_padding = 80\n",
    "max_len = np.max([np.max(train.seq_name.max()),np.max(train.seq_desc.max()),])"
   ]
  },
  {
   "cell_type": "code",
   "execution_count": 0,
   "metadata": {
    "colab": {},
    "colab_type": "code",
    "id": "I-dUD35sQ_Sl"
   },
   "outputs": [],
   "source": [
    "# Train and Test Split.\n",
    "x_tr, x_te = train_test_split(train, random_state=123, train_size=0.99)\n",
    "Y_train = x_tr.target.values.reshape(-1, 1)\n",
    "Y_test = x_te.target.values.reshape(-1, 1)"
   ]
  },
  {
   "cell_type": "code",
   "execution_count": 0,
   "metadata": {
    "colab": {},
    "colab_type": "code",
    "id": "x20AlWglRvbD"
   },
   "outputs": [],
   "source": [
    "# Padding Name :\n",
    "x_train_padded = { \n",
    "\"name\" : pad_sequences(x_tr.seq_name, maxlen= name_padding),\n",
    "\"item_desc\" : pad_sequences(x_tr.seq_desc, maxlen= description_padding),\n",
    "\"brand_name\" : np.array(x_tr.brand_name),\n",
    "\"category\" :np.array(x_tr.category),\n",
    "\"item_condition\" : np.array(x_tr.item_condition_id),\n",
    "\"shipping\" : np.array(x_tr[[\"shipping\"]]),\n",
    "\"desc_len\" : np.array(x_tr[[\"desc_len\"]]),\n",
    "\"name_len\" : np.array(x_tr[[\"name_len\"]]),\n",
    "\"subcat_0\" : np.array(x_tr.subcat_0),\n",
    "\"subcat_1\"  : np.array(x_tr.subcat_1),\n",
    "\"subcat_2\" : np.array(x_tr.subcat_2),\n",
    "} \n",
    "x_test_padded = {\n",
    "\"name\" : pad_sequences(x_te.seq_name, maxlen= name_padding),\n",
    "\"item_desc\" : pad_sequences(x_te.seq_desc, maxlen= description_padding),\n",
    "\"brand_name\" : np.array(x_te.brand_name),\n",
    "\"category\" : np.array(x_te.category),\n",
    "\"item_condition\" : np.array(x_te.item_condition_id),\n",
    "\"shipping\" : np.array(x_te[[\"shipping\"]]),\n",
    "\"desc_len\" : np.array(x_te[[\"desc_len\"]]),\n",
    "\"name_len\" : np.array(x_te[[\"name_len\"]]),\n",
    "\"subcat_0\" : np.array(x_te.subcat_0),\n",
    "\"subcat_1\" : np.array(x_te.subcat_1),\n",
    "\"subcat_2\" : np.array(x_te.subcat_2),\n",
    "}"
   ]
  },
  {
   "cell_type": "code",
   "execution_count": 0,
   "metadata": {
    "colab": {},
    "colab_type": "code",
    "id": "rCV-_91vSAt5"
   },
   "outputs": [],
   "source": [
    "x_tr = x_train_padded\n",
    "x_te = x_test_padded"
   ]
  },
  {
   "cell_type": "code",
   "execution_count": 0,
   "metadata": {
    "colab": {},
    "colab_type": "code",
    "id": "bKgODMeEujPi"
   },
   "outputs": [],
   "source": [
    "batch_size = 512 * 3\n",
    "epochs = 2\n",
    "exp_decay = lambda init, fin, steps: (init/fin)**(1/(steps-1)) - 1\n",
    "steps = int(len(x_tr['name']) / batch_size) * epochs\n",
    "lr_init, lr_fin = 0.005, 0.001\n",
    "lr_decay = exp_decay(lr_init, lr_fin, steps)"
   ]
  },
  {
   "cell_type": "code",
   "execution_count": 0,
   "metadata": {
    "colab": {
     "base_uri": "https://localhost:8080/",
     "height": 33
    },
    "colab_type": "code",
    "executionInfo": {
     "elapsed": 1960,
     "status": "ok",
     "timestamp": 1586785030837,
     "user": {
      "displayName": "Sridatta Marati",
      "photoUrl": "",
      "userId": "13444678406649845318"
     },
     "user_tz": -330
    },
    "id": "9XBuJanvwPy8",
    "outputId": "97f1cd3c-93a5-49ea-dab6-a99f34070ee6"
   },
   "outputs": [
    {
     "data": {
      "text/plain": [
       "1865.0390625"
      ]
     },
     "execution_count": 18,
     "metadata": {
      "tags": []
     },
     "output_type": "execute_result"
    }
   ],
   "source": [
    "len(x_tr['name'])/batch_size* 2"
   ]
  },
  {
   "cell_type": "code",
   "execution_count": 0,
   "metadata": {
    "colab": {
     "base_uri": "https://localhost:8080/",
     "height": 33
    },
    "colab_type": "code",
    "executionInfo": {
     "elapsed": 2007,
     "status": "ok",
     "timestamp": 1586785070159,
     "user": {
      "displayName": "Sridatta Marati",
      "photoUrl": "",
      "userId": "13444678406649845318"
     },
     "user_tz": -330
    },
    "id": "WE6RzKzWwksB",
    "outputId": "a17a2bb2-9f24-4382-dff4-c77226e5f29c"
   },
   "outputs": [
    {
     "data": {
      "text/plain": [
       "0.0008642690853521984"
      ]
     },
     "execution_count": 19,
     "metadata": {
      "tags": []
     },
     "output_type": "execute_result"
    }
   ],
   "source": [
    "lr_decay"
   ]
  },
  {
   "cell_type": "code",
   "execution_count": 0,
   "metadata": {
    "colab": {},
    "colab_type": "code",
    "id": "FiT4XLGBSGw2"
   },
   "outputs": [],
   "source": [
    "# Definign Inputs.\n",
    "subcat_0 = Input(shape=[1], name=\"subcat_0\")\n",
    "subcat_1 = Input(shape=[1], name=\"subcat_1\")\n",
    "subcat_2 = Input(shape=[1], name=\"subcat_2\")\n",
    "desc_len = Input(shape=[1], name=\"desc_len\")\n",
    "name_len = Input(shape=[1], name=\"name_len\")\n",
    "\n",
    "brand_name = Input(shape=[1], name=\"brand_name\")\n",
    "\n",
    "num_vars = Input(shape=[x_tr[\"shipping\"].shape[1]], name=\"shipping\")\n",
    "\n",
    "item_condition = Input(shape=[1], name=\"item_condition\")\n",
    "\n",
    "name = Input(shape=[x_tr[\"name\"].shape[1]], name=\"name\") # 15 shape = [15]\n",
    "item_desc = Input(shape=[x_tr[\"item_desc\"].shape[1]], name=\"item_desc\") # 80 shape = [80]"
   ]
  },
  {
   "cell_type": "code",
   "execution_count": 0,
   "metadata": {
    "colab": {},
    "colab_type": "code",
    "id": "W2dkpT9KSGuL"
   },
   "outputs": [],
   "source": [
    "sub0_emb = Embedding(max_len_sub0, 10)(subcat_0)\n",
    "sub1_emb = Embedding(max_len_sub1, 10)(subcat_1)\n",
    "sub2_emb = Embedding(max_len_sub2, 10)(subcat_2)\n",
    "\n",
    "brand_emb = Embedding(max_len_brand, 10)(brand_name)\n",
    "\n",
    "item_cond_emb = Embedding(max_len_condition, 5)(item_condition)\n",
    "\n",
    "name_emb = Embedding(max_len, 15)(name)\n",
    "item_desc_emb = Embedding(max_len, 80)(item_desc)\n",
    "\n",
    "desc_len_emb = Embedding(max_len_desc, 5)(desc_len)\n",
    "name_len_emb = Embedding(max_len_name, 5)(name_len)\n"
   ]
  },
  {
   "cell_type": "code",
   "execution_count": 0,
   "metadata": {
    "colab": {},
    "colab_type": "code",
    "id": "W3Huj0B9SGr5"
   },
   "outputs": [],
   "source": [
    "convs1 = []\n",
    "convs2 = []\n",
    "for filter_length in [1,2]:\n",
    "  cnn_layer1 = Conv1D(filters=50, kernel_size=filter_length, padding='same', activation='relu', strides=1) (name_emb)\n",
    "  cnn_layer2 = Conv1D(filters=50, kernel_size=filter_length, padding='same', activation='relu', strides=1) (item_desc_emb)\n",
    "  maxpool1 = GlobalMaxPooling1D() (cnn_layer1)\n",
    "  maxpool2 = GlobalMaxPooling1D() (cnn_layer2)\n",
    "  convs1.append(maxpool1)\n",
    "  convs2.append(maxpool2)"
   ]
  },
  {
   "cell_type": "code",
   "execution_count": 0,
   "metadata": {
    "colab": {},
    "colab_type": "code",
    "id": "kMCQnXGQYHAy"
   },
   "outputs": [],
   "source": [
    "convs1 = concatenate(convs1)\n",
    "convs2 = concatenate(convs2)"
   ]
  },
  {
   "cell_type": "code",
   "execution_count": 0,
   "metadata": {
    "colab": {},
    "colab_type": "code",
    "id": "6RoyxJFYYTFy"
   },
   "outputs": [],
   "source": [
    "flat_1 = Flatten() (brand_emb)\n",
    "flat_2 = Flatten() (item_cond_emb)\n",
    "flat_5 = Flatten() (sub0_emb)\n",
    "flat_6 = Flatten() (sub1_emb)\n",
    "flat_7 = Flatten() (sub2_emb)"
   ]
  },
  {
   "cell_type": "code",
   "execution_count": 0,
   "metadata": {
    "colab": {},
    "colab_type": "code",
    "id": "Tmk7h6W5Ygwz"
   },
   "outputs": [],
   "source": [
    "main_l = concatenate([flat_1,flat_2,flat_5,flat_6,flat_7,convs1,convs2, num_vars ])"
   ]
  },
  {
   "cell_type": "code",
   "execution_count": 0,
   "metadata": {
    "colab": {},
    "colab_type": "code",
    "id": "R6MzJNbYYwEd"
   },
   "outputs": [],
   "source": [
    "main_l = Dropout(0.1)(Dense(256,kernel_initializer='normal',activation='relu') (main_l))\n",
    "main_l = BatchNormalization()(Dense(128,kernel_initializer='normal',activation='relu') (main_l))\n",
    "main_l = Dropout(0.1)(Dense(64,kernel_initializer='normal',activation='relu') (main_l))\n",
    "main_l = BatchNormalization()(Dense(32,kernel_initializer='normal',activation='relu') (main_l))"
   ]
  },
  {
   "cell_type": "code",
   "execution_count": 0,
   "metadata": {
    "colab": {
     "base_uri": "https://localhost:8080/",
     "height": 1000
    },
    "colab_type": "code",
    "executionInfo": {
     "elapsed": 1418,
     "status": "ok",
     "timestamp": 1586785286531,
     "user": {
      "displayName": "Sridatta Marati",
      "photoUrl": "",
      "userId": "13444678406649845318"
     },
     "user_tz": -330
    },
    "id": "sMJPtAlEY3iJ",
    "outputId": "76f801da-1275-4ae5-b413-3a43612d967c"
   },
   "outputs": [
    {
     "name": "stdout",
     "output_type": "stream",
     "text": [
      "Model: \"model_2\"\n",
      "__________________________________________________________________________________________________\n",
      "Layer (type)                    Output Shape         Param #     Connected to                     \n",
      "==================================================================================================\n",
      "name (InputLayer)               (None, 15)           0                                            \n",
      "__________________________________________________________________________________________________\n",
      "item_desc (InputLayer)          (None, 80)           0                                            \n",
      "__________________________________________________________________________________________________\n",
      "embedding_6 (Embedding)         (None, 15, 15)       3831630     name[0][0]                       \n",
      "__________________________________________________________________________________________________\n",
      "embedding_7 (Embedding)         (None, 80, 80)       20435360    item_desc[0][0]                  \n",
      "__________________________________________________________________________________________________\n",
      "brand_name (InputLayer)         (None, 1)            0                                            \n",
      "__________________________________________________________________________________________________\n",
      "item_condition (InputLayer)     (None, 1)            0                                            \n",
      "__________________________________________________________________________________________________\n",
      "subcat_0 (InputLayer)           (None, 1)            0                                            \n",
      "__________________________________________________________________________________________________\n",
      "subcat_1 (InputLayer)           (None, 1)            0                                            \n",
      "__________________________________________________________________________________________________\n",
      "subcat_2 (InputLayer)           (None, 1)            0                                            \n",
      "__________________________________________________________________________________________________\n",
      "conv1d_3 (Conv1D)               (None, 15, 50)       800         embedding_6[0][0]                \n",
      "__________________________________________________________________________________________________\n",
      "conv1d_5 (Conv1D)               (None, 15, 50)       1550        embedding_6[0][0]                \n",
      "__________________________________________________________________________________________________\n",
      "conv1d_4 (Conv1D)               (None, 80, 50)       4050        embedding_7[0][0]                \n",
      "__________________________________________________________________________________________________\n",
      "conv1d_6 (Conv1D)               (None, 80, 50)       8050        embedding_7[0][0]                \n",
      "__________________________________________________________________________________________________\n",
      "embedding_4 (Embedding)         (None, 1, 10)        1155760     brand_name[0][0]                 \n",
      "__________________________________________________________________________________________________\n",
      "embedding_5 (Embedding)         (None, 1, 5)         25          item_condition[0][0]             \n",
      "__________________________________________________________________________________________________\n",
      "embedding_1 (Embedding)         (None, 1, 10)        110         subcat_0[0][0]                   \n",
      "__________________________________________________________________________________________________\n",
      "embedding_2 (Embedding)         (None, 1, 10)        1140        subcat_1[0][0]                   \n",
      "__________________________________________________________________________________________________\n",
      "embedding_3 (Embedding)         (None, 1, 10)        8710        subcat_2[0][0]                   \n",
      "__________________________________________________________________________________________________\n",
      "global_max_pooling1d_1 (GlobalM (None, 50)           0           conv1d_3[0][0]                   \n",
      "__________________________________________________________________________________________________\n",
      "global_max_pooling1d_3 (GlobalM (None, 50)           0           conv1d_5[0][0]                   \n",
      "__________________________________________________________________________________________________\n",
      "global_max_pooling1d_2 (GlobalM (None, 50)           0           conv1d_4[0][0]                   \n",
      "__________________________________________________________________________________________________\n",
      "global_max_pooling1d_4 (GlobalM (None, 50)           0           conv1d_6[0][0]                   \n",
      "__________________________________________________________________________________________________\n",
      "flatten_1 (Flatten)             (None, 10)           0           embedding_4[0][0]                \n",
      "__________________________________________________________________________________________________\n",
      "flatten_2 (Flatten)             (None, 5)            0           embedding_5[0][0]                \n",
      "__________________________________________________________________________________________________\n",
      "flatten_3 (Flatten)             (None, 10)           0           embedding_1[0][0]                \n",
      "__________________________________________________________________________________________________\n",
      "flatten_4 (Flatten)             (None, 10)           0           embedding_2[0][0]                \n",
      "__________________________________________________________________________________________________\n",
      "flatten_5 (Flatten)             (None, 10)           0           embedding_3[0][0]                \n",
      "__________________________________________________________________________________________________\n",
      "concatenate_1 (Concatenate)     (None, 100)          0           global_max_pooling1d_1[0][0]     \n",
      "                                                                 global_max_pooling1d_3[0][0]     \n",
      "__________________________________________________________________________________________________\n",
      "concatenate_2 (Concatenate)     (None, 100)          0           global_max_pooling1d_2[0][0]     \n",
      "                                                                 global_max_pooling1d_4[0][0]     \n",
      "__________________________________________________________________________________________________\n",
      "shipping (InputLayer)           (None, 1)            0                                            \n",
      "__________________________________________________________________________________________________\n",
      "concatenate_3 (Concatenate)     (None, 246)          0           flatten_1[0][0]                  \n",
      "                                                                 flatten_2[0][0]                  \n",
      "                                                                 flatten_3[0][0]                  \n",
      "                                                                 flatten_4[0][0]                  \n",
      "                                                                 flatten_5[0][0]                  \n",
      "                                                                 concatenate_1[0][0]              \n",
      "                                                                 concatenate_2[0][0]              \n",
      "                                                                 shipping[0][0]                   \n",
      "__________________________________________________________________________________________________\n",
      "dense_1 (Dense)                 (None, 256)          63232       concatenate_3[0][0]              \n",
      "__________________________________________________________________________________________________\n",
      "dropout_1 (Dropout)             (None, 256)          0           dense_1[0][0]                    \n",
      "__________________________________________________________________________________________________\n",
      "dense_2 (Dense)                 (None, 256)          65792       dropout_1[0][0]                  \n",
      "__________________________________________________________________________________________________\n",
      "dropout_2 (Dropout)             (None, 256)          0           dense_2[0][0]                    \n",
      "__________________________________________________________________________________________________\n",
      "dense_3 (Dense)                 (None, 128)          32896       dropout_2[0][0]                  \n",
      "__________________________________________________________________________________________________\n",
      "batch_normalization_1 (BatchNor (None, 128)          512         dense_3[0][0]                    \n",
      "__________________________________________________________________________________________________\n",
      "dense_4 (Dense)                 (None, 64)           8256        batch_normalization_1[0][0]      \n",
      "__________________________________________________________________________________________________\n",
      "dropout_3 (Dropout)             (None, 64)           0           dense_4[0][0]                    \n",
      "__________________________________________________________________________________________________\n",
      "dense_5 (Dense)                 (None, 32)           2080        dropout_3[0][0]                  \n",
      "__________________________________________________________________________________________________\n",
      "batch_normalization_2 (BatchNor (None, 32)           128         dense_5[0][0]                    \n",
      "__________________________________________________________________________________________________\n",
      "dense_7 (Dense)                 (None, 1)            33          batch_normalization_2[0][0]      \n",
      "==================================================================================================\n",
      "Total params: 25,620,114\n",
      "Trainable params: 25,619,794\n",
      "Non-trainable params: 320\n",
      "__________________________________________________________________________________________________\n"
     ]
    }
   ],
   "source": [
    "output = Dense(1, activation=\"linear\") (main_l)\n",
    "    \n",
    "model_2 = Model([name, item_desc, brand_name , desc_len,name_len, item_condition, subcat_0, subcat_1, subcat_2, num_vars ], output)\n",
    "\n",
    "optimizer = optimizers.Adam(lr = 0.005)\n",
    "model_2.compile(loss = 'mse', optimizer = optimizer)\n",
    "\n",
    "model_2.summary()"
   ]
  },
  {
   "cell_type": "code",
   "execution_count": 0,
   "metadata": {
    "colab": {
     "base_uri": "https://localhost:8080/",
     "height": 153
    },
    "colab_type": "code",
    "executionInfo": {
     "elapsed": 156183,
     "status": "ok",
     "timestamp": 1586785459095,
     "user": {
      "displayName": "Sridatta Marati",
      "photoUrl": "",
      "userId": "13444678406649845318"
     },
     "user_tz": -330
    },
    "id": "q5lrS_q9KP28",
    "outputId": "b8f6ffa7-5a95-44b2-89b8-2d222dba8da8"
   },
   "outputs": [
    {
     "name": "stderr",
     "output_type": "stream",
     "text": [
      "/usr/local/lib/python3.6/dist-packages/tensorflow/python/framework/indexed_slices.py:434: UserWarning: Converting sparse IndexedSlices to a dense Tensor of unknown shape. This may consume a large amount of memory.\n",
      "  \"Converting sparse IndexedSlices to a dense Tensor of unknown shape. \"\n"
     ]
    },
    {
     "name": "stdout",
     "output_type": "stream",
     "text": [
      "Epoch 1/2\n",
      "1432350/1432350 [==============================] - 80s 56us/step - loss: 0.4585\n",
      "Epoch 2/2\n",
      "1432350/1432350 [==============================] - 73s 51us/step - loss: 0.1629\n"
     ]
    },
    {
     "data": {
      "text/plain": [
       "<keras.callbacks.callbacks.History at 0x7fe86c4f6c18>"
      ]
     },
     "execution_count": 36,
     "metadata": {
      "tags": []
     },
     "output_type": "execute_result"
    }
   ],
   "source": [
    "model_2.fit(x_tr, Y_train, epochs= 2 , batch_size= 512 * 3)"
   ]
  },
  {
   "cell_type": "code",
   "execution_count": 0,
   "metadata": {
    "colab": {
     "base_uri": "https://localhost:8080/",
     "height": 33
    },
    "colab_type": "code",
    "executionInfo": {
     "elapsed": 1541,
     "status": "ok",
     "timestamp": 1586769781933,
     "user": {
      "displayName": "Sridatta Marati",
      "photoUrl": "",
      "userId": "13444678406649845318"
     },
     "user_tz": -330
    },
    "id": "EBMyPdcc2ToZ",
    "outputId": "d8e9004c-9002-48e1-edc4-055ad30118af"
   },
   "outputs": [
    {
     "name": "stdout",
     "output_type": "stream",
     "text": [
      " RMSLE error: 0.42633457644517353\n"
     ]
    }
   ],
   "source": [
    "y_pred = model_2.predict(x_te, batch_size=batch_size)\n",
    "print(\" RMSLE error:\", rmsle(Y_test, y_pred))"
   ]
  },
  {
   "cell_type": "markdown",
   "metadata": {
    "colab_type": "text",
    "id": "nwTP_tkVxhjZ"
   },
   "source": [
    "# **TESTING ON TEST DATA:**"
   ]
  },
  {
   "cell_type": "code",
   "execution_count": 0,
   "metadata": {
    "colab": {
     "base_uri": "https://localhost:8080/",
     "height": 283
    },
    "colab_type": "code",
    "executionInfo": {
     "elapsed": 90651,
     "status": "ok",
     "timestamp": 1586871311020,
     "user": {
      "displayName": "Sridatta Marati",
      "photoUrl": "",
      "userId": "13444678406649845318"
     },
     "user_tz": -330
    },
    "id": "Wc4O5hNbxgpw",
    "outputId": "1ac274a9-5859-4904-dd9a-5a81ad11ce04"
   },
   "outputs": [
    {
     "name": "stdout",
     "output_type": "stream",
     "text": [
      "Importing Train Data...\n",
      "Shape of Train data : (1482535, 8)\n",
      "Checking for any null values..\n",
      "train_id             False\n",
      "name                 False\n",
      "item_condition_id    False\n",
      "category_name         True\n",
      "brand_name            True\n",
      "price                False\n",
      "shipping             False\n",
      "item_description      True\n",
      "dtype: bool\n",
      "Performing Preprocessing and Feature engineering...\n",
      "607593\n",
      "125239\n",
      "Electronics/Computers & Tablets/Components & Parts\n"
     ]
    }
   ],
   "source": [
    "# Importing train data.\n",
    "print(\"Importing Train Data...\")\n",
    "train = pd.read_table('/content/drive/My Drive/train.tsv')\n",
    "print(\"Shape of Train data :\",train.shape)\n",
    "# Checking for NaN in the data.\n",
    "print(\"Checking for any null values..\")\n",
    "print(train.isnull().any())\n",
    "print(\"Performing Preprocessing and Feature engineering...\")\n",
    "# Removing Lower Prices which are less than 3.\n",
    "train = train.drop(train[(train.price < 5.0)].index)\n",
    "train.shape\n",
    "# Getting Length of each text in name and item_description.\n",
    "train['desc_len'] = train['item_description'].apply(lambda x: word_count(x))\n",
    "train['name_len'] = train['name'].apply(lambda x: word_count(x))\n",
    "train.head()\n",
    "# Subdiving category.\n",
    "train[\"subcat_0\"] = cat_split(\"category_name\",0)\n",
    "train[\"subcat_1\"] = cat_split(\"category_name\",1)\n",
    "train[\"subcat_2\"] = cat_split(\"category_name\",2)\n",
    "# Filling All the NAN rows of brand name with text \"missing\"\n",
    "brand_vocab = set(train['brand_name'].values) # Get all the brands.\n",
    "train.brand_name.fillna(value = \"missing\", inplace = True)\n",
    "#all_brands\n",
    "missing = len(train.loc[train[\"brand_name\"] == 'missing'])\n",
    "#premissing\n",
    "print(missing)\n",
    "train['brand_name'] = train[['brand_name','name']].apply(finding_brand, axis = 1)\n",
    "detected_brands = missing-len(train.loc[train['brand_name'] == 'missing'])\n",
    "print(detected_brands)\n",
    "train = fill_missing_values(train)\n",
    "print(train.category_name[1])\n",
    "train[\"target\"] = np.log1p(train.price)"
   ]
  },
  {
   "cell_type": "code",
   "execution_count": 0,
   "metadata": {
    "colab": {
     "base_uri": "https://localhost:8080/",
     "height": 267
    },
    "colab_type": "code",
    "executionInfo": {
     "elapsed": 44124,
     "status": "ok",
     "timestamp": 1586871356587,
     "user": {
      "displayName": "Sridatta Marati",
      "photoUrl": "",
      "userId": "13444678406649845318"
     },
     "user_tz": -330
    },
    "id": "WcvZaT1M5A7g",
    "outputId": "742af28e-f570-455f-f00f-2f232bd50b20"
   },
   "outputs": [
    {
     "name": "stdout",
     "output_type": "stream",
     "text": [
      "Importing Test Data...\n",
      "Shape of Train data : (693359, 7)\n",
      "Checking for any null values..\n",
      "test_id              False\n",
      "name                 False\n",
      "item_condition_id    False\n",
      "category_name         True\n",
      "brand_name            True\n",
      "shipping             False\n",
      "item_description     False\n",
      "dtype: bool\n",
      "Performing Preprocessing and Feature engineering...\n",
      "295525\n",
      "59695\n",
      "Other/Office supplies/Shipping Supplies\n"
     ]
    }
   ],
   "source": [
    "# Importing Test data.\n",
    "print(\"Importing Test Data...\")\n",
    "test = pd.read_table('/content/drive/My Drive/test.tsv')\n",
    "print(\"Shape of Train data :\",test.shape)\n",
    "# Checking for NaN in the data.\n",
    "print(\"Checking for any null values..\")\n",
    "print(test.isnull().any())\n",
    "print(\"Performing Preprocessing and Feature engineering...\")\n",
    "# Removing Lower Prices which are less than 3.\n",
    "test.shape\n",
    "# Getting Length of each text in name and item_description.\n",
    "test['desc_len'] = test['item_description'].apply(lambda x: word_count(x))\n",
    "test['name_len'] = test['name'].apply(lambda x: word_count(x))\n",
    "test.head()\n",
    "# Subdiving category.\n",
    "test[\"subcat_0\"] = cat_split_test(\"category_name\",0)\n",
    "test[\"subcat_1\"] = cat_split_test(\"category_name\",1)\n",
    "test[\"subcat_2\"] = cat_split_test(\"category_name\",2)\n",
    "# Filling All the NAN rows of brand name with text \"missing\"\n",
    "brand_vocab = set(test['brand_name'].values) # Get all the brands.\n",
    "test.brand_name.fillna(value = \"missing\", inplace = True)\n",
    "#all_brands\n",
    "missing = len(test.loc[test[\"brand_name\"] == 'missing'])\n",
    "#premissing\n",
    "print(missing)\n",
    "test['brand_name'] = test[['brand_name','name']].apply(finding_brand, axis = 1)\n",
    "detected_brands = missing-len(test.loc[test['brand_name'] == 'missing'])\n",
    "print(detected_brands)\n",
    "test = fill_missing_values(test)\n",
    "print(test.category_name[1])"
   ]
  },
  {
   "cell_type": "code",
   "execution_count": 0,
   "metadata": {
    "colab": {},
    "colab_type": "code",
    "id": "Y3cLnPm05A1t"
   },
   "outputs": [],
   "source": [
    "# https://stackoverflow.com/a/56876351\n",
    "from sklearn.preprocessing import LabelEncoder\n",
    "import numpy as np\n",
    "\n",
    "\n",
    "class LabelEncoderExt(object):\n",
    "    def __init__(self):\n",
    "        \"\"\"\n",
    "        It differs from LabelEncoder by handling new classes and providing a value for it [Unknown]\n",
    "        Unknown will be added in fit and transform will take care of new item. It gives unknown class id\n",
    "        \"\"\"\n",
    "        self.label_encoder = LabelEncoder()\n",
    "        # self.classes_ = self.label_encoder.classes_\n",
    "\n",
    "    def fit(self, data_list):\n",
    "        \"\"\"\n",
    "        This will fit the encoder for all the unique values and introduce unknown value\n",
    "        :param data_list: A list of string\n",
    "        :return: self\n",
    "        \"\"\"\n",
    "        self.label_encoder = self.label_encoder.fit(list(data_list) + ['Unknown'])\n",
    "        self.classes_ = self.label_encoder.classes_\n",
    "\n",
    "        return self\n",
    "\n",
    "    def transform(self, data_list):\n",
    "        \"\"\"\n",
    "        This will transform the data_list to id list where the new values get assigned to Unknown class\n",
    "        :param data_list:\n",
    "        :return:\n",
    "        \"\"\"\n",
    "        new_data_list = list(data_list)\n",
    "        for unique_item in np.unique(data_list):\n",
    "            if unique_item not in self.label_encoder.classes_:\n",
    "                new_data_list = ['Unknown' if x==unique_item else x for x in new_data_list]\n",
    "\n",
    "        return self.label_encoder.transform(new_data_list)"
   ]
  },
  {
   "cell_type": "code",
   "execution_count": 0,
   "metadata": {
    "colab": {},
    "colab_type": "code",
    "id": "ZJXj8XpG5A0S"
   },
   "outputs": [],
   "source": [
    "# We Convert all the data columns in the form of strings.\n",
    "train['brand_name'] = train['brand_name'].fillna('missing').astype(str)\n",
    "test['brand_name'] = test['brand_name'].fillna('missing').astype(str)\n",
    "\n",
    "\n",
    "label = LabelEncoderExt()\n",
    "label.fit(np.hstack([train.brand_name, test.brand_name]))\n",
    "train['brand_name'] = label.transform(train.brand_name)\n",
    "test['brand_name'] = label.transform(test.brand_name)\n",
    "del label "
   ]
  },
  {
   "cell_type": "code",
   "execution_count": 0,
   "metadata": {
    "colab": {},
    "colab_type": "code",
    "id": "X2wdLVjk5AvL"
   },
   "outputs": [],
   "source": [
    "# Encoding Categorical Features.\n",
    "label = LabelEncoderExt()\n",
    "label.fit(np.hstack([train.category_name, test.category_name])) # categories united \n",
    "\n",
    "train['category'] = label.transform(train.category_name)\n",
    "test['category'] = label.transform(test.category_name)\n",
    "\n",
    "label.fit(np.hstack([train.subcat_0, test.subcat_0])) # sub_cat0\n",
    "train.subcat_0 = label.transform(train.subcat_0)\n",
    "test.subcat_0 = label.transform(test.subcat_0)\n",
    "\n",
    "label.fit(np.hstack([train.subcat_1, test.subcat_1])) # sub_cat_1\n",
    "train.subcat_1 = label.transform(train.subcat_1)\n",
    "test.subcat_1 = label.transform(test.subcat_1)\n",
    "\n",
    "label.fit(np.hstack([train.subcat_2, test.subcat_2])) # sub_cat2\n",
    "train.subcat_2 = label.transform(train.subcat_2)\n",
    "test.subcat_2 = label.transform(test.subcat_2)\n",
    "del label "
   ]
  },
  {
   "cell_type": "code",
   "execution_count": 0,
   "metadata": {
    "colab": {},
    "colab_type": "code",
    "id": "lBRhUiFg5Att"
   },
   "outputs": [],
   "source": [
    "# Text to Sequence Data.\n",
    "# Combining columns, item_description, name, category_name.\n",
    "full_text = np.hstack([train.item_description.str.lower(), train.name.str.lower(), train.category_name.str.lower()]) \n",
    "\n",
    "# Tokenizing on combined columns.\n",
    "tokenizer = Tokenizer()\n",
    "tokenizer.fit_on_texts(full_text)\n",
    " \n",
    "train['seq_desc'] = tokenizer.texts_to_sequences(train.item_description.str.lower()) \n",
    "test['seq_desc'] = tokenizer.texts_to_sequences(test.item_description.str.lower()) \n",
    "\n",
    "train['seq_name'] = tokenizer.texts_to_sequences(train.name.str.lower()) \n",
    "test['seq_name'] = tokenizer.texts_to_sequences(test.name.str.lower()) "
   ]
  },
  {
   "cell_type": "code",
   "execution_count": 0,
   "metadata": {
    "colab": {},
    "colab_type": "code",
    "id": "mkEfcuOY5Aog"
   },
   "outputs": [],
   "source": [
    "# max length for Categorical Data.\n",
    "max_len_brand =  np.max([train.brand_name.max(), test.brand_name.max()])  # brand # brand \n",
    "max_len_condition = np.max([max(train.item_condition_id), max(test.item_condition_id)])  # item_cond\n",
    "max_len_desc = np.max([int(train.desc_len.max()), int(test.desc_len.max())])  # item_desc_len\n",
    "max_len_name = np.max([int(train.name_len.max()), int(test.name_len.max())])  # name_len\n",
    "max_len_sub0 = np.max([int(train.subcat_0.max()), int(train.subcat_0.max())])  # Sub_0\n",
    "max_len_sub1 = np.max([int(train.subcat_1.max()), int(train.subcat_1.max())])  # Sub_1\n",
    "max_len_sub2 = np.max([train.subcat_2.max(), train.subcat_2.max()])  # Sub_2\n",
    "# Defining max length for Padding Text Data.\n",
    "name_padding = 15\n",
    "description_padding = 80\n",
    "max_len = np.max([np.max(train.seq_name.max()),np.max(train.seq_desc.max()),np.max(test.seq_name.max()),np.max(test.seq_desc.max())])"
   ]
  },
  {
   "cell_type": "code",
   "execution_count": 0,
   "metadata": {
    "colab": {},
    "colab_type": "code",
    "id": "VUAQXS2t5AnO"
   },
   "outputs": [],
   "source": [
    "# Train and Test Split.\n",
    "x_tr, x_te = train_test_split(train, random_state=123, train_size=0.99)\n",
    "Y_train = x_tr.target.values.reshape(-1, 1)\n",
    "Y_test = x_te.target.values.reshape(-1, 1)"
   ]
  },
  {
   "cell_type": "code",
   "execution_count": 0,
   "metadata": {
    "colab": {},
    "colab_type": "code",
    "id": "Wn2OHfTx5AjF"
   },
   "outputs": [],
   "source": [
    "# Padding Name :\n",
    "x_train_padded = { \n",
    "\"name\" : pad_sequences(x_tr.seq_name, maxlen= name_padding),\n",
    "\"item_desc\" : pad_sequences(x_tr.seq_desc, maxlen= description_padding),\n",
    "\"brand_name\" : np.array(x_tr.brand_name),\n",
    "\"category\" :np.array(x_tr.category),\n",
    "\"item_condition\" : np.array(x_tr.item_condition_id),\n",
    "\"shipping\" : np.array(x_tr[[\"shipping\"]]),\n",
    "\"desc_len\" : np.array(x_tr[[\"desc_len\"]]),\n",
    "\"name_len\" : np.array(x_tr[[\"name_len\"]]),\n",
    "\"subcat_0\" : np.array(x_tr.subcat_0),\n",
    "\"subcat_1\"  : np.array(x_tr.subcat_1),\n",
    "\"subcat_2\" : np.array(x_tr.subcat_2),\n",
    "} \n",
    "\n",
    "x_test_padded = {\n",
    "\"name\" : pad_sequences(x_te.seq_name, maxlen= name_padding),\n",
    "\"item_desc\" : pad_sequences(x_te.seq_desc, maxlen= description_padding),\n",
    "\"brand_name\" : np.array(x_te.brand_name),\n",
    "\"category\" : np.array(x_te.category),\n",
    "\"item_condition\" : np.array(x_te.item_condition_id),\n",
    "\"shipping\" : np.array(x_te[[\"shipping\"]]),\n",
    "\"desc_len\" : np.array(x_te[[\"desc_len\"]]),\n",
    "\"name_len\" : np.array(x_te[[\"name_len\"]]),\n",
    "\"subcat_0\" : np.array(x_te.subcat_0),\n",
    "\"subcat_1\" : np.array(x_te.subcat_1),\n",
    "\"subcat_2\" : np.array(x_te.subcat_2),\n",
    "}\n",
    "\n",
    "\n",
    "te_data = {\n",
    "\"name\" : pad_sequences(test.seq_name, maxlen= name_padding),\n",
    "\"item_desc\" : pad_sequences(test.seq_desc, maxlen= description_padding),\n",
    "\"brand_name\" : np.array(test.brand_name),\n",
    "\"category\" : np.array(test.category),\n",
    "\"item_condition\" : np.array(test.item_condition_id),\n",
    "\"shipping\" : np.array(test[[\"shipping\"]]),\n",
    "\"desc_len\" : np.array(test[[\"desc_len\"]]),\n",
    "\"name_len\" : np.array(test[[\"name_len\"]]),\n",
    "\"subcat_0\" : np.array(test.subcat_0),\n",
    "\"subcat_1\" : np.array(test.subcat_1),\n",
    "\"subcat_2\" : np.array(test.subcat_2),\n",
    "}"
   ]
  },
  {
   "cell_type": "code",
   "execution_count": 0,
   "metadata": {
    "colab": {},
    "colab_type": "code",
    "id": "O6CAZwwI5AiF"
   },
   "outputs": [],
   "source": [
    "x_tr = x_train_padded\n",
    "x_te = x_test_padded\n",
    "X_test = te_data"
   ]
  },
  {
   "cell_type": "code",
   "execution_count": 0,
   "metadata": {
    "colab": {
     "base_uri": "https://localhost:8080/",
     "height": 1000
    },
    "colab_type": "code",
    "executionInfo": {
     "elapsed": 212982,
     "status": "ok",
     "timestamp": 1586872010278,
     "user": {
      "displayName": "Sridatta Marati",
      "photoUrl": "",
      "userId": "13444678406649845318"
     },
     "user_tz": -330
    },
    "id": "V4i6mBa05AdD",
    "outputId": "52015244-fb1b-4ebd-db51-a453eb6fc0f2"
   },
   "outputs": [
    {
     "name": "stdout",
     "output_type": "stream",
     "text": [
      "Model: \"model_8\"\n",
      "__________________________________________________________________________________________________\n",
      "Layer (type)                    Output Shape         Param #     Connected to                     \n",
      "==================================================================================================\n",
      "name (InputLayer)               (None, 15)           0                                            \n",
      "__________________________________________________________________________________________________\n",
      "item_desc (InputLayer)          (None, 80)           0                                            \n",
      "__________________________________________________________________________________________________\n",
      "embedding_71 (Embedding)        (None, 15, 15)       3831630     name[0][0]                       \n",
      "__________________________________________________________________________________________________\n",
      "embedding_72 (Embedding)        (None, 80, 80)       20435360    item_desc[0][0]                  \n",
      "__________________________________________________________________________________________________\n",
      "brand_name (InputLayer)         (None, 1)            0                                            \n",
      "__________________________________________________________________________________________________\n",
      "item_condition (InputLayer)     (None, 1)            0                                            \n",
      "__________________________________________________________________________________________________\n",
      "subcat_0 (InputLayer)           (None, 1)            0                                            \n",
      "__________________________________________________________________________________________________\n",
      "subcat_1 (InputLayer)           (None, 1)            0                                            \n",
      "__________________________________________________________________________________________________\n",
      "subcat_2 (InputLayer)           (None, 1)            0                                            \n",
      "__________________________________________________________________________________________________\n",
      "conv1d_29 (Conv1D)              (None, 15, 50)       800         embedding_71[0][0]               \n",
      "__________________________________________________________________________________________________\n",
      "conv1d_31 (Conv1D)              (None, 15, 50)       1550        embedding_71[0][0]               \n",
      "__________________________________________________________________________________________________\n",
      "conv1d_30 (Conv1D)              (None, 80, 50)       4050        embedding_72[0][0]               \n",
      "__________________________________________________________________________________________________\n",
      "conv1d_32 (Conv1D)              (None, 80, 50)       8050        embedding_72[0][0]               \n",
      "__________________________________________________________________________________________________\n",
      "embedding_69 (Embedding)        (None, 1, 10)        1654600     brand_name[0][0]                 \n",
      "__________________________________________________________________________________________________\n",
      "embedding_70 (Embedding)        (None, 1, 5)         25          item_condition[0][0]             \n",
      "__________________________________________________________________________________________________\n",
      "embedding_66 (Embedding)        (None, 1, 10)        110         subcat_0[0][0]                   \n",
      "__________________________________________________________________________________________________\n",
      "embedding_67 (Embedding)        (None, 1, 10)        1140        subcat_1[0][0]                   \n",
      "__________________________________________________________________________________________________\n",
      "embedding_68 (Embedding)        (None, 1, 10)        8830        subcat_2[0][0]                   \n",
      "__________________________________________________________________________________________________\n",
      "global_max_pooling1d_29 (Global (None, 50)           0           conv1d_29[0][0]                  \n",
      "__________________________________________________________________________________________________\n",
      "global_max_pooling1d_31 (Global (None, 50)           0           conv1d_31[0][0]                  \n",
      "__________________________________________________________________________________________________\n",
      "global_max_pooling1d_30 (Global (None, 50)           0           conv1d_30[0][0]                  \n",
      "__________________________________________________________________________________________________\n",
      "global_max_pooling1d_32 (Global (None, 50)           0           conv1d_32[0][0]                  \n",
      "__________________________________________________________________________________________________\n",
      "flatten_36 (Flatten)            (None, 10)           0           embedding_69[0][0]               \n",
      "__________________________________________________________________________________________________\n",
      "flatten_37 (Flatten)            (None, 5)            0           embedding_70[0][0]               \n",
      "__________________________________________________________________________________________________\n",
      "flatten_38 (Flatten)            (None, 10)           0           embedding_66[0][0]               \n",
      "__________________________________________________________________________________________________\n",
      "flatten_39 (Flatten)            (None, 10)           0           embedding_67[0][0]               \n",
      "__________________________________________________________________________________________________\n",
      "flatten_40 (Flatten)            (None, 10)           0           embedding_68[0][0]               \n",
      "__________________________________________________________________________________________________\n",
      "concatenate_22 (Concatenate)    (None, 100)          0           global_max_pooling1d_29[0][0]    \n",
      "                                                                 global_max_pooling1d_31[0][0]    \n",
      "__________________________________________________________________________________________________\n",
      "concatenate_23 (Concatenate)    (None, 100)          0           global_max_pooling1d_30[0][0]    \n",
      "                                                                 global_max_pooling1d_32[0][0]    \n",
      "__________________________________________________________________________________________________\n",
      "shipping (InputLayer)           (None, 1)            0                                            \n",
      "__________________________________________________________________________________________________\n",
      "concatenate_24 (Concatenate)    (None, 246)          0           flatten_36[0][0]                 \n",
      "                                                                 flatten_37[0][0]                 \n",
      "                                                                 flatten_38[0][0]                 \n",
      "                                                                 flatten_39[0][0]                 \n",
      "                                                                 flatten_40[0][0]                 \n",
      "                                                                 concatenate_22[0][0]             \n",
      "                                                                 concatenate_23[0][0]             \n",
      "                                                                 shipping[0][0]                   \n",
      "__________________________________________________________________________________________________\n",
      "dense_36 (Dense)                (None, 256)          63232       concatenate_24[0][0]             \n",
      "__________________________________________________________________________________________________\n",
      "dropout_15 (Dropout)            (None, 256)          0           dense_36[0][0]                   \n",
      "__________________________________________________________________________________________________\n",
      "dense_37 (Dense)                (None, 128)          32896       dropout_15[0][0]                 \n",
      "__________________________________________________________________________________________________\n",
      "batch_normalization_15 (BatchNo (None, 128)          512         dense_37[0][0]                   \n",
      "__________________________________________________________________________________________________\n",
      "dense_38 (Dense)                (None, 64)           8256        batch_normalization_15[0][0]     \n",
      "__________________________________________________________________________________________________\n",
      "dropout_16 (Dropout)            (None, 64)           0           dense_38[0][0]                   \n",
      "__________________________________________________________________________________________________\n",
      "dense_39 (Dense)                (None, 32)           2080        dropout_16[0][0]                 \n",
      "__________________________________________________________________________________________________\n",
      "batch_normalization_16 (BatchNo (None, 32)           128         dense_39[0][0]                   \n",
      "__________________________________________________________________________________________________\n",
      "dense_40 (Dense)                (None, 1)            33          batch_normalization_16[0][0]     \n",
      "==================================================================================================\n",
      "Total params: 26,053,282\n",
      "Trainable params: 26,052,962\n",
      "Non-trainable params: 320\n",
      "__________________________________________________________________________________________________\n"
     ]
    }
   ],
   "source": [
    "# Definign Inputs.\n",
    "subcat_0 = Input(shape=[1], name=\"subcat_0\")\n",
    "subcat_1 = Input(shape=[1], name=\"subcat_1\")\n",
    "subcat_2 = Input(shape=[1], name=\"subcat_2\")\n",
    "desc_len = Input(shape=[1], name=\"desc_len\")\n",
    "name_len = Input(shape=[1], name=\"name_len\")\n",
    "\n",
    "brand_name =Input(shape=[1], name=\"brand_name\")\n",
    "\n",
    "num_vars = Input(shape=[x_tr[\"shipping\"].shape[1]], name=\"shipping\")\n",
    "\n",
    "item_condition = Input(shape=[1], name=\"item_condition\")\n",
    "\n",
    "name = Input(shape=[x_tr[\"name\"].shape[1]], name=\"name\") # 15 shape = [15]\n",
    "item_desc = Input(shape=[x_tr[\"item_desc\"].shape[1]], name=\"item_desc\") # 80 shape = [80]\n",
    "\n",
    "sub0_emb = Embedding(max_len_sub0, 10)(subcat_0)\n",
    "sub1_emb = Embedding(max_len_sub1, 10)(subcat_1)\n",
    "sub2_emb = Embedding(max_len_sub2, 10)(subcat_2)\n",
    "\n",
    "brand_emb = Embedding(max_len_brand, 10)(brand_name)\n",
    "\n",
    "item_cond_emb = Embedding(max_len_condition, 5)(item_condition)\n",
    "\n",
    "name_emb = Embedding(max_len, 15)(name)\n",
    "item_desc_emb = Embedding(max_len, 80)(item_desc)\n",
    "\n",
    "desc_len_emb = Embedding(max_len_desc, 5)(desc_len)\n",
    "name_len_emb = Embedding(max_len_name, 5)(name_len)\n",
    "\n",
    "\n",
    "\n",
    "convs1 = []\n",
    "convs2 = []\n",
    "for filter_length in [1,2]:\n",
    "  cnn_layer1 = Conv1D(filters=50, kernel_size=filter_length, padding='same', activation='relu', strides=1) (name_emb)\n",
    "  cnn_layer2 = Conv1D(filters=50, kernel_size=filter_length, padding='same', activation='relu', strides=1) (item_desc_emb)\n",
    "  maxpool1 = GlobalMaxPooling1D() (cnn_layer1)\n",
    "  maxpool2 = GlobalMaxPooling1D() (cnn_layer2)\n",
    "  convs1.append(maxpool1)\n",
    "  convs2.append(maxpool2)\n",
    "\n",
    "convs1 = concatenate(convs1)\n",
    "convs2 = concatenate(convs2)\n",
    "\n",
    "flat_1 = Flatten() (brand_emb)\n",
    "flat_2 = Flatten() (item_cond_emb)\n",
    "flat_5 = Flatten() (sub0_emb)\n",
    "flat_6 = Flatten() (sub1_emb)\n",
    "flat_7 = Flatten() (sub2_emb)\n",
    "\n",
    "main_l = concatenate([flat_1,flat_2,flat_5,flat_6,flat_7,convs1,convs2, num_vars ])\n",
    "\n",
    "main_l = Dropout(0.1)(Dense(256,kernel_initializer='normal',activation='relu') (main_l))\n",
    "main_l = BatchNormalization()(Dense(128,kernel_initializer='normal',activation='relu') (main_l))\n",
    "main_l = Dropout(0.1)(Dense(64,kernel_initializer='normal',activation='relu') (main_l))\n",
    "main_l = BatchNormalization()(Dense(32,kernel_initializer='normal',activation='relu') (main_l))\n",
    "\n",
    "\n",
    "output = Dense(1, activation=\"linear\") (main_l)\n",
    "    \n",
    "model_2 = Model([name, item_desc, brand_name , desc_len,name_len, item_condition, subcat_0, subcat_1, subcat_2, num_vars ], output)\n",
    "\n",
    "optimizer = optimizers.Adam(lr = 0.005 )\n",
    "model_2.compile(loss = 'mse', optimizer = optimizer)\n",
    "\n",
    "model_2.summary()\n"
   ]
  },
  {
   "cell_type": "code",
   "execution_count": 0,
   "metadata": {
    "colab": {
     "base_uri": "https://localhost:8080/",
     "height": 170
    },
    "colab_type": "code",
    "executionInfo": {
     "elapsed": 364344,
     "status": "ok",
     "timestamp": 1586872161644,
     "user": {
      "displayName": "Sridatta Marati",
      "photoUrl": "",
      "userId": "13444678406649845318"
     },
     "user_tz": -330
    },
    "id": "zg3p1jgE5L7D",
    "outputId": "50f14293-a883-48ef-faf9-ed15cdd04771"
   },
   "outputs": [
    {
     "name": "stderr",
     "output_type": "stream",
     "text": [
      "/usr/local/lib/python3.6/dist-packages/tensorflow/python/framework/indexed_slices.py:434: UserWarning: Converting sparse IndexedSlices to a dense Tensor of unknown shape. This may consume a large amount of memory.\n",
      "  \"Converting sparse IndexedSlices to a dense Tensor of unknown shape. \"\n"
     ]
    },
    {
     "name": "stdout",
     "output_type": "stream",
     "text": [
      "Train on 1432350 samples, validate on 14469 samples\n",
      "Epoch 1/2\n",
      "1432350/1432350 [==============================] - 76s 53us/step - loss: 0.4525 - val_loss: 0.1941\n",
      "Epoch 2/2\n",
      "1432350/1432350 [==============================] - 73s 51us/step - loss: 0.1627 - val_loss: 0.1894\n"
     ]
    },
    {
     "data": {
      "text/plain": [
       "<keras.callbacks.callbacks.History at 0x7f8cbf593fd0>"
      ]
     },
     "execution_count": 77,
     "metadata": {
      "tags": []
     },
     "output_type": "execute_result"
    }
   ],
   "source": [
    "# Create model and fit it with training dataset.\n",
    "model_2.fit(x_tr, Y_train, epochs= 2 , batch_size= 512 * 3, validation_data = (x_te, Y_test), verbose=1)"
   ]
  },
  {
   "cell_type": "code",
   "execution_count": 0,
   "metadata": {
    "colab": {
     "base_uri": "https://localhost:8080/",
     "height": 33
    },
    "colab_type": "code",
    "executionInfo": {
     "elapsed": 1458,
     "status": "ok",
     "timestamp": 1586872177810,
     "user": {
      "displayName": "Sridatta Marati",
      "photoUrl": "",
      "userId": "13444678406649845318"
     },
     "user_tz": -330
    },
    "id": "j7OqUpCo5MN8",
    "outputId": "cfadca8a-f6d0-41a7-da0f-9956a190cb75"
   },
   "outputs": [
    {
     "name": "stdout",
     "output_type": "stream",
     "text": [
      " RMSLE error: 0.43519362249805893\n"
     ]
    }
   ],
   "source": [
    "y_pred = model_2.predict(x_te, batch_size=512*3)\n",
    "print(\" RMSLE error:\", rmsle(Y_test, y_pred))"
   ]
  },
  {
   "cell_type": "code",
   "execution_count": 0,
   "metadata": {
    "colab": {},
    "colab_type": "code",
    "id": "qOUcx8H15QA6"
   },
   "outputs": [],
   "source": [
    "#CREATE PREDICTIONS\n",
    "preds = model_2.predict(X_test, batch_size = 512*3)\n",
    "\n",
    "test_pred = np.expm1(preds)\n",
    "\n",
    "submission = pd.DataFrame(test[[\"test_id\"]])\n",
    "submission[\"price\"] = test_pred"
   ]
  },
  {
   "cell_type": "code",
   "execution_count": 0,
   "metadata": {
    "colab": {
     "base_uri": "https://localhost:8080/",
     "height": 197
    },
    "colab_type": "code",
    "executionInfo": {
     "elapsed": 6587,
     "status": "ok",
     "timestamp": 1586872194564,
     "user": {
      "displayName": "Sridatta Marati",
      "photoUrl": "",
      "userId": "13444678406649845318"
     },
     "user_tz": -330
    },
    "id": "fx7nOGUA5P7k",
    "outputId": "cbe26e27-2bd6-4dbb-c379-c2556e41f95e"
   },
   "outputs": [
    {
     "data": {
      "text/html": [
       "<div>\n",
       "<style scoped>\n",
       "    .dataframe tbody tr th:only-of-type {\n",
       "        vertical-align: middle;\n",
       "    }\n",
       "\n",
       "    .dataframe tbody tr th {\n",
       "        vertical-align: top;\n",
       "    }\n",
       "\n",
       "    .dataframe thead th {\n",
       "        text-align: right;\n",
       "    }\n",
       "</style>\n",
       "<table border=\"1\" class=\"dataframe\">\n",
       "  <thead>\n",
       "    <tr style=\"text-align: right;\">\n",
       "      <th></th>\n",
       "      <th>test_id</th>\n",
       "      <th>price</th>\n",
       "    </tr>\n",
       "  </thead>\n",
       "  <tbody>\n",
       "    <tr>\n",
       "      <th>0</th>\n",
       "      <td>0</td>\n",
       "      <td>7.189877</td>\n",
       "    </tr>\n",
       "    <tr>\n",
       "      <th>1</th>\n",
       "      <td>1</td>\n",
       "      <td>11.437581</td>\n",
       "    </tr>\n",
       "    <tr>\n",
       "      <th>2</th>\n",
       "      <td>2</td>\n",
       "      <td>42.248737</td>\n",
       "    </tr>\n",
       "    <tr>\n",
       "      <th>3</th>\n",
       "      <td>3</td>\n",
       "      <td>12.605415</td>\n",
       "    </tr>\n",
       "    <tr>\n",
       "      <th>4</th>\n",
       "      <td>4</td>\n",
       "      <td>8.467966</td>\n",
       "    </tr>\n",
       "  </tbody>\n",
       "</table>\n",
       "</div>"
      ],
      "text/plain": [
       "   test_id      price\n",
       "0        0   7.189877\n",
       "1        1  11.437581\n",
       "2        2  42.248737\n",
       "3        3  12.605415\n",
       "4        4   8.467966"
      ]
     },
     "execution_count": 81,
     "metadata": {
      "tags": []
     },
     "output_type": "execute_result"
    }
   ],
   "source": [
    "submission.head()"
   ]
  },
  {
   "cell_type": "markdown",
   "metadata": {
    "colab_type": "text",
    "id": "BKmt-JFWxq2S"
   },
   "source": [
    "# **Ensembles With Stacking**"
   ]
  },
  {
   "cell_type": "markdown",
   "metadata": {
    "colab_type": "text",
    "id": "66VPE9Kh67Rt"
   },
   "source": [
    "1. Ridge Cv\n",
    "2. SVR\n",
    "3. XGBOOST REG\n",
    "4. RF REG\n",
    "5. SGD REG\n",
    "6. LIGHT GBM REG"
   ]
  },
  {
   "cell_type": "code",
   "execution_count": 0,
   "metadata": {
    "colab": {
     "base_uri": "https://localhost:8080/",
     "height": 633
    },
    "colab_type": "code",
    "executionInfo": {
     "elapsed": 103308,
     "status": "ok",
     "timestamp": 1586878646700,
     "user": {
      "displayName": "Sridatta Marati",
      "photoUrl": "",
      "userId": "13444678406649845318"
     },
     "user_tz": -330
    },
    "id": "9ytaId-5xuFg",
    "outputId": "0058a497-ece4-4881-b29f-892e21c8f883",
    "scrolled": true
   },
   "outputs": [
    {
     "name": "stdout",
     "output_type": "stream",
     "text": [
      "Importing Train Data:\n",
      "Shape of Train Data: (1482535, 8)\n",
      "Checking For NaN in the data...\n",
      "train_id             False\n",
      "name                 False\n",
      "item_condition_id    False\n",
      "category_name         True\n",
      "brand_name            True\n",
      "price                False\n",
      "shipping             False\n",
      "item_description      True\n",
      "dtype: bool\n",
      "Removing rows which has price value less than 5\n",
      "Computing Word Count of item_description\n",
      "Computing Word Count of name\n",
      "Splitting category_name to sub categories\n",
      "Performing Feature Engineering and preprocessing :\n",
      "Filling Missing values in the Brand name...\n",
      "Total Missing Values: 607593\n",
      "Total Detected brand names : 125239\n",
      "Electronics/Computers & Tablets/Components & Parts\n",
      "Verifying Null Values in the data : train_id             False\n",
      "name                 False\n",
      "item_condition_id    False\n",
      "category_name        False\n",
      "brand_name           False\n",
      "price                False\n",
      "shipping             False\n",
      "item_description     False\n",
      "desc_len             False\n",
      "name_len             False\n",
      "subcat_0             False\n",
      "subcat_1             False\n",
      "subcat_2             False\n",
      "dtype: bool\n",
      "Converting Columns to Strings : \n",
      "Natural Logarithm on Price...\n"
     ]
    }
   ],
   "source": [
    "# Import Train Data.\n",
    "print(\"Importing Train Data:\")\n",
    "train = pd.read_table('train.tsv')\n",
    "print(\"Shape of Train Data:\", train.shape)\n",
    "print(\"Checking For NaN in the data...\")\n",
    "print(train.isnull().any())\n",
    "print(\"Removing rows which has price value less than 5\")\n",
    "# Removing Lower Prices which are less than 5. As Majority of the prices range above 5\n",
    "train = train.drop(train[(train.price < 5.0)].index)\n",
    "print(\"Computing Word Count of item_description\")\n",
    "train['desc_len'] = train['item_description'].apply(lambda x: word_count(x))\n",
    "print(\"Computing Word Count of name\")\n",
    "train['name_len'] = train['name'].apply(lambda x: word_count(x))\n",
    "print(\"Splitting category_name to sub categories\")\n",
    "# Subdiving category.\n",
    "train[\"subcat_0\"] = cat_split(\"category_name\",0)\n",
    "train[\"subcat_1\"] = cat_split(\"category_name\",1)\n",
    "train[\"subcat_2\"] = cat_split(\"category_name\",2)\n",
    "print(\"Performing Feature Engineering and preprocessing :\")\n",
    "# Filling All the NAN rows of brand name with text \"missing\"\n",
    "# Get all the vocabulary of all the words in the column Brand.\n",
    "print(\"Filling Missing values in the Brand name...\")\n",
    "brand_vocab = set(train['brand_name'].values) # Get all the brands.\n",
    "train.brand_name.fillna(value = \"missing\", inplace = True)\n",
    "# Total Count with rows \"missing\"\n",
    "missing = len(train.loc[train[\"brand_name\"] == 'missing'])\n",
    "print(\"Total Missing Values:\", missing)\n",
    "# Filling Missing values in the brand_name. \n",
    "train['brand_name'] = train[['brand_name','name']].apply(finding_brand, axis = 1) \n",
    "# Checking number of detected brand names from name column.\n",
    "detected_brands = missing-len(train.loc[train['brand_name'] == 'missing'])\n",
    "print(\"Total Detected brand names :\",detected_brands)\n",
    "train = fill_missing_values(train)\n",
    "print(train.category_name[1])\n",
    "print(\"Verifying Null Values in the data :\", train.isnull().any())\n",
    "print(\"Converting Columns to Strings : \")\n",
    "# We Convert all the data columns in the form of strings.\n",
    "train['category_name'] = train['category_name'].fillna('missing').astype(str)\n",
    "train['subcat_0'] = train['subcat_0'].astype(str)\n",
    "train['subcat_1'] = train['subcat_1'].astype(str)\n",
    "train['subcat_2'] = train['subcat_2'].astype(str)\n",
    "train['brand_name'] = train['brand_name'].fillna('missing').astype(str)\n",
    "train['shipping'] = train['shipping'].astype(str)\n",
    "train['item_condition_id'] = train['item_condition_id'].astype(str)\n",
    "train['desc_len'] = train['desc_len'].astype(str)\n",
    "train['name_len'] = train['name_len'].astype(str)\n",
    "train['item_description'] = train['item_description'].fillna('No description yet').astype(str)\n",
    "print(\"Natural Logarithm on Price...\")\n",
    "train[\"target\"] = np.log1p(train.price)"
   ]
  },
  {
   "cell_type": "code",
   "execution_count": 0,
   "metadata": {
    "colab": {
     "base_uri": "https://localhost:8080/",
     "height": 50
    },
    "colab_type": "code",
    "executionInfo": {
     "elapsed": 107373,
     "status": "ok",
     "timestamp": 1586878650787,
     "user": {
      "displayName": "Sridatta Marati",
      "photoUrl": "",
      "userId": "13444678406649845318"
     },
     "user_tz": -330
    },
    "id": "d03ett2E_UFY",
    "outputId": "402f9213-04c8-48b1-89cf-29415d254cd2"
   },
   "outputs": [
    {
     "name": "stdout",
     "output_type": "stream",
     "text": [
      "(1432350, 14)\n",
      "(14469, 14)\n"
     ]
    }
   ],
   "source": [
    "# Train and Test Split:\n",
    "x_train, x_test = train_test_split(train, random_state=123, train_size=0.99)\n",
    "print(x_train.shape)\n",
    "print(x_test.shape)\n",
    "Y_train = x_train.target.values.reshape(-1, 1)\n",
    "Y_test = x_test.target.values.reshape(-1,1)"
   ]
  },
  {
   "cell_type": "code",
   "execution_count": 0,
   "metadata": {
    "colab": {},
    "colab_type": "code",
    "id": "X6qUD4ew_WD7"
   },
   "outputs": [],
   "source": [
    "# Vectorizing Data.\n",
    "# https://towardsdatascience.com/hacking-scikit-learns-vectorizers-9ef26a7170af\n",
    "#https://www.kaggle.com/valkling/mercari-rnn-2ridge-models-with-notes-0-42755\n",
    "# https://blog.usejournal.com/featureunion-a-time-saver-when-building-a-machine-learning-model-d0ad7a90f215\n",
    "\n",
    "default_preprocessor = CountVectorizer().build_preprocessor() # a callable function that preprocesses the text data.\n",
    "\n",
    "def build_preprocessor(colum, ):\n",
    "  # We are preprocessing each columns\n",
    "    column_index = list(train.columns).index(colum) # Returns the Index of a specific Column.\n",
    "    return lambda x: default_preprocessor(x[column_index])\n",
    "\n",
    "# stack tfidf and count vectorize for all the columns.\n",
    "vectorizer = FeatureUnion([\n",
    "    ('name', CountVectorizer(ngram_range=(1, 2),max_features=5000,preprocessor = build_preprocessor('name'))),\n",
    "\n",
    "    ('subcat_0', CountVectorizer(token_pattern = '.+',preprocessor = build_preprocessor('subcat_0'))),\n",
    "\n",
    "    ('subcat_1', CountVectorizer(token_pattern = '.+',preprocessor = build_preprocessor('subcat_1'))),\n",
    "\n",
    "    ('subcat_2', CountVectorizer(token_pattern = '.+',preprocessor = build_preprocessor('subcat_2'))),\n",
    "\n",
    "    ('brand_name', CountVectorizer(token_pattern ='.+',preprocessor = build_preprocessor('brand_name'))),\n",
    "\n",
    "    ('shipping', CountVectorizer(token_pattern = '\\d+',preprocessor = build_preprocessor('shipping'))),\n",
    "\n",
    "    ('item_condition_id', CountVectorizer(token_pattern = '\\d+',preprocessor = build_preprocessor('item_condition_id'))),\n",
    "\n",
    "    ('desc_len', CountVectorizer(token_pattern = '\\d+',preprocessor = build_preprocessor('desc_len'))),\n",
    "\n",
    "    ('name_len', CountVectorizer(token_pattern = '\\d+',preprocessor = build_preprocessor('name_len'))),\n",
    "\n",
    "    ('item_description', TfidfVectorizer(ngram_range = (1, 3),max_features = 10000,preprocessor = build_preprocessor('item_description'))),\n",
    "])"
   ]
  },
  {
   "cell_type": "code",
   "execution_count": 0,
   "metadata": {
    "colab": {
     "base_uri": "https://localhost:8080/",
     "height": 33
    },
    "colab_type": "code",
    "executionInfo": {
     "elapsed": 622772,
     "status": "ok",
     "timestamp": 1586879166210,
     "user": {
      "displayName": "Sridatta Marati",
      "photoUrl": "",
      "userId": "13444678406649845318"
     },
     "user_tz": -330
    },
    "id": "T4xXtcZS_XwJ",
    "outputId": "e48329f0-cc55-401b-de14-d533e00a6165"
   },
   "outputs": [
    {
     "name": "stdout",
     "output_type": "stream",
     "text": [
      "(1432350, 127408) (14469, 127408)\n"
     ]
    }
   ],
   "source": [
    "# Fitting Vectorizer.\n",
    "vectorizer.fit(x_train.values)\n",
    "# Transforming Train and Test.\n",
    "x = vectorizer.transform(x_train.values)\n",
    "x_t = vectorizer.transform(x_test.values)\n",
    "print(x.shape,x_t.shape)\n",
    "X_train = x\n",
    "X_test = x_t"
   ]
  },
  {
   "cell_type": "markdown",
   "metadata": {
    "colab_type": "text",
    "id": "UDC2y3Jg_kmA"
   },
   "source": [
    "**Ensemble :Stacking**"
   ]
  },
  {
   "cell_type": "code",
   "execution_count": 0,
   "metadata": {
    "colab": {},
    "colab_type": "code",
    "id": "QX7l54ByHCp7",
    "outputId": "b9193b13-ceaa-4b1a-bff6-1b447be0441c"
   },
   "outputs": [
    {
     "name": "stdout",
     "output_type": "stream",
     "text": [
      "Requirement already satisfied: xgboost in /opt/conda/lib/python3.7/site-packages (1.0.2)\n",
      "Requirement already satisfied: scipy in /opt/conda/lib/python3.7/site-packages (from xgboost) (1.4.1)\n",
      "Requirement already satisfied: numpy in /opt/conda/lib/python3.7/site-packages (from xgboost) (1.18.1)\n",
      "Note: you may need to restart the kernel to use updated packages.\n"
     ]
    }
   ],
   "source": [
    "pip install xgboost"
   ]
  },
  {
   "cell_type": "code",
   "execution_count": 0,
   "metadata": {
    "colab": {},
    "colab_type": "code",
    "id": "H0tFOaEfHCp9",
    "outputId": "26015039-ff13-4dd5-bbe5-99c0305423d7"
   },
   "outputs": [
    {
     "name": "stdout",
     "output_type": "stream",
     "text": [
      "Requirement already satisfied: mlxtend in /opt/conda/lib/python3.7/site-packages (0.17.2)\n",
      "Requirement already satisfied: scikit-learn>=0.20.3 in /opt/conda/lib/python3.7/site-packages (from mlxtend) (0.22.2.post1)\n",
      "Requirement already satisfied: scipy>=1.2.1 in /opt/conda/lib/python3.7/site-packages (from mlxtend) (1.4.1)\n",
      "Requirement already satisfied: joblib>=0.13.2 in /opt/conda/lib/python3.7/site-packages (from mlxtend) (0.14.1)\n",
      "Requirement already satisfied: matplotlib>=3.0.0 in /opt/conda/lib/python3.7/site-packages (from mlxtend) (3.2.0)\n",
      "Requirement already satisfied: setuptools in /opt/conda/lib/python3.7/site-packages (from mlxtend) (46.0.0.post20200311)\n",
      "Requirement already satisfied: numpy>=1.16.2 in /opt/conda/lib/python3.7/site-packages (from mlxtend) (1.18.1)\n",
      "Requirement already satisfied: pandas>=0.24.2 in /opt/conda/lib/python3.7/site-packages (from mlxtend) (1.0.1)\n",
      "Requirement already satisfied: pyparsing!=2.0.4,!=2.1.2,!=2.1.6,>=2.0.1 in /opt/conda/lib/python3.7/site-packages (from matplotlib>=3.0.0->mlxtend) (2.4.6)\n",
      "Requirement already satisfied: kiwisolver>=1.0.1 in /opt/conda/lib/python3.7/site-packages (from matplotlib>=3.0.0->mlxtend) (1.1.0)\n",
      "Requirement already satisfied: cycler>=0.10 in /opt/conda/lib/python3.7/site-packages (from matplotlib>=3.0.0->mlxtend) (0.10.0)\n",
      "Requirement already satisfied: python-dateutil>=2.1 in /opt/conda/lib/python3.7/site-packages (from matplotlib>=3.0.0->mlxtend) (2.8.1)\n",
      "Requirement already satisfied: pytz>=2017.2 in /opt/conda/lib/python3.7/site-packages (from pandas>=0.24.2->mlxtend) (2019.3)\n",
      "Requirement already satisfied: six in /opt/conda/lib/python3.7/site-packages (from cycler>=0.10->matplotlib>=3.0.0->mlxtend) (1.14.0)\n",
      "Note: you may need to restart the kernel to use updated packages.\n"
     ]
    }
   ],
   "source": [
    "pip install mlxtend  "
   ]
  },
  {
   "cell_type": "code",
   "execution_count": 0,
   "metadata": {
    "colab": {},
    "colab_type": "code",
    "id": "l0uKxMykHCp_",
    "outputId": "f041d97e-011f-43cb-8c2a-8828e97e11ed"
   },
   "outputs": [
    {
     "name": "stderr",
     "output_type": "stream",
     "text": [
      "/opt/conda/lib/python3.7/site-packages/mlxtend/regressor/stacking_regression.py:148: DataConversionWarning: A column-vector y was passed when a 1d array was expected. Please change the shape of y to (n_samples,), for example using ravel().\n",
      "  regr.fit(X, y)\n",
      "/opt/conda/lib/python3.7/site-packages/sklearn/utils/validation.py:760: DataConversionWarning: A column-vector y was passed when a 1d array was expected. Please change the shape of y to (n_samples, ), for example using ravel().\n",
      "  y = column_or_1d(y, warn=True)\n"
     ]
    },
    {
     "data": {
      "text/plain": [
       "StackingRegressor(meta_regressor=RidgeCV(alphas=array([ 0.1,  1. , 10. ]),\n",
       "                                         cv=None, fit_intercept=True,\n",
       "                                         gcv_mode=None, normalize=False,\n",
       "                                         scoring=None, store_cv_values=False),\n",
       "                  refit=True,\n",
       "                  regressors=[RidgeCV(alphas=array([ 0.1,  1. , 10. ]), cv=None,\n",
       "                                      fit_intercept=True, gcv_mode=None,\n",
       "                                      normalize=False, scoring=None,\n",
       "                                      store_cv_values=False),\n",
       "                              RandomForestRegressor(bootstrap=True,\n",
       "                                                    c...\n",
       "                                            importance_type='split',\n",
       "                                            learning_rate=0.1, max_depth=-1,\n",
       "                                            min_child_samples=20,\n",
       "                                            min_child_weight=0.001,\n",
       "                                            min_split_gain=0.0,\n",
       "                                            n_estimators=100, n_jobs=-1,\n",
       "                                            num_leaves=31, objective=None,\n",
       "                                            random_state=None, reg_alpha=0.0,\n",
       "                                            reg_lambda=0.0, silent=True,\n",
       "                                            subsample=1.0,\n",
       "                                            subsample_for_bin=200000,\n",
       "                                            subsample_freq=0)],\n",
       "                  store_train_meta_features=False,\n",
       "                  use_features_in_secondary=False, verbose=0)"
      ]
     },
     "execution_count": 14,
     "metadata": {
      "tags": []
     },
     "output_type": "execute_result"
    }
   ],
   "source": [
    "# Ridge Cv, XGBOOST REG, RF REG, SGD REG,LIGHT GBM REG.\n",
    "\n",
    "# Model 1 ridge reg cv\n",
    "import xgboost as xgb\n",
    "import lightgbm as lgb\n",
    "from mlxtend.regressor import StackingRegressor\n",
    "from sklearn import linear_model\n",
    "\n",
    "model_1 = RidgeCV()\n",
    "model_2 = RandomForestRegressor()\n",
    "model_3 = linear_model.SGDRegressor()\n",
    "model_4 = xgb.XGBRegressor()\n",
    "model_5 = lgb.LGBMRegressor()\n",
    "\n",
    "stregr = StackingRegressor(regressors=[model_1, model_2, model_3, model_4, model_5], meta_regressor = model_1)\n",
    "stregr.fit(X_train, Y_train)"
   ]
  },
  {
   "cell_type": "code",
   "execution_count": 0,
   "metadata": {
    "colab": {},
    "colab_type": "code",
    "id": "jx7wG8AUHCqB",
    "outputId": "8bc60cc9-54cb-48cd-cea1-66c746e082df"
   },
   "outputs": [
    {
     "name": "stdout",
     "output_type": "stream",
     "text": [
      " RMSLE error: 0.5250966580972255\n"
     ]
    }
   ],
   "source": [
    "y_pred = stregr.predict(X_test)\n",
    "print(\" RMSLE error:\", rmsle(Y_test, y_pred))"
   ]
  },
  {
   "cell_type": "code",
   "execution_count": 0,
   "metadata": {
    "colab": {
     "base_uri": "https://localhost:8080/",
     "height": 345
    },
    "colab_type": "code",
    "executionInfo": {
     "elapsed": 1296,
     "status": "ok",
     "timestamp": 1587009503749,
     "user": {
      "displayName": "Sridatta Marati",
      "photoUrl": "",
      "userId": "13444678406649845318"
     },
     "user_tz": -330
    },
    "id": "6WHbCBqqIvCU",
    "outputId": "2372eaa5-b56e-4e76-e13b-7463c56911d1"
   },
   "outputs": [
    {
     "data": {
      "image/png": "[encoded data removed]",
      "text/plain": [
       "<PIL.PngImagePlugin.PngImageFile image mode=RGBA size=1368x381 at 0x7F45BDA8A748>"
      ]
     },
     "execution_count": 5,
     "metadata": {
      "tags": []
     },
     "output_type": "execute_result"
    }
   ],
   "source": [
    "from PIL import Image\n",
    "jpgfile = Image.open(\"/content/all_scores.PNG\")\n",
    "jpgfile"
   ]
  },
  {
   "cell_type": "markdown",
   "metadata": {
    "colab_type": "text",
    "id": "Gy70_k_kBWzJ"
   },
   "source": [
    "# **Implement CNN and LSTM:**"
   ]
  },
  {
   "cell_type": "code",
   "execution_count": 4,
   "metadata": {
    "colab": {
     "base_uri": "https://localhost:8080/",
     "height": 295
    },
    "colab_type": "code",
    "executionInfo": {
     "elapsed": 89534,
     "status": "ok",
     "timestamp": 1587540863323,
     "user": {
      "displayName": "Sridatta Marati",
      "photoUrl": "",
      "userId": "13444678406649845318"
     },
     "user_tz": -330
    },
    "id": "Bw6JG7mhBWca",
    "outputId": "be951b85-809c-4030-b7fc-22a1c68a068a"
   },
   "outputs": [
    {
     "name": "stdout",
     "output_type": "stream",
     "text": [
      "Importing Train Data...\n",
      "Shape of Train data : (1482535, 8)\n",
      "Checking for any null values..\n",
      "train_id             False\n",
      "name                 False\n",
      "item_condition_id    False\n",
      "category_name         True\n",
      "brand_name            True\n",
      "price                False\n",
      "shipping             False\n",
      "item_description      True\n",
      "dtype: bool\n",
      "Performing Preprocessing and Feature engineering...\n",
      "607593\n",
      "125239\n",
      "Electronics/Computers & Tablets/Components & Parts\n"
     ]
    }
   ],
   "source": [
    "# Importing train data.\n",
    "print(\"Importing Train Data...\")\n",
    "train = pd.read_table('/content/drive/My Drive/train.tsv')\n",
    "print(\"Shape of Train data :\",train.shape)\n",
    "# Checking for NaN in the data.\n",
    "print(\"Checking for any null values..\")\n",
    "print(train.isnull().any())\n",
    "print(\"Performing Preprocessing and Feature engineering...\")\n",
    "# Removing Lower Prices which are less than 3.\n",
    "train = train.drop(train[(train.price < 5.0)].index)\n",
    "train.shape\n",
    "# Getting Length of each text in name and item_description.\n",
    "train['desc_len'] = train['item_description'].apply(lambda x: word_count(x))\n",
    "train['name_len'] = train['name'].apply(lambda x: word_count(x))\n",
    "train.head()\n",
    "# Subdiving category.\n",
    "train[\"subcat_0\"] = cat_split(\"category_name\",0)\n",
    "train[\"subcat_1\"] = cat_split(\"category_name\",1)\n",
    "train[\"subcat_2\"] = cat_split(\"category_name\",2)\n",
    "# Filling All the NAN rows of brand name with text \"missing\"\n",
    "brand_vocab = set(train['brand_name'].values) # Get all the brands.\n",
    "train.brand_name.fillna(value = \"missing\", inplace = True)\n",
    "#all_brands\n",
    "missing = len(train.loc[train[\"brand_name\"] == 'missing'])\n",
    "#premissing\n",
    "print(missing)\n",
    "train['brand_name'] = train[['brand_name','name']].apply(finding_brand, axis = 1)\n",
    "detected_brands = missing-len(train.loc[train['brand_name'] == 'missing'])\n",
    "print(detected_brands)\n",
    "train = fill_missing_values(train)\n",
    "print(train.category_name[1])\n",
    "train[\"target\"] = np.log1p(train.price)\n",
    "train[\"combined_text\"] = train[\"item_description\"] + \" \" + train[\"name\"]"
   ]
  },
  {
   "cell_type": "code",
   "execution_count": 5,
   "metadata": {
    "colab": {
     "base_uri": "https://localhost:8080/",
     "height": 277
    },
    "colab_type": "code",
    "executionInfo": {
     "elapsed": 42962,
     "status": "ok",
     "timestamp": 1587540906324,
     "user": {
      "displayName": "Sridatta Marati",
      "photoUrl": "",
      "userId": "13444678406649845318"
     },
     "user_tz": -330
    },
    "id": "RLqsgFkQBhyV",
    "outputId": "13e4dab0-db81-4d72-92c8-82c9e8801dbd"
   },
   "outputs": [
    {
     "name": "stdout",
     "output_type": "stream",
     "text": [
      "Importing Test Data...\n",
      "Shape of Train data : (693359, 7)\n",
      "Checking for any null values..\n",
      "test_id              False\n",
      "name                 False\n",
      "item_condition_id    False\n",
      "category_name         True\n",
      "brand_name            True\n",
      "shipping             False\n",
      "item_description     False\n",
      "dtype: bool\n",
      "Performing Preprocessing and Feature engineering...\n",
      "295525\n",
      "59695\n",
      "Other/Office supplies/Shipping Supplies\n"
     ]
    }
   ],
   "source": [
    "# Importing Test data.\n",
    "print(\"Importing Test Data...\")\n",
    "test = pd.read_table('/content/drive/My Drive/test.tsv')\n",
    "print(\"Shape of Train data :\",test.shape)\n",
    "# Checking for NaN in the data.\n",
    "print(\"Checking for any null values..\")\n",
    "print(test.isnull().any())\n",
    "print(\"Performing Preprocessing and Feature engineering...\")\n",
    "# Removing Lower Prices which are less than 3.\n",
    "test.shape\n",
    "# Getting Length of each text in name and item_description.\n",
    "test['desc_len'] = test['item_description'].apply(lambda x: word_count(x))\n",
    "test['name_len'] = test['name'].apply(lambda x: word_count(x))\n",
    "test.head()\n",
    "# Subdiving category.\n",
    "test[\"subcat_0\"] = cat_split_test(\"category_name\",0)\n",
    "test[\"subcat_1\"] = cat_split_test(\"category_name\",1)\n",
    "test[\"subcat_2\"] = cat_split_test(\"category_name\",2)\n",
    "# Filling All the NAN rows of brand name with text \"missing\"\n",
    "brand_vocab = set(test['brand_name'].values) # Get all the brands.\n",
    "test.brand_name.fillna(value = \"missing\", inplace = True)\n",
    "#all_brands\n",
    "missing = len(test.loc[test[\"brand_name\"] == 'missing'])\n",
    "#premissing\n",
    "print(missing)\n",
    "test['brand_name'] = test[['brand_name','name']].apply(finding_brand, axis = 1)\n",
    "detected_brands = missing-len(test.loc[test['brand_name'] == 'missing'])\n",
    "print(detected_brands)\n",
    "test = fill_missing_values(test)\n",
    "print(test.category_name[1])\n",
    "test[\"combined_text\"] = test[\"item_description\"] + \" \" + test[\"name\"]"
   ]
  },
  {
   "cell_type": "code",
   "execution_count": 0,
   "metadata": {
    "colab": {},
    "colab_type": "code",
    "id": "AUZ6uKp6QeZX"
   },
   "outputs": [],
   "source": [
    "# https://stackoverflow.com/a/56876351\n",
    "from sklearn.preprocessing import LabelEncoder\n",
    "import numpy as np\n",
    "\n",
    "\n",
    "class LabelEncoderExt(object):\n",
    "    def __init__(self):\n",
    "        \"\"\"\n",
    "        It differs from LabelEncoder by handling new classes and providing a value for it [Unknown]\n",
    "        Unknown will be added in fit and transform will take care of new item. It gives unknown class id\n",
    "        \"\"\"\n",
    "        self.label_encoder = LabelEncoder()\n",
    "        # self.classes_ = self.label_encoder.classes_\n",
    "\n",
    "    def fit(self, data_list):\n",
    "        \"\"\"\n",
    "        This will fit the encoder for all the unique values and introduce unknown value\n",
    "        :param data_list: A list of string\n",
    "        :return: self\n",
    "        \"\"\"\n",
    "        self.label_encoder = self.label_encoder.fit(list(data_list) + ['Unknown'])\n",
    "        self.classes_ = self.label_encoder.classes_\n",
    "\n",
    "        return self\n",
    "\n",
    "    def transform(self, data_list):\n",
    "        \"\"\"\n",
    "        This will transform the data_list to id list where the new values get assigned to Unknown class\n",
    "        :param data_list:\n",
    "        :return:\n",
    "        \"\"\"\n",
    "        new_data_list = list(data_list)\n",
    "        for unique_item in np.unique(data_list):\n",
    "            if unique_item not in self.label_encoder.classes_:\n",
    "                new_data_list = ['Unknown' if x==unique_item else x for x in new_data_list]\n",
    "\n",
    "        return self.label_encoder.transform(new_data_list)"
   ]
  },
  {
   "cell_type": "code",
   "execution_count": 0,
   "metadata": {
    "colab": {},
    "colab_type": "code",
    "id": "w5eo9JRoUMBN"
   },
   "outputs": [],
   "source": [
    "# We Convert all the data columns in the form of strings.\n",
    "train['brand_name'] = train['brand_name'].fillna('missing').astype(str)\n",
    "test['brand_name'] = test['brand_name'].fillna('missing').astype(str)\n",
    "\n",
    "\n",
    "label = LabelEncoderExt()\n",
    "label.fit(np.hstack([train.brand_name, test.brand_name]))\n",
    "train['brand_name'] = label.transform(train.brand_name)\n",
    "test['brand_name'] = label.transform(test.brand_name)\n",
    "del label "
   ]
  },
  {
   "cell_type": "code",
   "execution_count": 0,
   "metadata": {
    "colab": {},
    "colab_type": "code",
    "id": "iyTKchTXCRf-"
   },
   "outputs": [],
   "source": [
    "# Encoding Categorical Features.\n",
    "label = LabelEncoderExt()\n",
    "label.fit(np.hstack([train.category_name, test.category_name])) # categories united \n",
    "\n",
    "train['category'] = label.transform(train.category_name)\n",
    "test['category'] = label.transform(test.category_name)\n",
    "\n",
    "label.fit(np.hstack([train.subcat_0, test.subcat_0])) # sub_cat0\n",
    "train.subcat_0 = label.transform(train.subcat_0)\n",
    "test.subcat_0 = label.transform(test.subcat_0)\n",
    "\n",
    "label.fit(np.hstack([train.subcat_1, test.subcat_1])) # sub_cat_1\n",
    "train.subcat_1 = label.transform(train.subcat_1)\n",
    "test.subcat_1 = label.transform(test.subcat_1)\n",
    "\n",
    "label.fit(np.hstack([train.subcat_2, test.subcat_2])) # sub_cat2\n",
    "train.subcat_2 = label.transform(train.subcat_2)\n",
    "test.subcat_2 = label.transform(test.subcat_2)\n",
    "del label "
   ]
  },
  {
   "cell_type": "code",
   "execution_count": 0,
   "metadata": {
    "colab": {},
    "colab_type": "code",
    "id": "lab0gre1PryM"
   },
   "outputs": [],
   "source": [
    "# Text to Sequence Data.\n",
    "# Combining columns, item_description, name, category_name.\n",
    "full_text = np.hstack([train.item_description.str.lower(), train.name.str.lower(), train.category_name.str.lower()]) \n",
    "\n",
    "# Tokenizing on combined columns.\n",
    "tokenizer = Tokenizer()\n",
    "tokenizer.fit_on_texts(full_text)\n",
    "\n",
    "train[\"seq_combined\"] = tokenizer.texts_to_sequences(train.combined_text.str.lower())\n",
    "test[\"seq_combined\"] = tokenizer.texts_to_sequences(test.combined_text.str.lower())\n",
    "\n",
    "train['seq_desc'] = tokenizer.texts_to_sequences(train.item_description.str.lower()) \n",
    "test['seq_desc'] = tokenizer.texts_to_sequences(test.item_description.str.lower()) \n",
    "\n",
    "train['seq_name'] = tokenizer.texts_to_sequences(train.name.str.lower()) \n",
    "test['seq_name'] = tokenizer.texts_to_sequences(test.name.str.lower()) "
   ]
  },
  {
   "cell_type": "code",
   "execution_count": 0,
   "metadata": {
    "colab": {},
    "colab_type": "code",
    "id": "MBA03pklPr3E"
   },
   "outputs": [],
   "source": [
    "# max length for Categorical Data.\n",
    "#max_len_cat = np.max(train.category.max()) + 1 # category\n",
    "max_len_combined = np.max([max(train.seq_combined.max()), max(test.seq_combined.max())]) + 1\n",
    "max_len_brand =  np.max([train.brand_name.max(), test.brand_name.max()]) + 1   # brand # brand \n",
    "max_len_condition = np.max([max(train.item_condition_id), max(test.item_condition_id)]) + 1  # item_cond\n",
    "max_len_desc = np.max([int(train.desc_len.max()), int(test.desc_len.max())]) + 1  # item_desc_len\n",
    "max_len_name = np.max([int(train.name_len.max()), int(test.name_len.max())]) + 1 # name_len\n",
    "max_len_sub0 = np.max([int(train.subcat_0.max()), int(train.subcat_0.max())])  + 1# Sub_0\n",
    "max_len_sub1 = np.max([int(train.subcat_1.max()), int(train.subcat_1.max())]) + 1 # Sub_1\n",
    "max_len_sub2 = np.max([train.subcat_2.max(), train.subcat_2.max()]) + 1  # Sub_2\n",
    "# Defining max length for Padding Text Data.\n",
    "name_padding = 10\n",
    "description_padding = 70\n",
    "combined_padding  =  70\n",
    "max_len = np.max([np.max(train.seq_name.max()),np.max(train.seq_desc.max()),np.max(test.seq_name.max()),np.max(test.seq_desc.max())]) + 1"
   ]
  },
  {
   "cell_type": "code",
   "execution_count": 0,
   "metadata": {
    "colab": {},
    "colab_type": "code",
    "id": "0PSMeGPQa3w4"
   },
   "outputs": [],
   "source": [
    "# Train and Test Split.\n",
    "x_tr, x_te = train_test_split(train, random_state=123, train_size=0.99)\n",
    "Y_train = x_tr.target.values.reshape(-1, 1)\n",
    "Y_test = x_te.target.values.reshape(-1, 1)"
   ]
  },
  {
   "cell_type": "code",
   "execution_count": 0,
   "metadata": {
    "colab": {},
    "colab_type": "code",
    "id": "EhflUg-zYPCg"
   },
   "outputs": [],
   "source": [
    "# Padding Name :\n",
    "x_train_padded = { \n",
    "\"name\" : pad_sequences(x_tr.seq_name, maxlen= name_padding),\n",
    "\"item_desc\" : pad_sequences(x_tr.seq_desc, maxlen= description_padding),\n",
    "\"brand_name\" : np.array(x_tr.brand_name),\n",
    "\"category\" :np.array(x_tr.category),\n",
    "\"item_condition\" : np.array(x_tr.item_condition_id),\n",
    "\"shipping\" : np.array(x_tr[[\"shipping\"]]),\n",
    "\"desc_len\" : np.array(x_tr[[\"desc_len\"]]),\n",
    "\"name_len\" : np.array(x_tr[[\"name_len\"]]),\n",
    "\"subcat_0\" : np.array(x_tr.subcat_0),\n",
    "\"subcat_1\"  : np.array(x_tr.subcat_1),\n",
    "\"subcat_2\" : np.array(x_tr.subcat_2),\n",
    "\"combined_text\" : pad_sequences(x_tr.seq_combined, maxlen= combined_padding)\n",
    "} \n",
    "\n",
    "x_test_padded = {\n",
    "\"name\" : pad_sequences(x_te.seq_name, maxlen= name_padding),\n",
    "\"item_desc\" : pad_sequences(x_te.seq_desc, maxlen= description_padding),\n",
    "\"brand_name\" : np.array(x_te.brand_name),\n",
    "\"category\" : np.array(x_te.category),\n",
    "\"item_condition\" : np.array(x_te.item_condition_id),\n",
    "\"shipping\" : np.array(x_te[[\"shipping\"]]),\n",
    "\"desc_len\" : np.array(x_te[[\"desc_len\"]]),\n",
    "\"name_len\" : np.array(x_te[[\"name_len\"]]),\n",
    "\"subcat_0\" : np.array(x_te.subcat_0),\n",
    "\"subcat_1\" : np.array(x_te.subcat_1),\n",
    "\"subcat_2\" : np.array(x_te.subcat_2),\n",
    "\"combined_text\" : pad_sequences(x_te.seq_combined, maxlen= combined_padding)\n",
    "}\n",
    "\n",
    "\n",
    "te_data = {\n",
    "\"name\" : pad_sequences(test.seq_name, maxlen= name_padding),\n",
    "\"item_desc\" : pad_sequences(test.seq_desc, maxlen= description_padding),\n",
    "\"brand_name\" : np.array(test.brand_name),\n",
    "\"category\" : np.array(test.category),\n",
    "\"item_condition\" : np.array(test.item_condition_id),\n",
    "\"shipping\" : np.array(test[[\"shipping\"]]),\n",
    "\"desc_len\" : np.array(test[[\"desc_len\"]]),\n",
    "\"name_len\" : np.array(test[[\"name_len\"]]),\n",
    "\"subcat_0\" : np.array(test.subcat_0),\n",
    "\"subcat_1\" : np.array(test.subcat_1),\n",
    "\"subcat_2\" : np.array(test.subcat_2),\n",
    "\"combined_text\" : pad_sequences(test.seq_combined, maxlen= combined_padding)\n",
    "}"
   ]
  },
  {
   "cell_type": "code",
   "execution_count": 0,
   "metadata": {
    "colab": {},
    "colab_type": "code",
    "id": "sk3LF0kDYqun"
   },
   "outputs": [],
   "source": [
    "x_tr = x_train_padded\n",
    "x_te = x_test_padded\n",
    "X_test = te_data"
   ]
  },
  {
   "cell_type": "markdown",
   "metadata": {
    "colab_type": "text",
    "id": "Dnjlggk6P206"
   },
   "source": [
    "**MODEL:1 CNN, LSTM**"
   ]
  },
  {
   "cell_type": "code",
   "execution_count": 0,
   "metadata": {
    "colab": {
     "base_uri": "https://localhost:8080/",
     "height": 1000
    },
    "colab_type": "code",
    "executionInfo": {
     "elapsed": 4541,
     "status": "ok",
     "timestamp": 1587469699098,
     "user": {
      "displayName": "Sridatta Marati",
      "photoUrl": "",
      "userId": "13444678406649845318"
     },
     "user_tz": -330
    },
    "id": "SgNAtR6lPruX",
    "outputId": "0ba4ee17-58af-48d6-ee18-954518ae5e29"
   },
   "outputs": [
    {
     "name": "stdout",
     "output_type": "stream",
     "text": [
      "Model: \"model_2\"\n",
      "__________________________________________________________________________________________________\n",
      "Layer (type)                    Output Shape         Param #     Connected to                     \n",
      "==================================================================================================\n",
      "name (InputLayer)               (None, 10)           0                                            \n",
      "__________________________________________________________________________________________________\n",
      "item_desc (InputLayer)          (None, 70)           0                                            \n",
      "__________________________________________________________________________________________________\n",
      "embedding_16 (Embedding)        (None, 10, 10)       2554430     name[0][0]                       \n",
      "__________________________________________________________________________________________________\n",
      "embedding_17 (Embedding)        (None, 70, 70)       17881010    item_desc[0][0]                  \n",
      "__________________________________________________________________________________________________\n",
      "brand_name (InputLayer)         (None, 1)            0                                            \n",
      "__________________________________________________________________________________________________\n",
      "item_condition (InputLayer)     (None, 1)            0                                            \n",
      "__________________________________________________________________________________________________\n",
      "subcat_0 (InputLayer)           (None, 1)            0                                            \n",
      "__________________________________________________________________________________________________\n",
      "subcat_1 (InputLayer)           (None, 1)            0                                            \n",
      "__________________________________________________________________________________________________\n",
      "subcat_2 (InputLayer)           (None, 1)            0                                            \n",
      "__________________________________________________________________________________________________\n",
      "combined_text (InputLayer)      (None, 70)           0                                            \n",
      "__________________________________________________________________________________________________\n",
      "conv1d_5 (Conv1D)               (None, 10, 50)       550         embedding_16[0][0]               \n",
      "__________________________________________________________________________________________________\n",
      "conv1d_7 (Conv1D)               (None, 10, 50)       1050        embedding_16[0][0]               \n",
      "__________________________________________________________________________________________________\n",
      "conv1d_6 (Conv1D)               (None, 70, 50)       3550        embedding_17[0][0]               \n",
      "__________________________________________________________________________________________________\n",
      "conv1d_8 (Conv1D)               (None, 70, 50)       7050        embedding_17[0][0]               \n",
      "__________________________________________________________________________________________________\n",
      "embedding_14 (Embedding)        (None, 1, 10)        1654610     brand_name[0][0]                 \n",
      "__________________________________________________________________________________________________\n",
      "embedding_15 (Embedding)        (None, 1, 5)         30          item_condition[0][0]             \n",
      "__________________________________________________________________________________________________\n",
      "embedding_11 (Embedding)        (None, 1, 10)        120         subcat_0[0][0]                   \n",
      "__________________________________________________________________________________________________\n",
      "embedding_12 (Embedding)        (None, 1, 10)        1150        subcat_1[0][0]                   \n",
      "__________________________________________________________________________________________________\n",
      "embedding_13 (Embedding)        (None, 1, 10)        8840        subcat_2[0][0]                   \n",
      "__________________________________________________________________________________________________\n",
      "embedding_20 (Embedding)        (None, 70, 80)       20420000    combined_text[0][0]              \n",
      "__________________________________________________________________________________________________\n",
      "global_max_pooling1d_5 (GlobalM (None, 50)           0           conv1d_5[0][0]                   \n",
      "__________________________________________________________________________________________________\n",
      "global_max_pooling1d_7 (GlobalM (None, 50)           0           conv1d_7[0][0]                   \n",
      "__________________________________________________________________________________________________\n",
      "global_max_pooling1d_6 (GlobalM (None, 50)           0           conv1d_6[0][0]                   \n",
      "__________________________________________________________________________________________________\n",
      "global_max_pooling1d_8 (GlobalM (None, 50)           0           conv1d_8[0][0]                   \n",
      "__________________________________________________________________________________________________\n",
      "lstm_2 (LSTM)                   (None, 16)           1728        embedding_14[0][0]               \n",
      "__________________________________________________________________________________________________\n",
      "flatten_5 (Flatten)             (None, 5)            0           embedding_15[0][0]               \n",
      "__________________________________________________________________________________________________\n",
      "flatten_6 (Flatten)             (None, 10)           0           embedding_11[0][0]               \n",
      "__________________________________________________________________________________________________\n",
      "flatten_7 (Flatten)             (None, 10)           0           embedding_12[0][0]               \n",
      "__________________________________________________________________________________________________\n",
      "flatten_8 (Flatten)             (None, 10)           0           embedding_13[0][0]               \n",
      "__________________________________________________________________________________________________\n",
      "gru_2 (GRU)                     (None, 64)           27840       embedding_20[0][0]               \n",
      "__________________________________________________________________________________________________\n",
      "concatenate_4 (Concatenate)     (None, 100)          0           global_max_pooling1d_5[0][0]     \n",
      "                                                                 global_max_pooling1d_7[0][0]     \n",
      "__________________________________________________________________________________________________\n",
      "concatenate_5 (Concatenate)     (None, 100)          0           global_max_pooling1d_6[0][0]     \n",
      "                                                                 global_max_pooling1d_8[0][0]     \n",
      "__________________________________________________________________________________________________\n",
      "shipping (InputLayer)           (None, 1)            0                                            \n",
      "__________________________________________________________________________________________________\n",
      "concatenate_6 (Concatenate)     (None, 316)          0           lstm_2[0][0]                     \n",
      "                                                                 flatten_5[0][0]                  \n",
      "                                                                 flatten_6[0][0]                  \n",
      "                                                                 flatten_7[0][0]                  \n",
      "                                                                 flatten_8[0][0]                  \n",
      "                                                                 gru_2[0][0]                      \n",
      "                                                                 concatenate_4[0][0]              \n",
      "                                                                 concatenate_5[0][0]              \n",
      "                                                                 shipping[0][0]                   \n",
      "__________________________________________________________________________________________________\n",
      "dense_6 (Dense)                 (None, 192)          60864       concatenate_6[0][0]              \n",
      "__________________________________________________________________________________________________\n",
      "dropout_3 (Dropout)             (None, 192)          0           dense_6[0][0]                    \n",
      "__________________________________________________________________________________________________\n",
      "dense_7 (Dense)                 (None, 128)          24704       dropout_3[0][0]                  \n",
      "__________________________________________________________________________________________________\n",
      "batch_normalization_3 (BatchNor (None, 128)          512         dense_7[0][0]                    \n",
      "__________________________________________________________________________________________________\n",
      "dense_8 (Dense)                 (None, 64)           8256        batch_normalization_3[0][0]      \n",
      "__________________________________________________________________________________________________\n",
      "dropout_4 (Dropout)             (None, 64)           0           dense_8[0][0]                    \n",
      "__________________________________________________________________________________________________\n",
      "dense_9 (Dense)                 (None, 32)           2080        dropout_4[0][0]                  \n",
      "__________________________________________________________________________________________________\n",
      "batch_normalization_4 (BatchNor (None, 32)           128         dense_9[0][0]                    \n",
      "__________________________________________________________________________________________________\n",
      "dense_10 (Dense)                (None, 1)            33          batch_normalization_4[0][0]      \n",
      "==================================================================================================\n",
      "Total params: 42,658,535\n",
      "Trainable params: 42,658,215\n",
      "Non-trainable params: 320\n",
      "__________________________________________________________________________________________________\n"
     ]
    }
   ],
   "source": [
    "# Definign Inputs.\n",
    "subcat_0 = Input(shape=[1], name=\"subcat_0\")\n",
    "subcat_1 = Input(shape=[1], name=\"subcat_1\")\n",
    "subcat_2 = Input(shape=[1], name=\"subcat_2\")\n",
    "desc_len = Input(shape=[1], name=\"desc_len\")\n",
    "name_len = Input(shape=[1], name=\"name_len\")\n",
    "\n",
    "brand_name =Input(shape=[1], name=\"brand_name\")\n",
    "\n",
    "num_vars = Input(shape=[x_tr[\"shipping\"].shape[1]], name=\"shipping\")\n",
    "\n",
    "item_condition = Input(shape=[1], name=\"item_condition\")\n",
    "\n",
    "name = Input(shape=[x_tr[\"name\"].shape[1]], name=\"name\") # 15 shape = [15]\n",
    "item_desc = Input(shape=[x_tr[\"item_desc\"].shape[1]], name=\"item_desc\") # 80 shape = [80]\n",
    "combined_text = Input(shape=[x_tr[\"combined_text\"].shape[1]], name=\"combined_text\")\n",
    "\n",
    "sub0_emb = Embedding(max_len_sub0, 10)(subcat_0)\n",
    "sub1_emb = Embedding(max_len_sub1, 10)(subcat_1)\n",
    "sub2_emb = Embedding(max_len_sub2, 10)(subcat_2)\n",
    "\n",
    "brand_emb = Embedding(max_len_brand, 10)(brand_name)\n",
    "\n",
    "item_cond_emb = Embedding(max_len_condition, 5)(item_condition)\n",
    "\n",
    "name_emb = Embedding(max_len, 10)(name)\n",
    "item_desc_emb = Embedding(max_len, 70)(item_desc)\n",
    "\n",
    "desc_len_emb = Embedding(max_len_desc, 5)(desc_len)\n",
    "name_len_emb = Embedding(max_len_name, 5)(name_len)\n",
    "combined_len_emb  = Embedding(max_len_combined, 80)(combined_text)\n",
    "\n",
    "# Defining Lstm Layer for combined Text Data.\n",
    "gru_layer = GRU(64) (combined_len_emb)\n",
    "lstm_layer = LSTM(16) (brand_emb)\n",
    "\n",
    "convs1 = []\n",
    "convs2 = []\n",
    "\n",
    "for filter_length in [1,2]:\n",
    "  cnn_layer1 = Conv1D(filters=50, kernel_size=filter_length, padding='same', activation='relu', strides=1) (name_emb)\n",
    "  cnn_layer2 = Conv1D(filters=50, kernel_size=filter_length, padding='same', activation='relu', strides=1) (item_desc_emb)\n",
    "  maxpool1 = GlobalMaxPooling1D() (cnn_layer1)\n",
    "  maxpool2 = GlobalMaxPooling1D() (cnn_layer2)\n",
    "  convs1.append(maxpool1)\n",
    "  convs2.append(maxpool2)\n",
    "\n",
    "convs1 = concatenate(convs1)\n",
    "convs2 = concatenate(convs2)\n",
    "\n",
    "#flat_1 = Flatten() (brand_emb)\n",
    "flat_2 = Flatten() (item_cond_emb)\n",
    "flat_5 = Flatten() (sub0_emb)\n",
    "flat_6 = Flatten() (sub1_emb)\n",
    "flat_7 = Flatten() (sub2_emb)\n",
    "\n",
    "main_l = concatenate([lstm_layer, flat_2, flat_5, flat_6, flat_7,gru_layer, convs1, convs2,num_vars])\n",
    "\n",
    "main_l = Dropout(0.1)(Dense(192,kernel_initializer='normal',activation='relu') (main_l))\n",
    "main_l = BatchNormalization()(Dense(128,kernel_initializer='normal',activation='relu') (main_l))\n",
    "main_l = Dropout(0.1)(Dense(64,kernel_initializer='normal',activation='relu') (main_l))\n",
    "main_l = BatchNormalization()(Dense(32,kernel_initializer='normal',activation='relu') (main_l))\n",
    "\n",
    "# Set hyper parameters for the model.\n",
    "BATCH_SIZE = 512 * 3\n",
    "epochs = 2\n",
    "\n",
    "output = Dense(1, activation=\"linear\") (main_l)\n",
    "    \n",
    "model_1 = Model([name, item_desc, brand_name , desc_len,name_len, item_condition, combined_text,  subcat_0, subcat_1, subcat_2, num_vars ], output)\n",
    "\n",
    "optimizer = optimizers.Adam(lr = 0.005 )\n",
    "model_1.compile(loss = 'mse', optimizer = optimizer)\n",
    "\n",
    "model_1.summary()\n"
   ]
  },
  {
   "cell_type": "code",
   "execution_count": 0,
   "metadata": {
    "colab": {
     "base_uri": "https://localhost:8080/",
     "height": 170
    },
    "colab_type": "code",
    "executionInfo": {
     "elapsed": 620086,
     "status": "ok",
     "timestamp": 1586873727704,
     "user": {
      "displayName": "Sridatta Marati",
      "photoUrl": "",
      "userId": "13444678406649845318"
     },
     "user_tz": -330
    },
    "id": "0QEUsuwD9QB7",
    "outputId": "23385e0d-67d3-42b9-e2b1-e19844e56df3"
   },
   "outputs": [
    {
     "name": "stderr",
     "output_type": "stream",
     "text": [
      "/usr/local/lib/python3.6/dist-packages/tensorflow/python/framework/indexed_slices.py:434: UserWarning: Converting sparse IndexedSlices to a dense Tensor of unknown shape. This may consume a large amount of memory.\n",
      "  \"Converting sparse IndexedSlices to a dense Tensor of unknown shape. \"\n"
     ]
    },
    {
     "name": "stdout",
     "output_type": "stream",
     "text": [
      "Train on 1432350 samples, validate on 14469 samples\n",
      "Epoch 1/2\n",
      "1432350/1432350 [==============================] - 308s 215us/step - loss: 0.4426 - val_loss: 0.1814\n",
      "Epoch 2/2\n",
      "1432350/1432350 [==============================] - 306s 214us/step - loss: 0.1506 - val_loss: 0.1756\n"
     ]
    },
    {
     "data": {
      "text/plain": [
       "<keras.callbacks.callbacks.History at 0x7f8dbe630e80>"
      ]
     },
     "execution_count": 93,
     "metadata": {
      "tags": []
     },
     "output_type": "execute_result"
    }
   ],
   "source": [
    "# Create model and fit it with training dataset.\n",
    "model_1.fit(x_tr, Y_train, epochs= 2 , batch_size= 512 * 3, validation_data = (x_te, Y_test), verbose=1)"
   ]
  },
  {
   "cell_type": "code",
   "execution_count": 0,
   "metadata": {
    "colab": {
     "base_uri": "https://localhost:8080/",
     "height": 33
    },
    "colab_type": "code",
    "executionInfo": {
     "elapsed": 2041,
     "status": "ok",
     "timestamp": 1586874159952,
     "user": {
      "displayName": "Sridatta Marati",
      "photoUrl": "",
      "userId": "13444678406649845318"
     },
     "user_tz": -330
    },
    "id": "vgJ77RuvF5qh",
    "outputId": "d3e77eab-5fd5-40d7-8ecb-c62b8f873cba"
   },
   "outputs": [
    {
     "name": "stdout",
     "output_type": "stream",
     "text": [
      " RMSLE error: 0.4190950766502912\n"
     ]
    }
   ],
   "source": [
    "y_pred = model_2.predict(x_te, batch_size=512 * 3)\n",
    "print(\" RMSLE error:\", rmsle(Y_test, y_pred))"
   ]
  },
  {
   "cell_type": "code",
   "execution_count": 0,
   "metadata": {
    "colab": {},
    "colab_type": "code",
    "id": "GL8sVvbs3lZq"
   },
   "outputs": [],
   "source": [
    "#CREATE PREDICTIONS\n",
    "preds = model_2.predict(X_test, batch_size = 512*3)\n",
    "\n",
    "test_pred = np.expm1(preds)\n",
    "\n",
    "submission = pd.DataFrame(test[[\"test_id\"]])\n",
    "submission[\"price\"] = test_pred"
   ]
  },
  {
   "cell_type": "code",
   "execution_count": 0,
   "metadata": {
    "colab": {
     "base_uri": "https://localhost:8080/",
     "height": 197
    },
    "colab_type": "code",
    "executionInfo": {
     "elapsed": 1016,
     "status": "ok",
     "timestamp": 1586874209315,
     "user": {
      "displayName": "Sridatta Marati",
      "photoUrl": "",
      "userId": "13444678406649845318"
     },
     "user_tz": -330
    },
    "id": "yWrN3rrg30CM",
    "outputId": "420015ff-7483-4ebb-c82b-75627182b560"
   },
   "outputs": [
    {
     "data": {
      "text/html": [
       "<div>\n",
       "<style scoped>\n",
       "    .dataframe tbody tr th:only-of-type {\n",
       "        vertical-align: middle;\n",
       "    }\n",
       "\n",
       "    .dataframe tbody tr th {\n",
       "        vertical-align: top;\n",
       "    }\n",
       "\n",
       "    .dataframe thead th {\n",
       "        text-align: right;\n",
       "    }\n",
       "</style>\n",
       "<table border=\"1\" class=\"dataframe\">\n",
       "  <thead>\n",
       "    <tr style=\"text-align: right;\">\n",
       "      <th></th>\n",
       "      <th>test_id</th>\n",
       "      <th>price</th>\n",
       "    </tr>\n",
       "  </thead>\n",
       "  <tbody>\n",
       "    <tr>\n",
       "      <th>0</th>\n",
       "      <td>0</td>\n",
       "      <td>8.729796</td>\n",
       "    </tr>\n",
       "    <tr>\n",
       "      <th>1</th>\n",
       "      <td>1</td>\n",
       "      <td>9.420729</td>\n",
       "    </tr>\n",
       "    <tr>\n",
       "      <th>2</th>\n",
       "      <td>2</td>\n",
       "      <td>60.822071</td>\n",
       "    </tr>\n",
       "    <tr>\n",
       "      <th>3</th>\n",
       "      <td>3</td>\n",
       "      <td>13.915297</td>\n",
       "    </tr>\n",
       "    <tr>\n",
       "      <th>4</th>\n",
       "      <td>4</td>\n",
       "      <td>8.166396</td>\n",
       "    </tr>\n",
       "  </tbody>\n",
       "</table>\n",
       "</div>"
      ],
      "text/plain": [
       "   test_id      price\n",
       "0        0   8.729796\n",
       "1        1   9.420729\n",
       "2        2  60.822071\n",
       "3        3  13.915297\n",
       "4        4   8.166396"
      ]
     },
     "execution_count": 96,
     "metadata": {
      "tags": []
     },
     "output_type": "execute_result"
    }
   ],
   "source": [
    "submission.head()"
   ]
  },
  {
   "cell_type": "markdown",
   "metadata": {
    "colab_type": "text",
    "id": "hI23UjPsQJbV"
   },
   "source": [
    "**Model 2: CNN, LSTM with Early Stopping (Patience = 3)**"
   ]
  },
  {
   "cell_type": "code",
   "execution_count": 14,
   "metadata": {
    "colab": {
     "base_uri": "https://localhost:8080/",
     "height": 1000
    },
    "colab_type": "code",
    "executionInfo": {
     "elapsed": 686667,
     "status": "ok",
     "timestamp": 1587541550114,
     "user": {
      "displayName": "Sridatta Marati",
      "photoUrl": "",
      "userId": "13444678406649845318"
     },
     "user_tz": -330
    },
    "id": "hac5UwlzQHKt",
    "outputId": "b6c4651c-dd72-4efe-d2ac-9f995707d749"
   },
   "outputs": [
    {
     "name": "stdout",
     "output_type": "stream",
     "text": [
      "Model: \"model_1\"\n",
      "__________________________________________________________________________________________________\n",
      "Layer (type)                    Output Shape         Param #     Connected to                     \n",
      "==================================================================================================\n",
      "name (InputLayer)               (None, 10)           0                                            \n",
      "__________________________________________________________________________________________________\n",
      "item_desc (InputLayer)          (None, 70)           0                                            \n",
      "__________________________________________________________________________________________________\n",
      "embedding_6 (Embedding)         (None, 10, 10)       2554430     name[0][0]                       \n",
      "__________________________________________________________________________________________________\n",
      "embedding_7 (Embedding)         (None, 70, 70)       17881010    item_desc[0][0]                  \n",
      "__________________________________________________________________________________________________\n",
      "brand_name (InputLayer)         (None, 1)            0                                            \n",
      "__________________________________________________________________________________________________\n",
      "item_condition (InputLayer)     (None, 1)            0                                            \n",
      "__________________________________________________________________________________________________\n",
      "subcat_0 (InputLayer)           (None, 1)            0                                            \n",
      "__________________________________________________________________________________________________\n",
      "subcat_1 (InputLayer)           (None, 1)            0                                            \n",
      "__________________________________________________________________________________________________\n",
      "subcat_2 (InputLayer)           (None, 1)            0                                            \n",
      "__________________________________________________________________________________________________\n",
      "combined_text (InputLayer)      (None, 70)           0                                            \n",
      "__________________________________________________________________________________________________\n",
      "conv1d_1 (Conv1D)               (None, 10, 50)       550         embedding_6[0][0]                \n",
      "__________________________________________________________________________________________________\n",
      "conv1d_3 (Conv1D)               (None, 10, 50)       1050        embedding_6[0][0]                \n",
      "__________________________________________________________________________________________________\n",
      "conv1d_2 (Conv1D)               (None, 70, 50)       3550        embedding_7[0][0]                \n",
      "__________________________________________________________________________________________________\n",
      "conv1d_4 (Conv1D)               (None, 70, 50)       7050        embedding_7[0][0]                \n",
      "__________________________________________________________________________________________________\n",
      "embedding_4 (Embedding)         (None, 1, 10)        1654610     brand_name[0][0]                 \n",
      "__________________________________________________________________________________________________\n",
      "embedding_5 (Embedding)         (None, 1, 5)         30          item_condition[0][0]             \n",
      "__________________________________________________________________________________________________\n",
      "embedding_1 (Embedding)         (None, 1, 10)        120         subcat_0[0][0]                   \n",
      "__________________________________________________________________________________________________\n",
      "embedding_2 (Embedding)         (None, 1, 10)        1150        subcat_1[0][0]                   \n",
      "__________________________________________________________________________________________________\n",
      "embedding_3 (Embedding)         (None, 1, 10)        8840        subcat_2[0][0]                   \n",
      "__________________________________________________________________________________________________\n",
      "embedding_10 (Embedding)        (None, 70, 80)       20420000    combined_text[0][0]              \n",
      "__________________________________________________________________________________________________\n",
      "global_max_pooling1d_1 (GlobalM (None, 50)           0           conv1d_1[0][0]                   \n",
      "__________________________________________________________________________________________________\n",
      "global_max_pooling1d_3 (GlobalM (None, 50)           0           conv1d_3[0][0]                   \n",
      "__________________________________________________________________________________________________\n",
      "global_max_pooling1d_2 (GlobalM (None, 50)           0           conv1d_2[0][0]                   \n",
      "__________________________________________________________________________________________________\n",
      "global_max_pooling1d_4 (GlobalM (None, 50)           0           conv1d_4[0][0]                   \n",
      "__________________________________________________________________________________________________\n",
      "lstm_1 (LSTM)                   (None, 16)           1728        embedding_4[0][0]                \n",
      "__________________________________________________________________________________________________\n",
      "flatten_1 (Flatten)             (None, 5)            0           embedding_5[0][0]                \n",
      "__________________________________________________________________________________________________\n",
      "flatten_2 (Flatten)             (None, 10)           0           embedding_1[0][0]                \n",
      "__________________________________________________________________________________________________\n",
      "flatten_3 (Flatten)             (None, 10)           0           embedding_2[0][0]                \n",
      "__________________________________________________________________________________________________\n",
      "flatten_4 (Flatten)             (None, 10)           0           embedding_3[0][0]                \n",
      "__________________________________________________________________________________________________\n",
      "gru_1 (GRU)                     (None, 64)           27840       embedding_10[0][0]               \n",
      "__________________________________________________________________________________________________\n",
      "concatenate_1 (Concatenate)     (None, 100)          0           global_max_pooling1d_1[0][0]     \n",
      "                                                                 global_max_pooling1d_3[0][0]     \n",
      "__________________________________________________________________________________________________\n",
      "concatenate_2 (Concatenate)     (None, 100)          0           global_max_pooling1d_2[0][0]     \n",
      "                                                                 global_max_pooling1d_4[0][0]     \n",
      "__________________________________________________________________________________________________\n",
      "shipping (InputLayer)           (None, 1)            0                                            \n",
      "__________________________________________________________________________________________________\n",
      "concatenate_3 (Concatenate)     (None, 316)          0           lstm_1[0][0]                     \n",
      "                                                                 flatten_1[0][0]                  \n",
      "                                                                 flatten_2[0][0]                  \n",
      "                                                                 flatten_3[0][0]                  \n",
      "                                                                 flatten_4[0][0]                  \n",
      "                                                                 gru_1[0][0]                      \n",
      "                                                                 concatenate_1[0][0]              \n",
      "                                                                 concatenate_2[0][0]              \n",
      "                                                                 shipping[0][0]                   \n",
      "__________________________________________________________________________________________________\n",
      "dense_1 (Dense)                 (None, 192)          60864       concatenate_3[0][0]              \n",
      "__________________________________________________________________________________________________\n",
      "dropout_1 (Dropout)             (None, 192)          0           dense_1[0][0]                    \n",
      "__________________________________________________________________________________________________\n",
      "dense_2 (Dense)                 (None, 128)          24704       dropout_1[0][0]                  \n",
      "__________________________________________________________________________________________________\n",
      "batch_normalization_1 (BatchNor (None, 128)          512         dense_2[0][0]                    \n",
      "__________________________________________________________________________________________________\n",
      "dense_3 (Dense)                 (None, 64)           8256        batch_normalization_1[0][0]      \n",
      "__________________________________________________________________________________________________\n",
      "dropout_2 (Dropout)             (None, 64)           0           dense_3[0][0]                    \n",
      "__________________________________________________________________________________________________\n",
      "dense_4 (Dense)                 (None, 32)           2080        dropout_2[0][0]                  \n",
      "__________________________________________________________________________________________________\n",
      "batch_normalization_2 (BatchNor (None, 32)           128         dense_4[0][0]                    \n",
      "__________________________________________________________________________________________________\n",
      "dense_5 (Dense)                 (None, 1)            33          batch_normalization_2[0][0]      \n",
      "==================================================================================================\n",
      "Total params: 42,658,535\n",
      "Trainable params: 42,658,215\n",
      "Non-trainable params: 320\n",
      "__________________________________________________________________________________________________\n"
     ]
    }
   ],
   "source": [
    "# Definign Inputs.\n",
    "subcat_0 = Input(shape=[1], name=\"subcat_0\")\n",
    "subcat_1 = Input(shape=[1], name=\"subcat_1\")\n",
    "subcat_2 = Input(shape=[1], name=\"subcat_2\")\n",
    "desc_len = Input(shape=[1], name=\"desc_len\")\n",
    "name_len = Input(shape=[1], name=\"name_len\")\n",
    "\n",
    "brand_name =Input(shape=[1], name=\"brand_name\")\n",
    "\n",
    "num_vars = Input(shape=[x_tr[\"shipping\"].shape[1]], name=\"shipping\")\n",
    "\n",
    "item_condition = Input(shape=[1], name=\"item_condition\")\n",
    "\n",
    "name = Input(shape=[x_tr[\"name\"].shape[1]], name=\"name\") # 15 shape = [15]\n",
    "item_desc = Input(shape=[x_tr[\"item_desc\"].shape[1]], name=\"item_desc\") # 80 shape = [80]\n",
    "combined_text = Input(shape=[x_tr[\"combined_text\"].shape[1]], name=\"combined_text\")\n",
    "\n",
    "sub0_emb = Embedding(max_len_sub0, 10)(subcat_0)\n",
    "sub1_emb = Embedding(max_len_sub1, 10)(subcat_1)\n",
    "sub2_emb = Embedding(max_len_sub2, 10)(subcat_2)\n",
    "\n",
    "brand_emb = Embedding(max_len_brand, 10)(brand_name)\n",
    "\n",
    "item_cond_emb = Embedding(max_len_condition, 5)(item_condition)\n",
    "\n",
    "name_emb = Embedding(max_len, 10)(name)\n",
    "item_desc_emb = Embedding(max_len, 70)(item_desc)\n",
    "\n",
    "desc_len_emb = Embedding(max_len_desc, 5)(desc_len)\n",
    "name_len_emb = Embedding(max_len_name, 5)(name_len)\n",
    "combined_len_emb  = Embedding(max_len_combined, 80)(combined_text)\n",
    "\n",
    "# Defining Lstm Layer for combined Text Data.\n",
    "gru_layer = GRU(64) (combined_len_emb)\n",
    "lstm_layer = LSTM(16) (brand_emb)\n",
    "\n",
    "convs1 = []\n",
    "convs2 = []\n",
    "\n",
    "for filter_length in [1,2]:\n",
    "  cnn_layer1 = Conv1D(filters=50, kernel_size=filter_length, padding='same', activation='relu', strides=1) (name_emb)\n",
    "  cnn_layer2 = Conv1D(filters=50, kernel_size=filter_length, padding='same', activation='relu', strides=1) (item_desc_emb)\n",
    "  maxpool1 = GlobalMaxPooling1D() (cnn_layer1)\n",
    "  maxpool2 = GlobalMaxPooling1D() (cnn_layer2)\n",
    "  convs1.append(maxpool1)\n",
    "  convs2.append(maxpool2)\n",
    "\n",
    "convs1 = concatenate(convs1)\n",
    "convs2 = concatenate(convs2)\n",
    "\n",
    "#flat_1 = Flatten() (brand_emb)\n",
    "flat_2 = Flatten() (item_cond_emb)\n",
    "flat_5 = Flatten() (sub0_emb)\n",
    "flat_6 = Flatten() (sub1_emb)\n",
    "flat_7 = Flatten() (sub2_emb)\n",
    "\n",
    "main_l = concatenate([lstm_layer, flat_2, flat_5, flat_6, flat_7,gru_layer, convs1, convs2,num_vars])\n",
    "\n",
    "main_l = Dropout(0.1)(Dense(192,kernel_initializer='normal',activation='relu') (main_l))\n",
    "main_l = BatchNormalization()(Dense(128,kernel_initializer='normal',activation='relu') (main_l))\n",
    "main_l = Dropout(0.1)(Dense(64,kernel_initializer='normal',activation='relu') (main_l))\n",
    "main_l = BatchNormalization()(Dense(32,kernel_initializer='normal',activation='relu') (main_l))\n",
    "\n",
    "# Set hyper parameters for the model.\n",
    "BATCH_SIZE = 512 * 3\n",
    "epochs = 2\n",
    "\n",
    "output = Dense(1, activation=\"linear\") (main_l)\n",
    "    \n",
    "model_2 = Model([name, item_desc, brand_name , desc_len,name_len, item_condition, combined_text,  subcat_0, subcat_1, subcat_2, num_vars ], output)\n",
    "\n",
    "optimizer = optimizers.Adam(lr = 0.005 )\n",
    "model_2.compile(loss = 'mse', optimizer = optimizer)\n",
    "\n",
    "model_2.summary()\n"
   ]
  },
  {
   "cell_type": "code",
   "execution_count": 0,
   "metadata": {
    "colab": {
     "base_uri": "https://localhost:8080/",
     "height": 353
    },
    "colab_type": "code",
    "executionInfo": {
     "elapsed": 1825140,
     "status": "ok",
     "timestamp": 1587471531755,
     "user": {
      "displayName": "Sridatta Marati",
      "photoUrl": "",
      "userId": "13444678406649845318"
     },
     "user_tz": -330
    },
    "id": "xxCclJUTYs2q",
    "outputId": "6bf6d25c-83aa-4c98-964c-00104ff5647d"
   },
   "outputs": [
    {
     "name": "stderr",
     "output_type": "stream",
     "text": [
      "/usr/local/lib/python3.6/dist-packages/tensorflow/python/framework/indexed_slices.py:434: UserWarning: Converting sparse IndexedSlices to a dense Tensor of unknown shape. This may consume a large amount of memory.\n",
      "  \"Converting sparse IndexedSlices to a dense Tensor of unknown shape. \"\n"
     ]
    },
    {
     "name": "stdout",
     "output_type": "stream",
     "text": [
      "Train on 1432350 samples, validate on 14469 samples\n",
      "Epoch 1/60\n",
      "1432350/1432350 [==============================] - 264s 184us/step - loss: 0.4421 - val_loss: 0.1803\n",
      "Epoch 2/60\n",
      "1432350/1432350 [==============================] - 261s 182us/step - loss: 0.1513 - val_loss: 0.1722\n",
      "Epoch 3/60\n",
      "1432350/1432350 [==============================] - 261s 182us/step - loss: 0.1194 - val_loss: 0.1733\n",
      "Epoch 4/60\n",
      "1432350/1432350 [==============================] - 257s 179us/step - loss: 0.0997 - val_loss: 0.1702\n",
      "Epoch 5/60\n",
      "1432350/1432350 [==============================] - 257s 179us/step - loss: 0.0862 - val_loss: 0.1739\n",
      "Epoch 6/60\n",
      "1432350/1432350 [==============================] - 259s 181us/step - loss: 0.0766 - val_loss: 0.1753\n",
      "Epoch 7/60\n",
      "1432350/1432350 [==============================] - 260s 182us/step - loss: 0.0692 - val_loss: 0.1819\n",
      "Epoch 00007: early stopping\n"
     ]
    },
    {
     "data": {
      "text/plain": [
       "<keras.callbacks.callbacks.History at 0x7f972048b5f8>"
      ]
     },
     "execution_count": 19,
     "metadata": {
      "tags": []
     },
     "output_type": "execute_result"
    }
   ],
   "source": [
    "# Create model and fit it with training dataset.\n",
    "from keras.callbacks import EarlyStopping\n",
    "earlyStop=EarlyStopping(monitor=\"val_loss\",verbose=1, mode='min', patience = 3)\n",
    "model_2.fit(x_tr, Y_train, epochs= 60 , batch_size= 512 * 3, validation_data = (x_te, Y_test), verbose=1, callbacks = [earlyStop])"
   ]
  },
  {
   "cell_type": "code",
   "execution_count": 0,
   "metadata": {
    "colab": {
     "base_uri": "https://localhost:8080/",
     "height": 33
    },
    "colab_type": "code",
    "executionInfo": {
     "elapsed": 2137,
     "status": "ok",
     "timestamp": 1587471952175,
     "user": {
      "displayName": "Sridatta Marati",
      "photoUrl": "",
      "userId": "13444678406649845318"
     },
     "user_tz": -330
    },
    "id": "brRjNRxxYukA",
    "outputId": "116b76c8-3651-4316-f21a-7ad9d623c805"
   },
   "outputs": [
    {
     "name": "stdout",
     "output_type": "stream",
     "text": [
      " RMSLE error: 0.426543858000284\n"
     ]
    }
   ],
   "source": [
    "y_pred = model_2.predict(x_te, batch_size=512 * 3)\n",
    "print(\" RMSLE error:\", rmsle(Y_test, y_pred))"
   ]
  },
  {
   "cell_type": "markdown",
   "metadata": {
    "colab_type": "text",
    "id": "YIWVaU6gQSmP"
   },
   "source": [
    "**Model 3: CNN, LSTM, Early Stopping (Patience = 5)**"
   ]
  },
  {
   "cell_type": "code",
   "execution_count": 15,
   "metadata": {
    "colab": {
     "base_uri": "https://localhost:8080/",
     "height": 1000
    },
    "colab_type": "code",
    "executionInfo": {
     "elapsed": 687123,
     "status": "ok",
     "timestamp": 1587541550591,
     "user": {
      "displayName": "Sridatta Marati",
      "photoUrl": "",
      "userId": "13444678406649845318"
     },
     "user_tz": -330
    },
    "id": "rxbwtgMrQSq-",
    "outputId": "ca80b641-e076-43a4-a08e-24b71d5def95"
   },
   "outputs": [
    {
     "name": "stdout",
     "output_type": "stream",
     "text": [
      "Model: \"model_2\"\n",
      "__________________________________________________________________________________________________\n",
      "Layer (type)                    Output Shape         Param #     Connected to                     \n",
      "==================================================================================================\n",
      "name (InputLayer)               (None, 10)           0                                            \n",
      "__________________________________________________________________________________________________\n",
      "item_desc (InputLayer)          (None, 70)           0                                            \n",
      "__________________________________________________________________________________________________\n",
      "embedding_16 (Embedding)        (None, 10, 10)       2554430     name[0][0]                       \n",
      "__________________________________________________________________________________________________\n",
      "embedding_17 (Embedding)        (None, 70, 70)       17881010    item_desc[0][0]                  \n",
      "__________________________________________________________________________________________________\n",
      "brand_name (InputLayer)         (None, 1)            0                                            \n",
      "__________________________________________________________________________________________________\n",
      "item_condition (InputLayer)     (None, 1)            0                                            \n",
      "__________________________________________________________________________________________________\n",
      "subcat_0 (InputLayer)           (None, 1)            0                                            \n",
      "__________________________________________________________________________________________________\n",
      "subcat_1 (InputLayer)           (None, 1)            0                                            \n",
      "__________________________________________________________________________________________________\n",
      "subcat_2 (InputLayer)           (None, 1)            0                                            \n",
      "__________________________________________________________________________________________________\n",
      "combined_text (InputLayer)      (None, 70)           0                                            \n",
      "__________________________________________________________________________________________________\n",
      "conv1d_5 (Conv1D)               (None, 10, 50)       550         embedding_16[0][0]               \n",
      "__________________________________________________________________________________________________\n",
      "conv1d_7 (Conv1D)               (None, 10, 50)       1050        embedding_16[0][0]               \n",
      "__________________________________________________________________________________________________\n",
      "conv1d_6 (Conv1D)               (None, 70, 50)       3550        embedding_17[0][0]               \n",
      "__________________________________________________________________________________________________\n",
      "conv1d_8 (Conv1D)               (None, 70, 50)       7050        embedding_17[0][0]               \n",
      "__________________________________________________________________________________________________\n",
      "embedding_14 (Embedding)        (None, 1, 10)        1654610     brand_name[0][0]                 \n",
      "__________________________________________________________________________________________________\n",
      "embedding_15 (Embedding)        (None, 1, 5)         30          item_condition[0][0]             \n",
      "__________________________________________________________________________________________________\n",
      "embedding_11 (Embedding)        (None, 1, 10)        120         subcat_0[0][0]                   \n",
      "__________________________________________________________________________________________________\n",
      "embedding_12 (Embedding)        (None, 1, 10)        1150        subcat_1[0][0]                   \n",
      "__________________________________________________________________________________________________\n",
      "embedding_13 (Embedding)        (None, 1, 10)        8840        subcat_2[0][0]                   \n",
      "__________________________________________________________________________________________________\n",
      "embedding_20 (Embedding)        (None, 70, 80)       20420000    combined_text[0][0]              \n",
      "__________________________________________________________________________________________________\n",
      "global_max_pooling1d_5 (GlobalM (None, 50)           0           conv1d_5[0][0]                   \n",
      "__________________________________________________________________________________________________\n",
      "global_max_pooling1d_7 (GlobalM (None, 50)           0           conv1d_7[0][0]                   \n",
      "__________________________________________________________________________________________________\n",
      "global_max_pooling1d_6 (GlobalM (None, 50)           0           conv1d_6[0][0]                   \n",
      "__________________________________________________________________________________________________\n",
      "global_max_pooling1d_8 (GlobalM (None, 50)           0           conv1d_8[0][0]                   \n",
      "__________________________________________________________________________________________________\n",
      "lstm_2 (LSTM)                   (None, 16)           1728        embedding_14[0][0]               \n",
      "__________________________________________________________________________________________________\n",
      "flatten_5 (Flatten)             (None, 5)            0           embedding_15[0][0]               \n",
      "__________________________________________________________________________________________________\n",
      "flatten_6 (Flatten)             (None, 10)           0           embedding_11[0][0]               \n",
      "__________________________________________________________________________________________________\n",
      "flatten_7 (Flatten)             (None, 10)           0           embedding_12[0][0]               \n",
      "__________________________________________________________________________________________________\n",
      "flatten_8 (Flatten)             (None, 10)           0           embedding_13[0][0]               \n",
      "__________________________________________________________________________________________________\n",
      "gru_2 (GRU)                     (None, 64)           27840       embedding_20[0][0]               \n",
      "__________________________________________________________________________________________________\n",
      "concatenate_4 (Concatenate)     (None, 100)          0           global_max_pooling1d_5[0][0]     \n",
      "                                                                 global_max_pooling1d_7[0][0]     \n",
      "__________________________________________________________________________________________________\n",
      "concatenate_5 (Concatenate)     (None, 100)          0           global_max_pooling1d_6[0][0]     \n",
      "                                                                 global_max_pooling1d_8[0][0]     \n",
      "__________________________________________________________________________________________________\n",
      "shipping (InputLayer)           (None, 1)            0                                            \n",
      "__________________________________________________________________________________________________\n",
      "concatenate_6 (Concatenate)     (None, 316)          0           lstm_2[0][0]                     \n",
      "                                                                 flatten_5[0][0]                  \n",
      "                                                                 flatten_6[0][0]                  \n",
      "                                                                 flatten_7[0][0]                  \n",
      "                                                                 flatten_8[0][0]                  \n",
      "                                                                 gru_2[0][0]                      \n",
      "                                                                 concatenate_4[0][0]              \n",
      "                                                                 concatenate_5[0][0]              \n",
      "                                                                 shipping[0][0]                   \n",
      "__________________________________________________________________________________________________\n",
      "dense_6 (Dense)                 (None, 192)          60864       concatenate_6[0][0]              \n",
      "__________________________________________________________________________________________________\n",
      "dropout_3 (Dropout)             (None, 192)          0           dense_6[0][0]                    \n",
      "__________________________________________________________________________________________________\n",
      "dense_7 (Dense)                 (None, 128)          24704       dropout_3[0][0]                  \n",
      "__________________________________________________________________________________________________\n",
      "batch_normalization_3 (BatchNor (None, 128)          512         dense_7[0][0]                    \n",
      "__________________________________________________________________________________________________\n",
      "dense_8 (Dense)                 (None, 64)           8256        batch_normalization_3[0][0]      \n",
      "__________________________________________________________________________________________________\n",
      "dropout_4 (Dropout)             (None, 64)           0           dense_8[0][0]                    \n",
      "__________________________________________________________________________________________________\n",
      "dense_9 (Dense)                 (None, 32)           2080        dropout_4[0][0]                  \n",
      "__________________________________________________________________________________________________\n",
      "batch_normalization_4 (BatchNor (None, 32)           128         dense_9[0][0]                    \n",
      "__________________________________________________________________________________________________\n",
      "dense_10 (Dense)                (None, 1)            33          batch_normalization_4[0][0]      \n",
      "==================================================================================================\n",
      "Total params: 42,658,535\n",
      "Trainable params: 42,658,215\n",
      "Non-trainable params: 320\n",
      "__________________________________________________________________________________________________\n"
     ]
    }
   ],
   "source": [
    "# Definign Inputs.\n",
    "subcat_0 = Input(shape=[1], name=\"subcat_0\")\n",
    "subcat_1 = Input(shape=[1], name=\"subcat_1\")\n",
    "subcat_2 = Input(shape=[1], name=\"subcat_2\")\n",
    "desc_len = Input(shape=[1], name=\"desc_len\")\n",
    "name_len = Input(shape=[1], name=\"name_len\")\n",
    "\n",
    "brand_name =Input(shape=[1], name=\"brand_name\")\n",
    "\n",
    "num_vars = Input(shape=[x_tr[\"shipping\"].shape[1]], name=\"shipping\")\n",
    "\n",
    "item_condition = Input(shape=[1], name=\"item_condition\")\n",
    "\n",
    "name = Input(shape=[x_tr[\"name\"].shape[1]], name=\"name\") # 15 shape = [15]\n",
    "item_desc = Input(shape=[x_tr[\"item_desc\"].shape[1]], name=\"item_desc\") # 80 shape = [80]\n",
    "combined_text = Input(shape=[x_tr[\"combined_text\"].shape[1]], name=\"combined_text\")\n",
    "\n",
    "sub0_emb = Embedding(max_len_sub0, 10)(subcat_0)\n",
    "sub1_emb = Embedding(max_len_sub1, 10)(subcat_1)\n",
    "sub2_emb = Embedding(max_len_sub2, 10)(subcat_2)\n",
    "\n",
    "brand_emb = Embedding(max_len_brand, 10)(brand_name)\n",
    "\n",
    "item_cond_emb = Embedding(max_len_condition, 5)(item_condition)\n",
    "\n",
    "name_emb = Embedding(max_len, 10)(name)\n",
    "item_desc_emb = Embedding(max_len, 70)(item_desc)\n",
    "\n",
    "desc_len_emb = Embedding(max_len_desc, 5)(desc_len)\n",
    "name_len_emb = Embedding(max_len_name, 5)(name_len)\n",
    "combined_len_emb  = Embedding(max_len_combined, 80)(combined_text)\n",
    "\n",
    "# Defining Lstm Layer for combined Text Data.\n",
    "gru_layer = GRU(64) (combined_len_emb)\n",
    "lstm_layer = LSTM(16) (brand_emb)\n",
    "\n",
    "convs1 = []\n",
    "convs2 = []\n",
    "\n",
    "for filter_length in [1,2]:\n",
    "  cnn_layer1 = Conv1D(filters=50, kernel_size=filter_length, padding='same', activation='relu', strides=1) (name_emb)\n",
    "  cnn_layer2 = Conv1D(filters=50, kernel_size=filter_length, padding='same', activation='relu', strides=1) (item_desc_emb)\n",
    "  maxpool1 = GlobalMaxPooling1D() (cnn_layer1)\n",
    "  maxpool2 = GlobalMaxPooling1D() (cnn_layer2)\n",
    "  convs1.append(maxpool1)\n",
    "  convs2.append(maxpool2)\n",
    "\n",
    "convs1 = concatenate(convs1)\n",
    "convs2 = concatenate(convs2)\n",
    "\n",
    "#flat_1 = Flatten() (brand_emb)\n",
    "flat_2 = Flatten() (item_cond_emb)\n",
    "flat_5 = Flatten() (sub0_emb)\n",
    "flat_6 = Flatten() (sub1_emb)\n",
    "flat_7 = Flatten() (sub2_emb)\n",
    "\n",
    "main_l = concatenate([lstm_layer, flat_2, flat_5, flat_6, flat_7,gru_layer, convs1, convs2,num_vars])\n",
    "\n",
    "main_l = Dropout(0.1)(Dense(192,kernel_initializer='normal',activation='relu') (main_l))\n",
    "main_l = BatchNormalization()(Dense(128,kernel_initializer='normal',activation='relu') (main_l))\n",
    "main_l = Dropout(0.1)(Dense(64,kernel_initializer='normal',activation='relu') (main_l))\n",
    "main_l = BatchNormalization()(Dense(32,kernel_initializer='normal',activation='relu') (main_l))\n",
    "\n",
    "# Set hyper parameters for the model.\n",
    "BATCH_SIZE = 512 * 3\n",
    "epochs = 2\n",
    "\n",
    "output = Dense(1, activation=\"linear\") (main_l)\n",
    "    \n",
    "model_3 = Model([name, item_desc, brand_name , desc_len,name_len, item_condition, combined_text,  subcat_0, subcat_1, subcat_2, num_vars ], output)\n",
    "\n",
    "optimizer = optimizers.Adam(lr = 0.005 )\n",
    "model_3.compile(loss = 'mse', optimizer = optimizer)\n",
    "\n",
    "model_3.summary()\n"
   ]
  },
  {
   "cell_type": "code",
   "execution_count": 16,
   "metadata": {
    "colab": {
     "base_uri": "https://localhost:8080/",
     "height": 471
    },
    "colab_type": "code",
    "executionInfo": {
     "elapsed": 699591,
     "status": "ok",
     "timestamp": 1587544060108,
     "user": {
      "displayName": "Sridatta Marati",
      "photoUrl": "",
      "userId": "13444678406649845318"
     },
     "user_tz": -330
    },
    "id": "4RhIiqyLQeoB",
    "outputId": "db16820f-89df-4c51-a26e-1a5f03df401d"
   },
   "outputs": [
    {
     "name": "stderr",
     "output_type": "stream",
     "text": [
      "/usr/local/lib/python3.6/dist-packages/tensorflow/python/framework/indexed_slices.py:434: UserWarning: Converting sparse IndexedSlices to a dense Tensor of unknown shape. This may consume a large amount of memory.\n",
      "  \"Converting sparse IndexedSlices to a dense Tensor of unknown shape. \"\n"
     ]
    },
    {
     "name": "stdout",
     "output_type": "stream",
     "text": [
      "Train on 1432350 samples, validate on 14469 samples\n",
      "Epoch 1/60\n",
      "1432350/1432350 [==============================] - 260s 182us/step - loss: 0.4368 - val_loss: 0.1841\n",
      "Epoch 2/60\n",
      "1432350/1432350 [==============================] - 251s 175us/step - loss: 0.1519 - val_loss: 0.1774\n",
      "Epoch 3/60\n",
      "1432350/1432350 [==============================] - 250s 175us/step - loss: 0.1236 - val_loss: 0.1757\n",
      "Epoch 4/60\n",
      "1432350/1432350 [==============================] - 250s 174us/step - loss: 0.1063 - val_loss: 0.1790\n",
      "Epoch 5/60\n",
      "1432350/1432350 [==============================] - 248s 173us/step - loss: 0.0944 - val_loss: 0.1740\n",
      "Epoch 6/60\n",
      "1432350/1432350 [==============================] - 247s 173us/step - loss: 0.0854 - val_loss: 0.1746\n",
      "Epoch 7/60\n",
      "1432350/1432350 [==============================] - 248s 173us/step - loss: 0.0782 - val_loss: 0.1772\n",
      "Epoch 8/60\n",
      "1432350/1432350 [==============================] - 249s 174us/step - loss: 0.0721 - val_loss: 0.1757\n",
      "Epoch 9/60\n",
      "1432350/1432350 [==============================] - 250s 175us/step - loss: 0.0677 - val_loss: 0.1818\n",
      "Epoch 10/60\n",
      "1432350/1432350 [==============================] - 250s 175us/step - loss: 0.0630 - val_loss: 0.1784\n",
      "Epoch 00010: early stopping\n"
     ]
    },
    {
     "data": {
      "text/plain": [
       "<keras.callbacks.callbacks.History at 0x7f945de00f98>"
      ]
     },
     "execution_count": 16,
     "metadata": {
      "tags": []
     },
     "output_type": "execute_result"
    }
   ],
   "source": [
    "# Create model and fit it with training dataset.\n",
    "from keras.callbacks import EarlyStopping\n",
    "earlyStop=EarlyStopping(monitor=\"val_loss\",verbose=1, mode='min', patience = 5)\n",
    "model_3.fit(x_tr, Y_train, epochs= 60 , batch_size= 512 * 3, validation_data = (x_te, Y_test), verbose=1, callbacks = [earlyStop])"
   ]
  },
  {
   "cell_type": "code",
   "execution_count": 17,
   "metadata": {
    "colab": {
     "base_uri": "https://localhost:8080/",
     "height": 35
    },
    "colab_type": "code",
    "executionInfo": {
     "elapsed": 543,
     "status": "ok",
     "timestamp": 1587544060630,
     "user": {
      "displayName": "Sridatta Marati",
      "photoUrl": "",
      "userId": "13444678406649845318"
     },
     "user_tz": -330
    },
    "id": "zTywrP7SQgxG",
    "outputId": "269c115b-8ce6-406b-fe4c-e6b0d581894d"
   },
   "outputs": [
    {
     "name": "stdout",
     "output_type": "stream",
     "text": [
      " RMSLE error: 0.4223680902635731\n"
     ]
    }
   ],
   "source": [
    "y_pred = model_3.predict(x_te, batch_size=512 * 3)\n",
    "print(\" RMSLE error:\", rmsle(Y_test, y_pred))"
   ]
  },
  {
   "cell_type": "markdown",
   "metadata": {
    "colab_type": "text",
    "id": "8O50wvIRQkwC"
   },
   "source": [
    "**Model 4: CNN, LSTM Running for 20 Epochs**"
   ]
  },
  {
   "cell_type": "code",
   "execution_count": 18,
   "metadata": {
    "colab": {
     "base_uri": "https://localhost:8080/",
     "height": 1000
    },
    "colab_type": "code",
    "executionInfo": {
     "elapsed": 499,
     "status": "ok",
     "timestamp": 1587544061119,
     "user": {
      "displayName": "Sridatta Marati",
      "photoUrl": "",
      "userId": "13444678406649845318"
     },
     "user_tz": -330
    },
    "id": "v2ibmqjYQkS3",
    "outputId": "fef9e35b-f55d-428d-88cc-37e831eddff6"
   },
   "outputs": [
    {
     "name": "stdout",
     "output_type": "stream",
     "text": [
      "Model: \"model_3\"\n",
      "__________________________________________________________________________________________________\n",
      "Layer (type)                    Output Shape         Param #     Connected to                     \n",
      "==================================================================================================\n",
      "name (InputLayer)               (None, 10)           0                                            \n",
      "__________________________________________________________________________________________________\n",
      "item_desc (InputLayer)          (None, 70)           0                                            \n",
      "__________________________________________________________________________________________________\n",
      "embedding_26 (Embedding)        (None, 10, 10)       2554430     name[0][0]                       \n",
      "__________________________________________________________________________________________________\n",
      "embedding_27 (Embedding)        (None, 70, 70)       17881010    item_desc[0][0]                  \n",
      "__________________________________________________________________________________________________\n",
      "brand_name (InputLayer)         (None, 1)            0                                            \n",
      "__________________________________________________________________________________________________\n",
      "item_condition (InputLayer)     (None, 1)            0                                            \n",
      "__________________________________________________________________________________________________\n",
      "subcat_0 (InputLayer)           (None, 1)            0                                            \n",
      "__________________________________________________________________________________________________\n",
      "subcat_1 (InputLayer)           (None, 1)            0                                            \n",
      "__________________________________________________________________________________________________\n",
      "subcat_2 (InputLayer)           (None, 1)            0                                            \n",
      "__________________________________________________________________________________________________\n",
      "combined_text (InputLayer)      (None, 70)           0                                            \n",
      "__________________________________________________________________________________________________\n",
      "conv1d_9 (Conv1D)               (None, 10, 50)       550         embedding_26[0][0]               \n",
      "__________________________________________________________________________________________________\n",
      "conv1d_11 (Conv1D)              (None, 10, 50)       1050        embedding_26[0][0]               \n",
      "__________________________________________________________________________________________________\n",
      "conv1d_10 (Conv1D)              (None, 70, 50)       3550        embedding_27[0][0]               \n",
      "__________________________________________________________________________________________________\n",
      "conv1d_12 (Conv1D)              (None, 70, 50)       7050        embedding_27[0][0]               \n",
      "__________________________________________________________________________________________________\n",
      "embedding_24 (Embedding)        (None, 1, 10)        1654610     brand_name[0][0]                 \n",
      "__________________________________________________________________________________________________\n",
      "embedding_25 (Embedding)        (None, 1, 5)         30          item_condition[0][0]             \n",
      "__________________________________________________________________________________________________\n",
      "embedding_21 (Embedding)        (None, 1, 10)        120         subcat_0[0][0]                   \n",
      "__________________________________________________________________________________________________\n",
      "embedding_22 (Embedding)        (None, 1, 10)        1150        subcat_1[0][0]                   \n",
      "__________________________________________________________________________________________________\n",
      "embedding_23 (Embedding)        (None, 1, 10)        8840        subcat_2[0][0]                   \n",
      "__________________________________________________________________________________________________\n",
      "embedding_30 (Embedding)        (None, 70, 80)       20420000    combined_text[0][0]              \n",
      "__________________________________________________________________________________________________\n",
      "global_max_pooling1d_9 (GlobalM (None, 50)           0           conv1d_9[0][0]                   \n",
      "__________________________________________________________________________________________________\n",
      "global_max_pooling1d_11 (Global (None, 50)           0           conv1d_11[0][0]                  \n",
      "__________________________________________________________________________________________________\n",
      "global_max_pooling1d_10 (Global (None, 50)           0           conv1d_10[0][0]                  \n",
      "__________________________________________________________________________________________________\n",
      "global_max_pooling1d_12 (Global (None, 50)           0           conv1d_12[0][0]                  \n",
      "__________________________________________________________________________________________________\n",
      "lstm_3 (LSTM)                   (None, 16)           1728        embedding_24[0][0]               \n",
      "__________________________________________________________________________________________________\n",
      "flatten_9 (Flatten)             (None, 5)            0           embedding_25[0][0]               \n",
      "__________________________________________________________________________________________________\n",
      "flatten_10 (Flatten)            (None, 10)           0           embedding_21[0][0]               \n",
      "__________________________________________________________________________________________________\n",
      "flatten_11 (Flatten)            (None, 10)           0           embedding_22[0][0]               \n",
      "__________________________________________________________________________________________________\n",
      "flatten_12 (Flatten)            (None, 10)           0           embedding_23[0][0]               \n",
      "__________________________________________________________________________________________________\n",
      "gru_3 (GRU)                     (None, 64)           27840       embedding_30[0][0]               \n",
      "__________________________________________________________________________________________________\n",
      "concatenate_7 (Concatenate)     (None, 100)          0           global_max_pooling1d_9[0][0]     \n",
      "                                                                 global_max_pooling1d_11[0][0]    \n",
      "__________________________________________________________________________________________________\n",
      "concatenate_8 (Concatenate)     (None, 100)          0           global_max_pooling1d_10[0][0]    \n",
      "                                                                 global_max_pooling1d_12[0][0]    \n",
      "__________________________________________________________________________________________________\n",
      "shipping (InputLayer)           (None, 1)            0                                            \n",
      "__________________________________________________________________________________________________\n",
      "concatenate_9 (Concatenate)     (None, 316)          0           lstm_3[0][0]                     \n",
      "                                                                 flatten_9[0][0]                  \n",
      "                                                                 flatten_10[0][0]                 \n",
      "                                                                 flatten_11[0][0]                 \n",
      "                                                                 flatten_12[0][0]                 \n",
      "                                                                 gru_3[0][0]                      \n",
      "                                                                 concatenate_7[0][0]              \n",
      "                                                                 concatenate_8[0][0]              \n",
      "                                                                 shipping[0][0]                   \n",
      "__________________________________________________________________________________________________\n",
      "dense_11 (Dense)                (None, 192)          60864       concatenate_9[0][0]              \n",
      "__________________________________________________________________________________________________\n",
      "dropout_5 (Dropout)             (None, 192)          0           dense_11[0][0]                   \n",
      "__________________________________________________________________________________________________\n",
      "dense_12 (Dense)                (None, 128)          24704       dropout_5[0][0]                  \n",
      "__________________________________________________________________________________________________\n",
      "batch_normalization_5 (BatchNor (None, 128)          512         dense_12[0][0]                   \n",
      "__________________________________________________________________________________________________\n",
      "dense_13 (Dense)                (None, 64)           8256        batch_normalization_5[0][0]      \n",
      "__________________________________________________________________________________________________\n",
      "dropout_6 (Dropout)             (None, 64)           0           dense_13[0][0]                   \n",
      "__________________________________________________________________________________________________\n",
      "dense_14 (Dense)                (None, 32)           2080        dropout_6[0][0]                  \n",
      "__________________________________________________________________________________________________\n",
      "batch_normalization_6 (BatchNor (None, 32)           128         dense_14[0][0]                   \n",
      "__________________________________________________________________________________________________\n",
      "dense_15 (Dense)                (None, 1)            33          batch_normalization_6[0][0]      \n",
      "==================================================================================================\n",
      "Total params: 42,658,535\n",
      "Trainable params: 42,658,215\n",
      "Non-trainable params: 320\n",
      "__________________________________________________________________________________________________\n"
     ]
    }
   ],
   "source": [
    "# Definign Inputs.\n",
    "subcat_0 = Input(shape=[1], name=\"subcat_0\")\n",
    "subcat_1 = Input(shape=[1], name=\"subcat_1\")\n",
    "subcat_2 = Input(shape=[1], name=\"subcat_2\")\n",
    "desc_len = Input(shape=[1], name=\"desc_len\")\n",
    "name_len = Input(shape=[1], name=\"name_len\")\n",
    "\n",
    "brand_name =Input(shape=[1], name=\"brand_name\")\n",
    "\n",
    "num_vars = Input(shape=[x_tr[\"shipping\"].shape[1]], name=\"shipping\")\n",
    "\n",
    "item_condition = Input(shape=[1], name=\"item_condition\")\n",
    "\n",
    "name = Input(shape=[x_tr[\"name\"].shape[1]], name=\"name\") # 15 shape = [15]\n",
    "item_desc = Input(shape=[x_tr[\"item_desc\"].shape[1]], name=\"item_desc\") # 80 shape = [80]\n",
    "combined_text = Input(shape=[x_tr[\"combined_text\"].shape[1]], name=\"combined_text\")\n",
    "\n",
    "sub0_emb = Embedding(max_len_sub0, 10)(subcat_0)\n",
    "sub1_emb = Embedding(max_len_sub1, 10)(subcat_1)\n",
    "sub2_emb = Embedding(max_len_sub2, 10)(subcat_2)\n",
    "\n",
    "brand_emb = Embedding(max_len_brand, 10)(brand_name)\n",
    "\n",
    "item_cond_emb = Embedding(max_len_condition, 5)(item_condition)\n",
    "\n",
    "name_emb = Embedding(max_len, 10)(name)\n",
    "item_desc_emb = Embedding(max_len, 70)(item_desc)\n",
    "\n",
    "desc_len_emb = Embedding(max_len_desc, 5)(desc_len)\n",
    "name_len_emb = Embedding(max_len_name, 5)(name_len)\n",
    "combined_len_emb  = Embedding(max_len_combined, 80)(combined_text)\n",
    "\n",
    "# Defining Lstm Layer for combined Text Data.\n",
    "gru_layer = GRU(64) (combined_len_emb)\n",
    "lstm_layer = LSTM(16) (brand_emb)\n",
    "\n",
    "convs1 = []\n",
    "convs2 = []\n",
    "\n",
    "for filter_length in [1,2]:\n",
    "  cnn_layer1 = Conv1D(filters=50, kernel_size=filter_length, padding='same', activation='relu', strides=1) (name_emb)\n",
    "  cnn_layer2 = Conv1D(filters=50, kernel_size=filter_length, padding='same', activation='relu', strides=1) (item_desc_emb)\n",
    "  maxpool1 = GlobalMaxPooling1D() (cnn_layer1)\n",
    "  maxpool2 = GlobalMaxPooling1D() (cnn_layer2)\n",
    "  convs1.append(maxpool1)\n",
    "  convs2.append(maxpool2)\n",
    "\n",
    "convs1 = concatenate(convs1)\n",
    "convs2 = concatenate(convs2)\n",
    "\n",
    "#flat_1 = Flatten() (brand_emb)\n",
    "flat_2 = Flatten() (item_cond_emb)\n",
    "flat_5 = Flatten() (sub0_emb)\n",
    "flat_6 = Flatten() (sub1_emb)\n",
    "flat_7 = Flatten() (sub2_emb)\n",
    "\n",
    "main_l = concatenate([lstm_layer, flat_2, flat_5, flat_6, flat_7,gru_layer, convs1, convs2,num_vars])\n",
    "\n",
    "main_l = Dropout(0.1)(Dense(192,kernel_initializer='normal',activation='relu') (main_l))\n",
    "main_l = BatchNormalization()(Dense(128,kernel_initializer='normal',activation='relu') (main_l))\n",
    "main_l = Dropout(0.1)(Dense(64,kernel_initializer='normal',activation='relu') (main_l))\n",
    "main_l = BatchNormalization()(Dense(32,kernel_initializer='normal',activation='relu') (main_l))\n",
    "\n",
    "# Set hyper parameters for the model.\n",
    "BATCH_SIZE = 512 * 3\n",
    "epochs = 2\n",
    "\n",
    "output = Dense(1, activation=\"linear\") (main_l)\n",
    "    \n",
    "model_4 = Model([name, item_desc, brand_name , desc_len,name_len, item_condition, combined_text,  subcat_0, subcat_1, subcat_2, num_vars ], output)\n",
    "\n",
    "optimizer = optimizers.Adam(lr = 0.005 )\n",
    "model_4.compile(loss = 'mse', optimizer = optimizer)\n",
    "\n",
    "model_4.summary()"
   ]
  },
  {
   "cell_type": "code",
   "execution_count": 19,
   "metadata": {
    "colab": {
     "base_uri": "https://localhost:8080/",
     "height": 800
    },
    "colab_type": "code",
    "executionInfo": {
     "elapsed": 5013126,
     "status": "ok",
     "timestamp": 1587549074236,
     "user": {
      "displayName": "Sridatta Marati",
      "photoUrl": "",
      "userId": "13444678406649845318"
     },
     "user_tz": -330
    },
    "id": "R4YFUhgKQuhD",
    "outputId": "b1213290-9f0d-4e3a-e7b6-9b7d30e69a2c"
   },
   "outputs": [
    {
     "name": "stderr",
     "output_type": "stream",
     "text": [
      "/usr/local/lib/python3.6/dist-packages/tensorflow/python/framework/indexed_slices.py:434: UserWarning: Converting sparse IndexedSlices to a dense Tensor of unknown shape. This may consume a large amount of memory.\n",
      "  \"Converting sparse IndexedSlices to a dense Tensor of unknown shape. \"\n"
     ]
    },
    {
     "name": "stdout",
     "output_type": "stream",
     "text": [
      "Train on 1432350 samples, validate on 14469 samples\n",
      "Epoch 1/20\n",
      "1432350/1432350 [==============================] - 252s 176us/step - loss: 0.4582 - val_loss: 0.1889\n",
      "Epoch 2/20\n",
      "1432350/1432350 [==============================] - 252s 176us/step - loss: 0.1579 - val_loss: 0.1791\n",
      "Epoch 3/20\n",
      "1432350/1432350 [==============================] - 250s 175us/step - loss: 0.1287 - val_loss: 0.1744\n",
      "Epoch 4/20\n",
      "1432350/1432350 [==============================] - 248s 173us/step - loss: 0.1108 - val_loss: 0.1752\n",
      "Epoch 5/20\n",
      "1432350/1432350 [==============================] - 248s 173us/step - loss: 0.0983 - val_loss: 0.1745\n",
      "Epoch 6/20\n",
      "1432350/1432350 [==============================] - 251s 175us/step - loss: 0.0889 - val_loss: 0.1831\n",
      "Epoch 7/20\n",
      "1432350/1432350 [==============================] - 250s 174us/step - loss: 0.0814 - val_loss: 0.1736\n",
      "Epoch 8/20\n",
      "1432350/1432350 [==============================] - 248s 173us/step - loss: 0.0756 - val_loss: 0.1753\n",
      "Epoch 9/20\n",
      "1432350/1432350 [==============================] - 248s 173us/step - loss: 0.0703 - val_loss: 0.1785\n",
      "Epoch 10/20\n",
      "1432350/1432350 [==============================] - 251s 175us/step - loss: 0.0655 - val_loss: 0.1795\n",
      "Epoch 11/20\n",
      "1432350/1432350 [==============================] - 250s 174us/step - loss: 0.0615 - val_loss: 0.1830\n",
      "Epoch 12/20\n",
      "1432350/1432350 [==============================] - 248s 173us/step - loss: 0.0581 - val_loss: 0.1828\n",
      "Epoch 13/20\n",
      "1432350/1432350 [==============================] - 250s 175us/step - loss: 0.0554 - val_loss: 0.1809\n",
      "Epoch 14/20\n",
      "1432350/1432350 [==============================] - 254s 177us/step - loss: 0.0525 - val_loss: 0.1858\n",
      "Epoch 15/20\n",
      "1432350/1432350 [==============================] - 252s 176us/step - loss: 0.0502 - val_loss: 0.1826\n",
      "Epoch 16/20\n",
      "1432350/1432350 [==============================] - 250s 174us/step - loss: 0.0479 - val_loss: 0.1864\n",
      "Epoch 17/20\n",
      "1432350/1432350 [==============================] - 250s 175us/step - loss: 0.0461 - val_loss: 0.1894\n",
      "Epoch 18/20\n",
      "1432350/1432350 [==============================] - 253s 177us/step - loss: 0.0443 - val_loss: 0.1909\n",
      "Epoch 19/20\n",
      "1432350/1432350 [==============================] - 253s 177us/step - loss: 0.0429 - val_loss: 0.1895\n",
      "Epoch 20/20\n",
      "1432350/1432350 [==============================] - 252s 176us/step - loss: 0.0417 - val_loss: 0.1888\n"
     ]
    },
    {
     "data": {
      "text/plain": [
       "<keras.callbacks.callbacks.History at 0x7f945c568f60>"
      ]
     },
     "execution_count": 19,
     "metadata": {
      "tags": []
     },
     "output_type": "execute_result"
    }
   ],
   "source": [
    "# Create model and fit it with training dataset.\n",
    "model_4.fit(x_tr, Y_train, epochs= 20 , batch_size= 512 * 3, validation_data = (x_te, Y_test), verbose=1)"
   ]
  },
  {
   "cell_type": "code",
   "execution_count": 20,
   "metadata": {
    "colab": {
     "base_uri": "https://localhost:8080/",
     "height": 35
    },
    "colab_type": "code",
    "executionInfo": {
     "elapsed": 1424,
     "status": "ok",
     "timestamp": 1587549075634,
     "user": {
      "displayName": "Sridatta Marati",
      "photoUrl": "",
      "userId": "13444678406649845318"
     },
     "user_tz": -330
    },
    "id": "uqhK7MzBQykP",
    "outputId": "99ac7fea-cf56-4268-9e95-b9b3c62e4d4f"
   },
   "outputs": [
    {
     "name": "stdout",
     "output_type": "stream",
     "text": [
      " RMSLE error: 0.4344567272750884\n"
     ]
    }
   ],
   "source": [
    "y_pred = model_4.predict(x_te, batch_size=512 * 3)\n",
    "print(\" RMSLE error:\", rmsle(Y_test, y_pred))"
   ]
  },
  {
   "cell_type": "markdown",
   "metadata": {
    "colab_type": "text",
    "id": "_v2ZI5YnVycR"
   },
   "source": [
    "## Running for the model with early stopping with patience = 5 and also with 20 epochs didn't imporve the Rmsle score."
   ]
  },
  {
   "cell_type": "code",
   "execution_count": 0,
   "metadata": {
    "colab": {
     "base_uri": "https://localhost:8080/",
     "height": 150
    },
    "colab_type": "code",
    "executionInfo": {
     "elapsed": 2061,
     "status": "ok",
     "timestamp": 1587471958585,
     "user": {
      "displayName": "Sridatta Marati",
      "photoUrl": "",
      "userId": "13444678406649845318"
     },
     "user_tz": -330
    },
    "id": "cNJIkUo96E00",
    "outputId": "bb29ac20-3deb-4176-c9c4-1268ae8fb944"
   },
   "outputs": [
    {
     "name": "stdout",
     "output_type": "stream",
     "text": [
      "+----------------------+-------------+\n",
      "|        Model         | Rmsle Error |\n",
      "+----------------------+-------------+\n",
      "|         LSTM         |     0.42    |\n",
      "|        CNN'S         |     0.42    |\n",
      "| LSTM,CNN'S with Test |     0.41    |\n",
      "| LSTM, CNN Early Stop |     0.42    |\n",
      "+----------------------+-------------+\n"
     ]
    }
   ],
   "source": [
    "from prettytable import PrettyTable\n",
    "x = PrettyTable()\n",
    "x.field_names = [\"Model\", \"Rmsle Error\"]\n",
    "x.add_row([\"LSTM\", 0.42])\n",
    "x.add_row([\"CNN'S\", 0.42])\n",
    "x.add_row([\"LSTM,CNN'S with Test\", 0.41])\n",
    "x.add_row([\"LSTM, CNN Early Stop\", 0.42])\n",
    "\n",
    "print(x)"
   ]
  },
  {
   "cell_type": "markdown",
   "metadata": {
    "colab_type": "text",
    "id": "QXDLScnmwrUJ"
   },
   "source": [
    "# **Kaggle ScreenShots**"
   ]
  },
  {
   "cell_type": "code",
   "execution_count": 0,
   "metadata": {
    "colab": {
     "base_uri": "https://localhost:8080/",
     "height": 398
    },
    "colab_type": "code",
    "executionInfo": {
     "elapsed": 2038,
     "status": "ok",
     "timestamp": 1587472885054,
     "user": {
      "displayName": "Sridatta Marati",
      "photoUrl": "",
      "userId": "13444678406649845318"
     },
     "user_tz": -330
    },
    "id": "-xLSikq1wXtl",
    "outputId": "f4448e54-42ef-44a7-a2bd-8a7bba3aab32"
   },
   "outputs": [
    {
     "data": {
      "image/png": "[encoded data removed]",
      "text/plain": [
       "<PIL.PngImagePlugin.PngImageFile image mode=RGBA size=1368x381 at 0x7F972006F320>"
      ]
     },
     "execution_count": 22,
     "metadata": {
      "tags": []
     },
     "output_type": "execute_result"
    }
   ],
   "source": [
    "from PIL import Image\n",
    "jpgfile = Image.open(\"/content/all_scores.PNG\")\n",
    "jpgfile"
   ]
  },
  {
   "cell_type": "markdown",
   "metadata": {
    "colab_type": "text",
    "id": "QPCilb9uI3EY"
   },
   "source": [
    "**CNN WITH LSTM**"
   ]
  },
  {
   "cell_type": "code",
   "execution_count": 0,
   "metadata": {
    "colab": {
     "base_uri": "https://localhost:8080/",
     "height": 316
    },
    "colab_type": "code",
    "executionInfo": {
     "elapsed": 1619,
     "status": "ok",
     "timestamp": 1587009365208,
     "user": {
      "displayName": "Sridatta Marati",
      "photoUrl": "",
      "userId": "13444678406649845318"
     },
     "user_tz": -330
    },
    "id": "DjIqRK1tHLPm",
    "outputId": "8e665434-6503-43f6-b3bc-9dd5218990da"
   },
   "outputs": [
    {
     "data": {
      "image/png": "[encoded data removed]",
      "text/plain": [
       "<PIL.PngImagePlugin.PngImageFile image mode=RGBA size=1392x353 at 0x7F45BDA8A630>"
      ]
     },
     "execution_count": 4,
     "metadata": {
      "tags": []
     },
     "output_type": "execute_result"
    }
   ],
   "source": [
    "from PIL import Image\n",
    "jpgfile = Image.open(\"/content/cnnlstm.PNG\")\n",
    "jpgfile\n"
   ]
  },
  {
   "cell_type": "markdown",
   "metadata": {
    "colab_type": "text",
    "id": "wRokR8IyI8gy"
   },
   "source": [
    "**Cnn combined with Lstm Improved score from 0.44 to 0.43**"
   ]
  },
  {
   "cell_type": "markdown",
   "metadata": {
    "colab_type": "text",
    "id": "zd48fY-kv9ot"
   },
   "source": [
    "**CNN, LSTM Implemting :Early Stopping**"
   ]
  },
  {
   "cell_type": "code",
   "execution_count": 0,
   "metadata": {
    "colab": {
     "base_uri": "https://localhost:8080/",
     "height": 193
    },
    "colab_type": "code",
    "executionInfo": {
     "elapsed": 1312,
     "status": "ok",
     "timestamp": 1587468307484,
     "user": {
      "displayName": "Sridatta Marati",
      "photoUrl": "",
      "userId": "13444678406649845318"
     },
     "user_tz": -330
    },
    "id": "p4-5_UOEZW8r",
    "outputId": "a53f83c0-bcc3-471a-9934-7ea97d6d49fb"
   },
   "outputs": [
    {
     "data": {
      "image/png": "[encoded data removed]",
      "text/plain": [
       "<PIL.PngImagePlugin.PngImageFile image mode=RGBA size=1202x176 at 0x7F97786251D0>"
      ]
     },
     "execution_count": 17,
     "metadata": {
      "tags": []
     },
     "output_type": "execute_result"
    }
   ],
   "source": [
    "# CNN, LSTM with Early Stopping.\n",
    "from PIL import Image\n",
    "jpgfile = Image.open(\"/content/lstm_cnn_early_stop.PNG\")\n",
    "jpgfile"
   ]
  },
  {
   "cell_type": "code",
   "execution_count": 0,
   "metadata": {
    "colab": {
     "base_uri": "https://localhost:8080/",
     "height": 250
    },
    "colab_type": "code",
    "executionInfo": {
     "elapsed": 1562,
     "status": "ok",
     "timestamp": 1587472911407,
     "user": {
      "displayName": "Sridatta Marati",
      "photoUrl": "",
      "userId": "13444678406649845318"
     },
     "user_tz": -330
    },
    "id": "Jv5N9ztIwkAk",
    "outputId": "767b5ef7-8076-4288-c536-89d72a1e9f1f"
   },
   "outputs": [
    {
     "name": "stdout",
     "output_type": "stream",
     "text": [
      "+-------------------------+-------------+\n",
      "|          Model          | Rmsle Error |\n",
      "+-------------------------+-------------+\n",
      "|           SVR           |     0.47    |\n",
      "|    Decision Tree Reg    |     0.56    |\n",
      "|         SGD Reg         |     0.47    |\n",
      "|        Ridge Reg        |     0.47    |\n",
      "|       Ridge Reg Cv      |     0.44    |\n",
      "|  Ensemble : Voting Reg  |     0.44    |\n",
      "| Ensemble : Stacking Reg |     0.52    |\n",
      "|         2x LSTM         |     0.42    |\n",
      "|          2x CNN         |     0.42    |\n",
      "|      1x LSTM 2x CNN     |     0.41    |\n",
      "+-------------------------+-------------+\n"
     ]
    }
   ],
   "source": [
    "from prettytable import PrettyTable\n",
    "x = PrettyTable()\n",
    "x.field_names = [\"Model\", \"Rmsle Error\"]\n",
    "x.add_row([\"SVR\", 0.47])\n",
    "x.add_row([\"Decision Tree Reg\", 0.56])\n",
    "x.add_row([\"SGD Reg\", 0.47])\n",
    "x.add_row([\"Ridge Reg\", 0.47])\n",
    "x.add_row([\"Ridge Reg Cv\", 0.44])\n",
    "x.add_row([\"Ensemble : Voting Reg\", 0.44])\n",
    "x.add_row([\"Ensemble : Stacking Reg\", 0.52])\n",
    "x.add_row([\"2x LSTM\", 0.42])\n",
    "x.add_row([\"2x CNN\", 0.42])\n",
    "x.add_row([\"1x LSTM 2x CNN\", 0.41])\n",
    "print(x)"
   ]
  },
  {
   "cell_type": "markdown",
   "metadata": {
    "colab_type": "text",
    "id": "RX1J42apw3VL"
   },
   "source": [
    "# **Observation:**"
   ]
  },
  {
   "cell_type": "markdown",
   "metadata": {
    "colab_type": "text",
    "id": "fJWzh_cztEYO"
   },
   "source": [
    "**On Implementing Early Stopping the Model Didn't improve any better.** <br>**Running the model with early stopping with patience = 5 and also with 20 epochs didn't imporve the Rmsle score.**<br>\n",
    "**With 20 epochs the RMSLE score is 0.43 and with Early Stopping patience = 5, Rmsle = 0.42**\n"
   ]
  }
 ],
 "metadata": {
  "accelerator": "GPU",
  "colab": {
   "collapsed_sections": [
    "x4tm1HQXZ7iL",
    "WHJMTWKUWo0G",
    "hXV1Dmy3ucmk",
    "nwTP_tkVxhjZ",
    "BKmt-JFWxq2S"
   ],
   "machine_shape": "hm",
   "name": "executed_ens.ipynb",
   "provenance": [
    {
     "file_id": "1fr3d4mbTn3UALE18xbnteq8h4j8tIXMp",
     "timestamp": 1586159574462
    }
   ]
  },
  "kernelspec": {
   "display_name": "Python 3",
   "language": "python",
   "name": "python3"
  },
  "language_info": {
   "codemirror_mode": {
    "name": "ipython",
    "version": 3
   },
   "file_extension": ".py",
   "mimetype": "text/x-python",
   "name": "python",
   "nbconvert_exporter": "python",
   "pygments_lexer": "ipython3",
   "version": "3.6.5"
  },
  "nbpresent": {
   "slides": {
    "1930766c-f093-4ef9-a29f-42b62342947c": {
     "id": "1930766c-f093-4ef9-a29f-42b62342947c",
     "layout": "grid",
     "prev": null,
     "regions": {
      "7d16a2ec-322e-4eae-9756-eeb94159cdc0": {
       "attrs": {
        "height": 1,
        "pad": 0.01,
        "treemap:weight": 1,
        "width": 0.5,
        "x": 0.5,
        "y": 0
       },
       "id": "7d16a2ec-322e-4eae-9756-eeb94159cdc0"
      },
      "89c77520-061c-4da1-b69a-663326a4609d": {
       "attrs": {
        "height": 1,
        "pad": 0.01,
        "treemap:weight": 1,
        "width": 0.5,
        "x": 0,
        "y": 0
       },
       "id": "89c77520-061c-4da1-b69a-663326a4609d"
      }
     }
    }
   },
   "themes": {}
  }
 },
 "nbformat": 4,
 "nbformat_minor": 1
}
